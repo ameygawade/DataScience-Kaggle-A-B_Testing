{
 "cells": [
  {
   "cell_type": "code",
   "execution_count": 1,
   "id": "0bc042e5",
   "metadata": {
    "_cell_guid": "b1076dfc-b9ad-4769-8c92-a6c4dae69d19",
    "_uuid": "8f2839f25d086af736a60e9eeb907d3b93b6e0e5",
    "execution": {
     "iopub.execute_input": "2024-12-10T01:33:50.273722Z",
     "iopub.status.busy": "2024-12-10T01:33:50.273274Z",
     "iopub.status.idle": "2024-12-10T01:33:51.043429Z",
     "shell.execute_reply": "2024-12-10T01:33:51.042336Z"
    },
    "papermill": {
     "duration": 0.788074,
     "end_time": "2024-12-10T01:33:51.045771",
     "exception": false,
     "start_time": "2024-12-10T01:33:50.257697",
     "status": "completed"
    },
    "tags": []
   },
   "outputs": [
    {
     "name": "stdout",
     "output_type": "stream",
     "text": [
      "/kaggle/input/ab-testing-dataset/test_group.csv\n",
      "/kaggle/input/ab-testing-dataset/control_group.csv\n"
     ]
    }
   ],
   "source": [
    "# This Python 3 environment comes with many helpful analytics libraries installed\n",
    "# It is defined by the kaggle/python Docker image: https://github.com/kaggle/docker-python\n",
    "# For example, here's several helpful packages to load\n",
    "\n",
    "import numpy as np # linear algebra\n",
    "import pandas as pd # data processing, CSV file I/O (e.g. pd.read_csv)\n",
    "\n",
    "# Input data files are available in the read-only \"../input/\" directory\n",
    "# For example, running this (by clicking run or pressing Shift+Enter) will list all files under the input directory\n",
    "\n",
    "import os\n",
    "for dirname, _, filenames in os.walk('/kaggle/input'):\n",
    "    for filename in filenames:\n",
    "        print(os.path.join(dirname, filename))\n",
    "\n",
    "# You can write up to 20GB to the current directory (/kaggle/working/) that gets preserved as output when you create a version using \"Save & Run All\" \n",
    "# You can also write temporary files to /kaggle/temp/, but they won't be saved outside of the current session"
   ]
  },
  {
   "cell_type": "markdown",
   "id": "21fcaf66",
   "metadata": {
    "papermill": {
     "duration": 0.011603,
     "end_time": "2024-12-10T01:33:51.071058",
     "exception": false,
     "start_time": "2024-12-10T01:33:51.059455",
     "status": "completed"
    },
    "tags": []
   },
   "source": [
    "## Objective"
   ]
  },
  {
   "cell_type": "markdown",
   "id": "a1cfd30e",
   "metadata": {
    "papermill": {
     "duration": 0.01153,
     "end_time": "2024-12-10T01:33:51.094182",
     "exception": false,
     "start_time": "2024-12-10T01:33:51.082652",
     "status": "completed"
    },
    "tags": []
   },
   "source": [
    "To determine which campaign (Control vs. Test) performs better in driving user engagement and conversions.Develop a framework to evaluate the effectiveness of marketing strategies by conducting A/B testing on user engagement metrics such as click-through rates (CTR) and conversion rates."
   ]
  },
  {
   "cell_type": "markdown",
   "id": "37776f8a",
   "metadata": {
    "papermill": {
     "duration": 0.011357,
     "end_time": "2024-12-10T01:33:51.117306",
     "exception": false,
     "start_time": "2024-12-10T01:33:51.105949",
     "status": "completed"
    },
    "tags": []
   },
   "source": [
    "## Step-1: Data Loading and cleaning"
   ]
  },
  {
   "cell_type": "code",
   "execution_count": 2,
   "id": "2d544a6a",
   "metadata": {
    "execution": {
     "iopub.execute_input": "2024-12-10T01:33:51.142464Z",
     "iopub.status.busy": "2024-12-10T01:33:51.141930Z",
     "iopub.status.idle": "2024-12-10T01:33:51.162054Z",
     "shell.execute_reply": "2024-12-10T01:33:51.161226Z"
    },
    "papermill": {
     "duration": 0.035305,
     "end_time": "2024-12-10T01:33:51.164268",
     "exception": false,
     "start_time": "2024-12-10T01:33:51.128963",
     "status": "completed"
    },
    "tags": []
   },
   "outputs": [],
   "source": [
    "df_control_gp = pd.read_csv(\"/kaggle/input/ab-testing-dataset/control_group.csv\",sep=\";\")\n",
    "df_test_gp = pd.read_csv(\"/kaggle/input/ab-testing-dataset/test_group.csv\",sep=\";\")"
   ]
  },
  {
   "cell_type": "markdown",
   "id": "571cc091",
   "metadata": {
    "papermill": {
     "duration": 0.011575,
     "end_time": "2024-12-10T01:33:51.187930",
     "exception": false,
     "start_time": "2024-12-10T01:33:51.176355",
     "status": "completed"
    },
    "tags": []
   },
   "source": [
    "### Control group dataset"
   ]
  },
  {
   "cell_type": "code",
   "execution_count": 3,
   "id": "2d13bf0b",
   "metadata": {
    "execution": {
     "iopub.execute_input": "2024-12-10T01:33:51.215870Z",
     "iopub.status.busy": "2024-12-10T01:33:51.215080Z",
     "iopub.status.idle": "2024-12-10T01:33:51.222343Z",
     "shell.execute_reply": "2024-12-10T01:33:51.221351Z"
    },
    "papermill": {
     "duration": 0.022492,
     "end_time": "2024-12-10T01:33:51.224334",
     "exception": false,
     "start_time": "2024-12-10T01:33:51.201842",
     "status": "completed"
    },
    "tags": []
   },
   "outputs": [
    {
     "data": {
      "text/plain": [
       "(30, 10)"
      ]
     },
     "execution_count": 3,
     "metadata": {},
     "output_type": "execute_result"
    }
   ],
   "source": [
    "df_control_gp.shape"
   ]
  },
  {
   "cell_type": "code",
   "execution_count": 4,
   "id": "a99e2b85",
   "metadata": {
    "execution": {
     "iopub.execute_input": "2024-12-10T01:33:51.249404Z",
     "iopub.status.busy": "2024-12-10T01:33:51.248593Z",
     "iopub.status.idle": "2024-12-10T01:33:51.277000Z",
     "shell.execute_reply": "2024-12-10T01:33:51.275929Z"
    },
    "papermill": {
     "duration": 0.043307,
     "end_time": "2024-12-10T01:33:51.279079",
     "exception": false,
     "start_time": "2024-12-10T01:33:51.235772",
     "status": "completed"
    },
    "tags": []
   },
   "outputs": [
    {
     "name": "stdout",
     "output_type": "stream",
     "text": [
      "<class 'pandas.core.frame.DataFrame'>\n",
      "RangeIndex: 30 entries, 0 to 29\n",
      "Data columns (total 10 columns):\n",
      " #   Column               Non-Null Count  Dtype  \n",
      "---  ------               --------------  -----  \n",
      " 0   Campaign Name        30 non-null     object \n",
      " 1   Date                 30 non-null     object \n",
      " 2   Spend [USD]          30 non-null     int64  \n",
      " 3   # of Impressions     29 non-null     float64\n",
      " 4   Reach                29 non-null     float64\n",
      " 5   # of Website Clicks  29 non-null     float64\n",
      " 6   # of Searches        29 non-null     float64\n",
      " 7   # of View Content    29 non-null     float64\n",
      " 8   # of Add to Cart     29 non-null     float64\n",
      " 9   # of Purchase        29 non-null     float64\n",
      "dtypes: float64(7), int64(1), object(2)\n",
      "memory usage: 2.5+ KB\n"
     ]
    }
   ],
   "source": [
    "df_control_gp.info()"
   ]
  },
  {
   "cell_type": "markdown",
   "id": "609ed267",
   "metadata": {
    "papermill": {
     "duration": 0.011343,
     "end_time": "2024-12-10T01:33:51.301886",
     "exception": false,
     "start_time": "2024-12-10T01:33:51.290543",
     "status": "completed"
    },
    "tags": []
   },
   "source": [
    "#### Indentifying Null and missing values "
   ]
  },
  {
   "cell_type": "code",
   "execution_count": 5,
   "id": "ca5f46ab",
   "metadata": {
    "execution": {
     "iopub.execute_input": "2024-12-10T01:33:51.327194Z",
     "iopub.status.busy": "2024-12-10T01:33:51.326431Z",
     "iopub.status.idle": "2024-12-10T01:33:51.333841Z",
     "shell.execute_reply": "2024-12-10T01:33:51.332963Z"
    },
    "papermill": {
     "duration": 0.022572,
     "end_time": "2024-12-10T01:33:51.335873",
     "exception": false,
     "start_time": "2024-12-10T01:33:51.313301",
     "status": "completed"
    },
    "tags": []
   },
   "outputs": [
    {
     "data": {
      "text/plain": [
       "Campaign Name          0\n",
       "Date                   0\n",
       "Spend [USD]            0\n",
       "# of Impressions       1\n",
       "Reach                  1\n",
       "# of Website Clicks    1\n",
       "# of Searches          1\n",
       "# of View Content      1\n",
       "# of Add to Cart       1\n",
       "# of Purchase          1\n",
       "dtype: int64"
      ]
     },
     "execution_count": 5,
     "metadata": {},
     "output_type": "execute_result"
    }
   ],
   "source": [
    "df_control_gp.isna().sum()"
   ]
  },
  {
   "cell_type": "markdown",
   "id": "d48a0817",
   "metadata": {
    "papermill": {
     "duration": 0.011247,
     "end_time": "2024-12-10T01:33:51.358948",
     "exception": false,
     "start_time": "2024-12-10T01:33:51.347701",
     "status": "completed"
    },
    "tags": []
   },
   "source": [
    "#### Display rows with any Null values"
   ]
  },
  {
   "cell_type": "code",
   "execution_count": 6,
   "id": "873a773e",
   "metadata": {
    "execution": {
     "iopub.execute_input": "2024-12-10T01:33:51.383985Z",
     "iopub.status.busy": "2024-12-10T01:33:51.383651Z",
     "iopub.status.idle": "2024-12-10T01:33:51.403022Z",
     "shell.execute_reply": "2024-12-10T01:33:51.401996Z"
    },
    "papermill": {
     "duration": 0.034101,
     "end_time": "2024-12-10T01:33:51.404725",
     "exception": false,
     "start_time": "2024-12-10T01:33:51.370624",
     "status": "completed"
    },
    "tags": []
   },
   "outputs": [
    {
     "data": {
      "text/html": [
       "<div>\n",
       "<style scoped>\n",
       "    .dataframe tbody tr th:only-of-type {\n",
       "        vertical-align: middle;\n",
       "    }\n",
       "\n",
       "    .dataframe tbody tr th {\n",
       "        vertical-align: top;\n",
       "    }\n",
       "\n",
       "    .dataframe thead th {\n",
       "        text-align: right;\n",
       "    }\n",
       "</style>\n",
       "<table border=\"1\" class=\"dataframe\">\n",
       "  <thead>\n",
       "    <tr style=\"text-align: right;\">\n",
       "      <th></th>\n",
       "      <th>Campaign Name</th>\n",
       "      <th>Date</th>\n",
       "      <th>Spend [USD]</th>\n",
       "      <th># of Impressions</th>\n",
       "      <th>Reach</th>\n",
       "      <th># of Website Clicks</th>\n",
       "      <th># of Searches</th>\n",
       "      <th># of View Content</th>\n",
       "      <th># of Add to Cart</th>\n",
       "      <th># of Purchase</th>\n",
       "    </tr>\n",
       "  </thead>\n",
       "  <tbody>\n",
       "    <tr>\n",
       "      <th>4</th>\n",
       "      <td>Control Campaign</td>\n",
       "      <td>5.08.2019</td>\n",
       "      <td>1835</td>\n",
       "      <td>NaN</td>\n",
       "      <td>NaN</td>\n",
       "      <td>NaN</td>\n",
       "      <td>NaN</td>\n",
       "      <td>NaN</td>\n",
       "      <td>NaN</td>\n",
       "      <td>NaN</td>\n",
       "    </tr>\n",
       "  </tbody>\n",
       "</table>\n",
       "</div>"
      ],
      "text/plain": [
       "      Campaign Name       Date  Spend [USD]  # of Impressions  Reach  \\\n",
       "4  Control Campaign  5.08.2019         1835               NaN    NaN   \n",
       "\n",
       "   # of Website Clicks  # of Searches  # of View Content  # of Add to Cart  \\\n",
       "4                  NaN            NaN                NaN               NaN   \n",
       "\n",
       "   # of Purchase  \n",
       "4            NaN  "
      ]
     },
     "execution_count": 6,
     "metadata": {},
     "output_type": "execute_result"
    }
   ],
   "source": [
    "df_control_gp[df_control_gp.isna().any(axis=1)]"
   ]
  },
  {
   "cell_type": "markdown",
   "id": "75223dec",
   "metadata": {
    "papermill": {
     "duration": 0.012138,
     "end_time": "2024-12-10T01:33:51.429089",
     "exception": false,
     "start_time": "2024-12-10T01:33:51.416951",
     "status": "completed"
    },
    "tags": []
   },
   "source": [
    "As the row doesn't provide any useful data, we can drop it"
   ]
  },
  {
   "cell_type": "code",
   "execution_count": 7,
   "id": "f7ba4b93",
   "metadata": {
    "execution": {
     "iopub.execute_input": "2024-12-10T01:33:51.455239Z",
     "iopub.status.busy": "2024-12-10T01:33:51.454317Z",
     "iopub.status.idle": "2024-12-10T01:33:51.461963Z",
     "shell.execute_reply": "2024-12-10T01:33:51.461065Z"
    },
    "papermill": {
     "duration": 0.022467,
     "end_time": "2024-12-10T01:33:51.463687",
     "exception": false,
     "start_time": "2024-12-10T01:33:51.441220",
     "status": "completed"
    },
    "tags": []
   },
   "outputs": [],
   "source": [
    "df_control_gp.dropna(inplace=True)"
   ]
  },
  {
   "cell_type": "code",
   "execution_count": 8,
   "id": "7cc4ec2f",
   "metadata": {
    "execution": {
     "iopub.execute_input": "2024-12-10T01:33:51.488592Z",
     "iopub.status.busy": "2024-12-10T01:33:51.488240Z",
     "iopub.status.idle": "2024-12-10T01:33:51.503303Z",
     "shell.execute_reply": "2024-12-10T01:33:51.502321Z"
    },
    "papermill": {
     "duration": 0.029743,
     "end_time": "2024-12-10T01:33:51.505176",
     "exception": false,
     "start_time": "2024-12-10T01:33:51.475433",
     "status": "completed"
    },
    "tags": []
   },
   "outputs": [
    {
     "data": {
      "text/html": [
       "<div>\n",
       "<style scoped>\n",
       "    .dataframe tbody tr th:only-of-type {\n",
       "        vertical-align: middle;\n",
       "    }\n",
       "\n",
       "    .dataframe tbody tr th {\n",
       "        vertical-align: top;\n",
       "    }\n",
       "\n",
       "    .dataframe thead th {\n",
       "        text-align: right;\n",
       "    }\n",
       "</style>\n",
       "<table border=\"1\" class=\"dataframe\">\n",
       "  <thead>\n",
       "    <tr style=\"text-align: right;\">\n",
       "      <th></th>\n",
       "      <th>Campaign Name</th>\n",
       "      <th>Date</th>\n",
       "      <th>Spend [USD]</th>\n",
       "      <th># of Impressions</th>\n",
       "      <th>Reach</th>\n",
       "      <th># of Website Clicks</th>\n",
       "      <th># of Searches</th>\n",
       "      <th># of View Content</th>\n",
       "      <th># of Add to Cart</th>\n",
       "      <th># of Purchase</th>\n",
       "    </tr>\n",
       "  </thead>\n",
       "  <tbody>\n",
       "    <tr>\n",
       "      <th>0</th>\n",
       "      <td>Control Campaign</td>\n",
       "      <td>1.08.2019</td>\n",
       "      <td>2280</td>\n",
       "      <td>82702.0</td>\n",
       "      <td>56930.0</td>\n",
       "      <td>7016.0</td>\n",
       "      <td>2290.0</td>\n",
       "      <td>2159.0</td>\n",
       "      <td>1819.0</td>\n",
       "      <td>618.0</td>\n",
       "    </tr>\n",
       "    <tr>\n",
       "      <th>1</th>\n",
       "      <td>Control Campaign</td>\n",
       "      <td>2.08.2019</td>\n",
       "      <td>1757</td>\n",
       "      <td>121040.0</td>\n",
       "      <td>102513.0</td>\n",
       "      <td>8110.0</td>\n",
       "      <td>2033.0</td>\n",
       "      <td>1841.0</td>\n",
       "      <td>1219.0</td>\n",
       "      <td>511.0</td>\n",
       "    </tr>\n",
       "    <tr>\n",
       "      <th>2</th>\n",
       "      <td>Control Campaign</td>\n",
       "      <td>3.08.2019</td>\n",
       "      <td>2343</td>\n",
       "      <td>131711.0</td>\n",
       "      <td>110862.0</td>\n",
       "      <td>6508.0</td>\n",
       "      <td>1737.0</td>\n",
       "      <td>1549.0</td>\n",
       "      <td>1134.0</td>\n",
       "      <td>372.0</td>\n",
       "    </tr>\n",
       "    <tr>\n",
       "      <th>3</th>\n",
       "      <td>Control Campaign</td>\n",
       "      <td>4.08.2019</td>\n",
       "      <td>1940</td>\n",
       "      <td>72878.0</td>\n",
       "      <td>61235.0</td>\n",
       "      <td>3065.0</td>\n",
       "      <td>1042.0</td>\n",
       "      <td>982.0</td>\n",
       "      <td>1183.0</td>\n",
       "      <td>340.0</td>\n",
       "    </tr>\n",
       "    <tr>\n",
       "      <th>5</th>\n",
       "      <td>Control Campaign</td>\n",
       "      <td>6.08.2019</td>\n",
       "      <td>3083</td>\n",
       "      <td>109076.0</td>\n",
       "      <td>87998.0</td>\n",
       "      <td>4028.0</td>\n",
       "      <td>1709.0</td>\n",
       "      <td>1249.0</td>\n",
       "      <td>784.0</td>\n",
       "      <td>764.0</td>\n",
       "    </tr>\n",
       "  </tbody>\n",
       "</table>\n",
       "</div>"
      ],
      "text/plain": [
       "      Campaign Name       Date  Spend [USD]  # of Impressions     Reach  \\\n",
       "0  Control Campaign  1.08.2019         2280           82702.0   56930.0   \n",
       "1  Control Campaign  2.08.2019         1757          121040.0  102513.0   \n",
       "2  Control Campaign  3.08.2019         2343          131711.0  110862.0   \n",
       "3  Control Campaign  4.08.2019         1940           72878.0   61235.0   \n",
       "5  Control Campaign  6.08.2019         3083          109076.0   87998.0   \n",
       "\n",
       "   # of Website Clicks  # of Searches  # of View Content  # of Add to Cart  \\\n",
       "0               7016.0         2290.0             2159.0            1819.0   \n",
       "1               8110.0         2033.0             1841.0            1219.0   \n",
       "2               6508.0         1737.0             1549.0            1134.0   \n",
       "3               3065.0         1042.0              982.0            1183.0   \n",
       "5               4028.0         1709.0             1249.0             784.0   \n",
       "\n",
       "   # of Purchase  \n",
       "0          618.0  \n",
       "1          511.0  \n",
       "2          372.0  \n",
       "3          340.0  \n",
       "5          764.0  "
      ]
     },
     "execution_count": 8,
     "metadata": {},
     "output_type": "execute_result"
    }
   ],
   "source": [
    "df_control_gp.head()"
   ]
  },
  {
   "cell_type": "code",
   "execution_count": 9,
   "id": "0633c96a",
   "metadata": {
    "execution": {
     "iopub.execute_input": "2024-12-10T01:33:51.531446Z",
     "iopub.status.busy": "2024-12-10T01:33:51.531078Z",
     "iopub.status.idle": "2024-12-10T01:33:51.541011Z",
     "shell.execute_reply": "2024-12-10T01:33:51.540091Z"
    },
    "papermill": {
     "duration": 0.02551,
     "end_time": "2024-12-10T01:33:51.543070",
     "exception": false,
     "start_time": "2024-12-10T01:33:51.517560",
     "status": "completed"
    },
    "tags": []
   },
   "outputs": [
    {
     "name": "stdout",
     "output_type": "stream",
     "text": [
      "<class 'pandas.core.frame.DataFrame'>\n",
      "Index: 29 entries, 0 to 29\n",
      "Data columns (total 10 columns):\n",
      " #   Column               Non-Null Count  Dtype  \n",
      "---  ------               --------------  -----  \n",
      " 0   Campaign Name        29 non-null     object \n",
      " 1   Date                 29 non-null     object \n",
      " 2   Spend [USD]          29 non-null     int64  \n",
      " 3   # of Impressions     29 non-null     float64\n",
      " 4   Reach                29 non-null     float64\n",
      " 5   # of Website Clicks  29 non-null     float64\n",
      " 6   # of Searches        29 non-null     float64\n",
      " 7   # of View Content    29 non-null     float64\n",
      " 8   # of Add to Cart     29 non-null     float64\n",
      " 9   # of Purchase        29 non-null     float64\n",
      "dtypes: float64(7), int64(1), object(2)\n",
      "memory usage: 2.5+ KB\n"
     ]
    }
   ],
   "source": [
    "df_control_gp.info()"
   ]
  },
  {
   "cell_type": "code",
   "execution_count": 10,
   "id": "81c0d51a",
   "metadata": {
    "execution": {
     "iopub.execute_input": "2024-12-10T01:33:51.569209Z",
     "iopub.status.busy": "2024-12-10T01:33:51.568921Z",
     "iopub.status.idle": "2024-12-10T01:33:51.577269Z",
     "shell.execute_reply": "2024-12-10T01:33:51.576257Z"
    },
    "papermill": {
     "duration": 0.023583,
     "end_time": "2024-12-10T01:33:51.579203",
     "exception": false,
     "start_time": "2024-12-10T01:33:51.555620",
     "status": "completed"
    },
    "tags": []
   },
   "outputs": [],
   "source": [
    "df_control_gp['Date'] = pd.to_datetime(df_control_gp['Date'], format = \"%d.%m.%Y\")"
   ]
  },
  {
   "cell_type": "code",
   "execution_count": 11,
   "id": "98dd8504",
   "metadata": {
    "execution": {
     "iopub.execute_input": "2024-12-10T01:33:51.604763Z",
     "iopub.status.busy": "2024-12-10T01:33:51.604387Z",
     "iopub.status.idle": "2024-12-10T01:33:51.612493Z",
     "shell.execute_reply": "2024-12-10T01:33:51.611553Z"
    },
    "papermill": {
     "duration": 0.022979,
     "end_time": "2024-12-10T01:33:51.614277",
     "exception": false,
     "start_time": "2024-12-10T01:33:51.591298",
     "status": "completed"
    },
    "tags": []
   },
   "outputs": [
    {
     "data": {
      "text/plain": [
       "<DatetimeArray>\n",
       "['2019-08-01 00:00:00', '2019-08-02 00:00:00', '2019-08-03 00:00:00',\n",
       " '2019-08-04 00:00:00', '2019-08-06 00:00:00', '2019-08-07 00:00:00',\n",
       " '2019-08-08 00:00:00', '2019-08-09 00:00:00', '2019-08-10 00:00:00',\n",
       " '2019-08-11 00:00:00', '2019-08-12 00:00:00', '2019-08-13 00:00:00',\n",
       " '2019-08-14 00:00:00', '2019-08-15 00:00:00', '2019-08-16 00:00:00',\n",
       " '2019-08-17 00:00:00', '2019-08-18 00:00:00', '2019-08-19 00:00:00',\n",
       " '2019-08-20 00:00:00', '2019-08-21 00:00:00', '2019-08-22 00:00:00',\n",
       " '2019-08-23 00:00:00', '2019-08-24 00:00:00', '2019-08-25 00:00:00',\n",
       " '2019-08-26 00:00:00', '2019-08-27 00:00:00', '2019-08-28 00:00:00',\n",
       " '2019-08-29 00:00:00', '2019-08-30 00:00:00']\n",
       "Length: 29, dtype: datetime64[ns]"
      ]
     },
     "execution_count": 11,
     "metadata": {},
     "output_type": "execute_result"
    }
   ],
   "source": [
    "df_control_gp['Date'].unique()"
   ]
  },
  {
   "cell_type": "code",
   "execution_count": 12,
   "id": "c2bce8f7",
   "metadata": {
    "execution": {
     "iopub.execute_input": "2024-12-10T01:33:51.640549Z",
     "iopub.status.busy": "2024-12-10T01:33:51.639872Z",
     "iopub.status.idle": "2024-12-10T01:33:51.646095Z",
     "shell.execute_reply": "2024-12-10T01:33:51.645142Z"
    },
    "papermill": {
     "duration": 0.021524,
     "end_time": "2024-12-10T01:33:51.648139",
     "exception": false,
     "start_time": "2024-12-10T01:33:51.626615",
     "status": "completed"
    },
    "tags": []
   },
   "outputs": [
    {
     "data": {
      "text/plain": [
       "Index(['Campaign Name', 'Date', 'Spend [USD]', '# of Impressions', 'Reach',\n",
       "       '# of Website Clicks', '# of Searches', '# of View Content',\n",
       "       '# of Add to Cart', '# of Purchase'],\n",
       "      dtype='object')"
      ]
     },
     "execution_count": 12,
     "metadata": {},
     "output_type": "execute_result"
    }
   ],
   "source": [
    "df_control_gp.columns"
   ]
  },
  {
   "cell_type": "code",
   "execution_count": 13,
   "id": "3c6cd94d",
   "metadata": {
    "execution": {
     "iopub.execute_input": "2024-12-10T01:33:51.674493Z",
     "iopub.status.busy": "2024-12-10T01:33:51.674114Z",
     "iopub.status.idle": "2024-12-10T01:33:51.679537Z",
     "shell.execute_reply": "2024-12-10T01:33:51.678666Z"
    },
    "papermill": {
     "duration": 0.020894,
     "end_time": "2024-12-10T01:33:51.681315",
     "exception": false,
     "start_time": "2024-12-10T01:33:51.660421",
     "status": "completed"
    },
    "tags": []
   },
   "outputs": [],
   "source": [
    "df_control_gp.rename(columns={\n",
    "    'Campaign Name': 'Campaign',\n",
    "    'Date': 'Date',\n",
    "    'Spend [USD]': 'Spend_USD',\n",
    "    '# of Impressions': 'Impressions',\n",
    "    'Reach': 'Reach',\n",
    "    '# of Website Clicks': 'Website_Clicks',\n",
    "    '# of Searches': 'Searches',\n",
    "    '# of View Content': 'Views',\n",
    "    '# of Add to Cart': 'Add_to_Cart',\n",
    "    '# of Purchase': 'Purchases'\n",
    "}, inplace=True)\n"
   ]
  },
  {
   "cell_type": "markdown",
   "id": "a8893f1c",
   "metadata": {
    "papermill": {
     "duration": 0.011991,
     "end_time": "2024-12-10T01:33:51.705725",
     "exception": false,
     "start_time": "2024-12-10T01:33:51.693734",
     "status": "completed"
    },
    "tags": []
   },
   "source": [
    "### Adding Day"
   ]
  },
  {
   "cell_type": "code",
   "execution_count": 14,
   "id": "086d0971",
   "metadata": {
    "execution": {
     "iopub.execute_input": "2024-12-10T01:33:51.732107Z",
     "iopub.status.busy": "2024-12-10T01:33:51.731735Z",
     "iopub.status.idle": "2024-12-10T01:33:51.737866Z",
     "shell.execute_reply": "2024-12-10T01:33:51.736889Z"
    },
    "papermill": {
     "duration": 0.021649,
     "end_time": "2024-12-10T01:33:51.739746",
     "exception": false,
     "start_time": "2024-12-10T01:33:51.718097",
     "status": "completed"
    },
    "tags": []
   },
   "outputs": [],
   "source": [
    "df_control_gp['Day'] = df_control_gp['Date'].dt.day_name()"
   ]
  },
  {
   "cell_type": "code",
   "execution_count": 15,
   "id": "17ecd999",
   "metadata": {
    "execution": {
     "iopub.execute_input": "2024-12-10T01:33:51.765837Z",
     "iopub.status.busy": "2024-12-10T01:33:51.765513Z",
     "iopub.status.idle": "2024-12-10T01:33:51.956470Z",
     "shell.execute_reply": "2024-12-10T01:33:51.955436Z"
    },
    "papermill": {
     "duration": 0.206787,
     "end_time": "2024-12-10T01:33:51.958876",
     "exception": false,
     "start_time": "2024-12-10T01:33:51.752089",
     "status": "completed"
    },
    "tags": []
   },
   "outputs": [
    {
     "name": "stderr",
     "output_type": "stream",
     "text": [
      "/tmp/ipykernel_17/848399663.py:9: FutureWarning: The behavior of 'isin' with dtype=datetime64[ns] and castable values (e.g. strings) is deprecated. In a future version, these will not be considered matching by isin. Explicitly cast to the appropriate dtype before calling isin instead.\n",
      "  df_control_gp['Is_Holiday'] = df_control_gp['Date'].isin(country_holidays)\n"
     ]
    }
   ],
   "source": [
    "import holidays\n",
    "# Add a column indicating if the date is a weekend\n",
    "df_control_gp['Is_Weekend'] = df_control_gp['Day'].isin(['Saturday', 'Sunday'])\n",
    "\n",
    "# Define the country-specific holidays (e.g., US holidays)\n",
    "country_holidays = holidays.US(years=df_control_gp['Date'].dt.year.unique())\n",
    "\n",
    "# Add a column indicating if the date is a holiday\n",
    "df_control_gp['Is_Holiday'] = df_control_gp['Date'].isin(country_holidays)"
   ]
  },
  {
   "cell_type": "code",
   "execution_count": 16,
   "id": "4929e09a",
   "metadata": {
    "execution": {
     "iopub.execute_input": "2024-12-10T01:33:51.985912Z",
     "iopub.status.busy": "2024-12-10T01:33:51.985534Z",
     "iopub.status.idle": "2024-12-10T01:33:52.002425Z",
     "shell.execute_reply": "2024-12-10T01:33:52.001418Z"
    },
    "papermill": {
     "duration": 0.0328,
     "end_time": "2024-12-10T01:33:52.004454",
     "exception": false,
     "start_time": "2024-12-10T01:33:51.971654",
     "status": "completed"
    },
    "tags": []
   },
   "outputs": [
    {
     "data": {
      "text/html": [
       "<div>\n",
       "<style scoped>\n",
       "    .dataframe tbody tr th:only-of-type {\n",
       "        vertical-align: middle;\n",
       "    }\n",
       "\n",
       "    .dataframe tbody tr th {\n",
       "        vertical-align: top;\n",
       "    }\n",
       "\n",
       "    .dataframe thead th {\n",
       "        text-align: right;\n",
       "    }\n",
       "</style>\n",
       "<table border=\"1\" class=\"dataframe\">\n",
       "  <thead>\n",
       "    <tr style=\"text-align: right;\">\n",
       "      <th></th>\n",
       "      <th>Campaign</th>\n",
       "      <th>Date</th>\n",
       "      <th>Spend_USD</th>\n",
       "      <th>Impressions</th>\n",
       "      <th>Reach</th>\n",
       "      <th>Website_Clicks</th>\n",
       "      <th>Searches</th>\n",
       "      <th>Views</th>\n",
       "      <th>Add_to_Cart</th>\n",
       "      <th>Purchases</th>\n",
       "      <th>Day</th>\n",
       "      <th>Is_Weekend</th>\n",
       "      <th>Is_Holiday</th>\n",
       "    </tr>\n",
       "  </thead>\n",
       "  <tbody>\n",
       "    <tr>\n",
       "      <th>0</th>\n",
       "      <td>Control Campaign</td>\n",
       "      <td>2019-08-01</td>\n",
       "      <td>2280</td>\n",
       "      <td>82702.0</td>\n",
       "      <td>56930.0</td>\n",
       "      <td>7016.0</td>\n",
       "      <td>2290.0</td>\n",
       "      <td>2159.0</td>\n",
       "      <td>1819.0</td>\n",
       "      <td>618.0</td>\n",
       "      <td>Thursday</td>\n",
       "      <td>False</td>\n",
       "      <td>False</td>\n",
       "    </tr>\n",
       "    <tr>\n",
       "      <th>1</th>\n",
       "      <td>Control Campaign</td>\n",
       "      <td>2019-08-02</td>\n",
       "      <td>1757</td>\n",
       "      <td>121040.0</td>\n",
       "      <td>102513.0</td>\n",
       "      <td>8110.0</td>\n",
       "      <td>2033.0</td>\n",
       "      <td>1841.0</td>\n",
       "      <td>1219.0</td>\n",
       "      <td>511.0</td>\n",
       "      <td>Friday</td>\n",
       "      <td>False</td>\n",
       "      <td>False</td>\n",
       "    </tr>\n",
       "    <tr>\n",
       "      <th>2</th>\n",
       "      <td>Control Campaign</td>\n",
       "      <td>2019-08-03</td>\n",
       "      <td>2343</td>\n",
       "      <td>131711.0</td>\n",
       "      <td>110862.0</td>\n",
       "      <td>6508.0</td>\n",
       "      <td>1737.0</td>\n",
       "      <td>1549.0</td>\n",
       "      <td>1134.0</td>\n",
       "      <td>372.0</td>\n",
       "      <td>Saturday</td>\n",
       "      <td>True</td>\n",
       "      <td>False</td>\n",
       "    </tr>\n",
       "    <tr>\n",
       "      <th>3</th>\n",
       "      <td>Control Campaign</td>\n",
       "      <td>2019-08-04</td>\n",
       "      <td>1940</td>\n",
       "      <td>72878.0</td>\n",
       "      <td>61235.0</td>\n",
       "      <td>3065.0</td>\n",
       "      <td>1042.0</td>\n",
       "      <td>982.0</td>\n",
       "      <td>1183.0</td>\n",
       "      <td>340.0</td>\n",
       "      <td>Sunday</td>\n",
       "      <td>True</td>\n",
       "      <td>False</td>\n",
       "    </tr>\n",
       "    <tr>\n",
       "      <th>5</th>\n",
       "      <td>Control Campaign</td>\n",
       "      <td>2019-08-06</td>\n",
       "      <td>3083</td>\n",
       "      <td>109076.0</td>\n",
       "      <td>87998.0</td>\n",
       "      <td>4028.0</td>\n",
       "      <td>1709.0</td>\n",
       "      <td>1249.0</td>\n",
       "      <td>784.0</td>\n",
       "      <td>764.0</td>\n",
       "      <td>Tuesday</td>\n",
       "      <td>False</td>\n",
       "      <td>False</td>\n",
       "    </tr>\n",
       "  </tbody>\n",
       "</table>\n",
       "</div>"
      ],
      "text/plain": [
       "           Campaign       Date  Spend_USD  Impressions     Reach  \\\n",
       "0  Control Campaign 2019-08-01       2280      82702.0   56930.0   \n",
       "1  Control Campaign 2019-08-02       1757     121040.0  102513.0   \n",
       "2  Control Campaign 2019-08-03       2343     131711.0  110862.0   \n",
       "3  Control Campaign 2019-08-04       1940      72878.0   61235.0   \n",
       "5  Control Campaign 2019-08-06       3083     109076.0   87998.0   \n",
       "\n",
       "   Website_Clicks  Searches   Views  Add_to_Cart  Purchases       Day  \\\n",
       "0          7016.0    2290.0  2159.0       1819.0      618.0  Thursday   \n",
       "1          8110.0    2033.0  1841.0       1219.0      511.0    Friday   \n",
       "2          6508.0    1737.0  1549.0       1134.0      372.0  Saturday   \n",
       "3          3065.0    1042.0   982.0       1183.0      340.0    Sunday   \n",
       "5          4028.0    1709.0  1249.0        784.0      764.0   Tuesday   \n",
       "\n",
       "   Is_Weekend  Is_Holiday  \n",
       "0       False       False  \n",
       "1       False       False  \n",
       "2        True       False  \n",
       "3        True       False  \n",
       "5       False       False  "
      ]
     },
     "execution_count": 16,
     "metadata": {},
     "output_type": "execute_result"
    }
   ],
   "source": [
    "df_control_gp.head()"
   ]
  },
  {
   "cell_type": "markdown",
   "id": "e2f05f1d",
   "metadata": {
    "papermill": {
     "duration": 0.012396,
     "end_time": "2024-12-10T01:33:52.030068",
     "exception": false,
     "start_time": "2024-12-10T01:33:52.017672",
     "status": "completed"
    },
    "tags": []
   },
   "source": [
    "#### Adding CTR (Click-Through Rate) to measure the effectiveness of campaigns in driving clicks"
   ]
  },
  {
   "cell_type": "code",
   "execution_count": 17,
   "id": "5cf01ca9",
   "metadata": {
    "execution": {
     "iopub.execute_input": "2024-12-10T01:33:52.057248Z",
     "iopub.status.busy": "2024-12-10T01:33:52.056861Z",
     "iopub.status.idle": "2024-12-10T01:33:52.062799Z",
     "shell.execute_reply": "2024-12-10T01:33:52.061899Z"
    },
    "papermill": {
     "duration": 0.021912,
     "end_time": "2024-12-10T01:33:52.064550",
     "exception": false,
     "start_time": "2024-12-10T01:33:52.042638",
     "status": "completed"
    },
    "tags": []
   },
   "outputs": [],
   "source": [
    "df_control_gp['CTR_%'] = round(((df_control_gp['Website_Clicks']/df_control_gp['Impressions'])*100),2)"
   ]
  },
  {
   "cell_type": "code",
   "execution_count": 18,
   "id": "5dc6c36b",
   "metadata": {
    "execution": {
     "iopub.execute_input": "2024-12-10T01:33:52.092433Z",
     "iopub.status.busy": "2024-12-10T01:33:52.092029Z",
     "iopub.status.idle": "2024-12-10T01:33:52.109748Z",
     "shell.execute_reply": "2024-12-10T01:33:52.108747Z"
    },
    "papermill": {
     "duration": 0.034191,
     "end_time": "2024-12-10T01:33:52.111695",
     "exception": false,
     "start_time": "2024-12-10T01:33:52.077504",
     "status": "completed"
    },
    "tags": []
   },
   "outputs": [
    {
     "data": {
      "text/html": [
       "<div>\n",
       "<style scoped>\n",
       "    .dataframe tbody tr th:only-of-type {\n",
       "        vertical-align: middle;\n",
       "    }\n",
       "\n",
       "    .dataframe tbody tr th {\n",
       "        vertical-align: top;\n",
       "    }\n",
       "\n",
       "    .dataframe thead th {\n",
       "        text-align: right;\n",
       "    }\n",
       "</style>\n",
       "<table border=\"1\" class=\"dataframe\">\n",
       "  <thead>\n",
       "    <tr style=\"text-align: right;\">\n",
       "      <th></th>\n",
       "      <th>Campaign</th>\n",
       "      <th>Date</th>\n",
       "      <th>Spend_USD</th>\n",
       "      <th>Impressions</th>\n",
       "      <th>Reach</th>\n",
       "      <th>Website_Clicks</th>\n",
       "      <th>Searches</th>\n",
       "      <th>Views</th>\n",
       "      <th>Add_to_Cart</th>\n",
       "      <th>Purchases</th>\n",
       "      <th>Day</th>\n",
       "      <th>Is_Weekend</th>\n",
       "      <th>Is_Holiday</th>\n",
       "      <th>CTR_%</th>\n",
       "    </tr>\n",
       "  </thead>\n",
       "  <tbody>\n",
       "    <tr>\n",
       "      <th>0</th>\n",
       "      <td>Control Campaign</td>\n",
       "      <td>2019-08-01</td>\n",
       "      <td>2280</td>\n",
       "      <td>82702.0</td>\n",
       "      <td>56930.0</td>\n",
       "      <td>7016.0</td>\n",
       "      <td>2290.0</td>\n",
       "      <td>2159.0</td>\n",
       "      <td>1819.0</td>\n",
       "      <td>618.0</td>\n",
       "      <td>Thursday</td>\n",
       "      <td>False</td>\n",
       "      <td>False</td>\n",
       "      <td>8.48</td>\n",
       "    </tr>\n",
       "    <tr>\n",
       "      <th>1</th>\n",
       "      <td>Control Campaign</td>\n",
       "      <td>2019-08-02</td>\n",
       "      <td>1757</td>\n",
       "      <td>121040.0</td>\n",
       "      <td>102513.0</td>\n",
       "      <td>8110.0</td>\n",
       "      <td>2033.0</td>\n",
       "      <td>1841.0</td>\n",
       "      <td>1219.0</td>\n",
       "      <td>511.0</td>\n",
       "      <td>Friday</td>\n",
       "      <td>False</td>\n",
       "      <td>False</td>\n",
       "      <td>6.70</td>\n",
       "    </tr>\n",
       "    <tr>\n",
       "      <th>2</th>\n",
       "      <td>Control Campaign</td>\n",
       "      <td>2019-08-03</td>\n",
       "      <td>2343</td>\n",
       "      <td>131711.0</td>\n",
       "      <td>110862.0</td>\n",
       "      <td>6508.0</td>\n",
       "      <td>1737.0</td>\n",
       "      <td>1549.0</td>\n",
       "      <td>1134.0</td>\n",
       "      <td>372.0</td>\n",
       "      <td>Saturday</td>\n",
       "      <td>True</td>\n",
       "      <td>False</td>\n",
       "      <td>4.94</td>\n",
       "    </tr>\n",
       "    <tr>\n",
       "      <th>3</th>\n",
       "      <td>Control Campaign</td>\n",
       "      <td>2019-08-04</td>\n",
       "      <td>1940</td>\n",
       "      <td>72878.0</td>\n",
       "      <td>61235.0</td>\n",
       "      <td>3065.0</td>\n",
       "      <td>1042.0</td>\n",
       "      <td>982.0</td>\n",
       "      <td>1183.0</td>\n",
       "      <td>340.0</td>\n",
       "      <td>Sunday</td>\n",
       "      <td>True</td>\n",
       "      <td>False</td>\n",
       "      <td>4.21</td>\n",
       "    </tr>\n",
       "    <tr>\n",
       "      <th>5</th>\n",
       "      <td>Control Campaign</td>\n",
       "      <td>2019-08-06</td>\n",
       "      <td>3083</td>\n",
       "      <td>109076.0</td>\n",
       "      <td>87998.0</td>\n",
       "      <td>4028.0</td>\n",
       "      <td>1709.0</td>\n",
       "      <td>1249.0</td>\n",
       "      <td>784.0</td>\n",
       "      <td>764.0</td>\n",
       "      <td>Tuesday</td>\n",
       "      <td>False</td>\n",
       "      <td>False</td>\n",
       "      <td>3.69</td>\n",
       "    </tr>\n",
       "  </tbody>\n",
       "</table>\n",
       "</div>"
      ],
      "text/plain": [
       "           Campaign       Date  Spend_USD  Impressions     Reach  \\\n",
       "0  Control Campaign 2019-08-01       2280      82702.0   56930.0   \n",
       "1  Control Campaign 2019-08-02       1757     121040.0  102513.0   \n",
       "2  Control Campaign 2019-08-03       2343     131711.0  110862.0   \n",
       "3  Control Campaign 2019-08-04       1940      72878.0   61235.0   \n",
       "5  Control Campaign 2019-08-06       3083     109076.0   87998.0   \n",
       "\n",
       "   Website_Clicks  Searches   Views  Add_to_Cart  Purchases       Day  \\\n",
       "0          7016.0    2290.0  2159.0       1819.0      618.0  Thursday   \n",
       "1          8110.0    2033.0  1841.0       1219.0      511.0    Friday   \n",
       "2          6508.0    1737.0  1549.0       1134.0      372.0  Saturday   \n",
       "3          3065.0    1042.0   982.0       1183.0      340.0    Sunday   \n",
       "5          4028.0    1709.0  1249.0        784.0      764.0   Tuesday   \n",
       "\n",
       "   Is_Weekend  Is_Holiday  CTR_%  \n",
       "0       False       False   8.48  \n",
       "1       False       False   6.70  \n",
       "2        True       False   4.94  \n",
       "3        True       False   4.21  \n",
       "5       False       False   3.69  "
      ]
     },
     "execution_count": 18,
     "metadata": {},
     "output_type": "execute_result"
    }
   ],
   "source": [
    "df_control_gp.head()"
   ]
  },
  {
   "cell_type": "markdown",
   "id": "133138eb",
   "metadata": {
    "papermill": {
     "duration": 0.012461,
     "end_time": "2024-12-10T01:33:52.137167",
     "exception": false,
     "start_time": "2024-12-10T01:33:52.124706",
     "status": "completed"
    },
    "tags": []
   },
   "source": [
    "#### Adding Conversion Rate to measures the efficiency of converting clicks to purchases"
   ]
  },
  {
   "cell_type": "code",
   "execution_count": 19,
   "id": "13fb85d0",
   "metadata": {
    "execution": {
     "iopub.execute_input": "2024-12-10T01:33:52.165295Z",
     "iopub.status.busy": "2024-12-10T01:33:52.164533Z",
     "iopub.status.idle": "2024-12-10T01:33:52.170227Z",
     "shell.execute_reply": "2024-12-10T01:33:52.169336Z"
    },
    "papermill": {
     "duration": 0.021987,
     "end_time": "2024-12-10T01:33:52.172169",
     "exception": false,
     "start_time": "2024-12-10T01:33:52.150182",
     "status": "completed"
    },
    "tags": []
   },
   "outputs": [],
   "source": [
    "df_control_gp['Conversion_Rate_%'] = round(((df_control_gp['Purchases']/df_control_gp['Website_Clicks'])*100),2)"
   ]
  },
  {
   "cell_type": "markdown",
   "id": "4d9a5c9e",
   "metadata": {
    "papermill": {
     "duration": 0.013452,
     "end_time": "2024-12-10T01:33:52.198830",
     "exception": false,
     "start_time": "2024-12-10T01:33:52.185378",
     "status": "completed"
    },
    "tags": []
   },
   "source": [
    "#### Adding Cost per Purchase (CPP) to measures the cost-effectiveness of the campaign."
   ]
  },
  {
   "cell_type": "code",
   "execution_count": 20,
   "id": "88063e5d",
   "metadata": {
    "execution": {
     "iopub.execute_input": "2024-12-10T01:33:52.229695Z",
     "iopub.status.busy": "2024-12-10T01:33:52.228899Z",
     "iopub.status.idle": "2024-12-10T01:33:52.234674Z",
     "shell.execute_reply": "2024-12-10T01:33:52.233633Z"
    },
    "papermill": {
     "duration": 0.022395,
     "end_time": "2024-12-10T01:33:52.236645",
     "exception": false,
     "start_time": "2024-12-10T01:33:52.214250",
     "status": "completed"
    },
    "tags": []
   },
   "outputs": [],
   "source": [
    "df_control_gp['CPP'] = round(((df_control_gp['Spend_USD']/df_control_gp['Purchases'])*100),2)"
   ]
  },
  {
   "cell_type": "code",
   "execution_count": 21,
   "id": "554e1c64",
   "metadata": {
    "execution": {
     "iopub.execute_input": "2024-12-10T01:33:52.265001Z",
     "iopub.status.busy": "2024-12-10T01:33:52.264203Z",
     "iopub.status.idle": "2024-12-10T01:33:52.297924Z",
     "shell.execute_reply": "2024-12-10T01:33:52.296867Z"
    },
    "papermill": {
     "duration": 0.049991,
     "end_time": "2024-12-10T01:33:52.299869",
     "exception": false,
     "start_time": "2024-12-10T01:33:52.249878",
     "status": "completed"
    },
    "tags": []
   },
   "outputs": [
    {
     "data": {
      "text/html": [
       "<div>\n",
       "<style scoped>\n",
       "    .dataframe tbody tr th:only-of-type {\n",
       "        vertical-align: middle;\n",
       "    }\n",
       "\n",
       "    .dataframe tbody tr th {\n",
       "        vertical-align: top;\n",
       "    }\n",
       "\n",
       "    .dataframe thead th {\n",
       "        text-align: right;\n",
       "    }\n",
       "</style>\n",
       "<table border=\"1\" class=\"dataframe\">\n",
       "  <thead>\n",
       "    <tr style=\"text-align: right;\">\n",
       "      <th></th>\n",
       "      <th>Campaign</th>\n",
       "      <th>Date</th>\n",
       "      <th>Spend_USD</th>\n",
       "      <th>Impressions</th>\n",
       "      <th>Reach</th>\n",
       "      <th>Website_Clicks</th>\n",
       "      <th>Searches</th>\n",
       "      <th>Views</th>\n",
       "      <th>Add_to_Cart</th>\n",
       "      <th>Purchases</th>\n",
       "      <th>Day</th>\n",
       "      <th>Is_Weekend</th>\n",
       "      <th>Is_Holiday</th>\n",
       "      <th>CTR_%</th>\n",
       "      <th>Conversion_Rate_%</th>\n",
       "      <th>CPP</th>\n",
       "    </tr>\n",
       "  </thead>\n",
       "  <tbody>\n",
       "    <tr>\n",
       "      <th>0</th>\n",
       "      <td>Control Campaign</td>\n",
       "      <td>2019-08-01</td>\n",
       "      <td>2280</td>\n",
       "      <td>82702.0</td>\n",
       "      <td>56930.0</td>\n",
       "      <td>7016.0</td>\n",
       "      <td>2290.0</td>\n",
       "      <td>2159.0</td>\n",
       "      <td>1819.0</td>\n",
       "      <td>618.0</td>\n",
       "      <td>Thursday</td>\n",
       "      <td>False</td>\n",
       "      <td>False</td>\n",
       "      <td>8.48</td>\n",
       "      <td>8.81</td>\n",
       "      <td>368.93</td>\n",
       "    </tr>\n",
       "    <tr>\n",
       "      <th>1</th>\n",
       "      <td>Control Campaign</td>\n",
       "      <td>2019-08-02</td>\n",
       "      <td>1757</td>\n",
       "      <td>121040.0</td>\n",
       "      <td>102513.0</td>\n",
       "      <td>8110.0</td>\n",
       "      <td>2033.0</td>\n",
       "      <td>1841.0</td>\n",
       "      <td>1219.0</td>\n",
       "      <td>511.0</td>\n",
       "      <td>Friday</td>\n",
       "      <td>False</td>\n",
       "      <td>False</td>\n",
       "      <td>6.70</td>\n",
       "      <td>6.30</td>\n",
       "      <td>343.84</td>\n",
       "    </tr>\n",
       "    <tr>\n",
       "      <th>2</th>\n",
       "      <td>Control Campaign</td>\n",
       "      <td>2019-08-03</td>\n",
       "      <td>2343</td>\n",
       "      <td>131711.0</td>\n",
       "      <td>110862.0</td>\n",
       "      <td>6508.0</td>\n",
       "      <td>1737.0</td>\n",
       "      <td>1549.0</td>\n",
       "      <td>1134.0</td>\n",
       "      <td>372.0</td>\n",
       "      <td>Saturday</td>\n",
       "      <td>True</td>\n",
       "      <td>False</td>\n",
       "      <td>4.94</td>\n",
       "      <td>5.72</td>\n",
       "      <td>629.84</td>\n",
       "    </tr>\n",
       "    <tr>\n",
       "      <th>3</th>\n",
       "      <td>Control Campaign</td>\n",
       "      <td>2019-08-04</td>\n",
       "      <td>1940</td>\n",
       "      <td>72878.0</td>\n",
       "      <td>61235.0</td>\n",
       "      <td>3065.0</td>\n",
       "      <td>1042.0</td>\n",
       "      <td>982.0</td>\n",
       "      <td>1183.0</td>\n",
       "      <td>340.0</td>\n",
       "      <td>Sunday</td>\n",
       "      <td>True</td>\n",
       "      <td>False</td>\n",
       "      <td>4.21</td>\n",
       "      <td>11.09</td>\n",
       "      <td>570.59</td>\n",
       "    </tr>\n",
       "    <tr>\n",
       "      <th>5</th>\n",
       "      <td>Control Campaign</td>\n",
       "      <td>2019-08-06</td>\n",
       "      <td>3083</td>\n",
       "      <td>109076.0</td>\n",
       "      <td>87998.0</td>\n",
       "      <td>4028.0</td>\n",
       "      <td>1709.0</td>\n",
       "      <td>1249.0</td>\n",
       "      <td>784.0</td>\n",
       "      <td>764.0</td>\n",
       "      <td>Tuesday</td>\n",
       "      <td>False</td>\n",
       "      <td>False</td>\n",
       "      <td>3.69</td>\n",
       "      <td>18.97</td>\n",
       "      <td>403.53</td>\n",
       "    </tr>\n",
       "    <tr>\n",
       "      <th>6</th>\n",
       "      <td>Control Campaign</td>\n",
       "      <td>2019-08-07</td>\n",
       "      <td>2544</td>\n",
       "      <td>142123.0</td>\n",
       "      <td>127852.0</td>\n",
       "      <td>2640.0</td>\n",
       "      <td>1388.0</td>\n",
       "      <td>1106.0</td>\n",
       "      <td>1166.0</td>\n",
       "      <td>499.0</td>\n",
       "      <td>Wednesday</td>\n",
       "      <td>False</td>\n",
       "      <td>False</td>\n",
       "      <td>1.86</td>\n",
       "      <td>18.90</td>\n",
       "      <td>509.82</td>\n",
       "    </tr>\n",
       "    <tr>\n",
       "      <th>7</th>\n",
       "      <td>Control Campaign</td>\n",
       "      <td>2019-08-08</td>\n",
       "      <td>1900</td>\n",
       "      <td>90939.0</td>\n",
       "      <td>65217.0</td>\n",
       "      <td>7260.0</td>\n",
       "      <td>3047.0</td>\n",
       "      <td>2746.0</td>\n",
       "      <td>930.0</td>\n",
       "      <td>462.0</td>\n",
       "      <td>Thursday</td>\n",
       "      <td>False</td>\n",
       "      <td>False</td>\n",
       "      <td>7.98</td>\n",
       "      <td>6.36</td>\n",
       "      <td>411.26</td>\n",
       "    </tr>\n",
       "    <tr>\n",
       "      <th>8</th>\n",
       "      <td>Control Campaign</td>\n",
       "      <td>2019-08-09</td>\n",
       "      <td>2813</td>\n",
       "      <td>121332.0</td>\n",
       "      <td>94896.0</td>\n",
       "      <td>6198.0</td>\n",
       "      <td>2487.0</td>\n",
       "      <td>2179.0</td>\n",
       "      <td>645.0</td>\n",
       "      <td>501.0</td>\n",
       "      <td>Friday</td>\n",
       "      <td>False</td>\n",
       "      <td>False</td>\n",
       "      <td>5.11</td>\n",
       "      <td>8.08</td>\n",
       "      <td>561.48</td>\n",
       "    </tr>\n",
       "    <tr>\n",
       "      <th>9</th>\n",
       "      <td>Control Campaign</td>\n",
       "      <td>2019-08-10</td>\n",
       "      <td>2149</td>\n",
       "      <td>117624.0</td>\n",
       "      <td>91257.0</td>\n",
       "      <td>2277.0</td>\n",
       "      <td>2475.0</td>\n",
       "      <td>1984.0</td>\n",
       "      <td>1629.0</td>\n",
       "      <td>734.0</td>\n",
       "      <td>Saturday</td>\n",
       "      <td>True</td>\n",
       "      <td>False</td>\n",
       "      <td>1.94</td>\n",
       "      <td>32.24</td>\n",
       "      <td>292.78</td>\n",
       "    </tr>\n",
       "    <tr>\n",
       "      <th>10</th>\n",
       "      <td>Control Campaign</td>\n",
       "      <td>2019-08-11</td>\n",
       "      <td>2490</td>\n",
       "      <td>115247.0</td>\n",
       "      <td>95843.0</td>\n",
       "      <td>8137.0</td>\n",
       "      <td>2941.0</td>\n",
       "      <td>2486.0</td>\n",
       "      <td>1887.0</td>\n",
       "      <td>475.0</td>\n",
       "      <td>Sunday</td>\n",
       "      <td>True</td>\n",
       "      <td>False</td>\n",
       "      <td>7.06</td>\n",
       "      <td>5.84</td>\n",
       "      <td>524.21</td>\n",
       "    </tr>\n",
       "    <tr>\n",
       "      <th>11</th>\n",
       "      <td>Control Campaign</td>\n",
       "      <td>2019-08-12</td>\n",
       "      <td>2319</td>\n",
       "      <td>116639.0</td>\n",
       "      <td>100189.0</td>\n",
       "      <td>2993.0</td>\n",
       "      <td>1397.0</td>\n",
       "      <td>1147.0</td>\n",
       "      <td>1439.0</td>\n",
       "      <td>794.0</td>\n",
       "      <td>Monday</td>\n",
       "      <td>False</td>\n",
       "      <td>False</td>\n",
       "      <td>2.57</td>\n",
       "      <td>26.53</td>\n",
       "      <td>292.07</td>\n",
       "    </tr>\n",
       "    <tr>\n",
       "      <th>12</th>\n",
       "      <td>Control Campaign</td>\n",
       "      <td>2019-08-13</td>\n",
       "      <td>2697</td>\n",
       "      <td>82847.0</td>\n",
       "      <td>68214.0</td>\n",
       "      <td>6554.0</td>\n",
       "      <td>2390.0</td>\n",
       "      <td>1975.0</td>\n",
       "      <td>1794.0</td>\n",
       "      <td>766.0</td>\n",
       "      <td>Tuesday</td>\n",
       "      <td>False</td>\n",
       "      <td>False</td>\n",
       "      <td>7.91</td>\n",
       "      <td>11.69</td>\n",
       "      <td>352.09</td>\n",
       "    </tr>\n",
       "    <tr>\n",
       "      <th>13</th>\n",
       "      <td>Control Campaign</td>\n",
       "      <td>2019-08-14</td>\n",
       "      <td>1875</td>\n",
       "      <td>145248.0</td>\n",
       "      <td>118632.0</td>\n",
       "      <td>4521.0</td>\n",
       "      <td>1209.0</td>\n",
       "      <td>1149.0</td>\n",
       "      <td>1339.0</td>\n",
       "      <td>788.0</td>\n",
       "      <td>Wednesday</td>\n",
       "      <td>False</td>\n",
       "      <td>False</td>\n",
       "      <td>3.11</td>\n",
       "      <td>17.43</td>\n",
       "      <td>237.94</td>\n",
       "    </tr>\n",
       "    <tr>\n",
       "      <th>14</th>\n",
       "      <td>Control Campaign</td>\n",
       "      <td>2019-08-15</td>\n",
       "      <td>2774</td>\n",
       "      <td>132845.0</td>\n",
       "      <td>102479.0</td>\n",
       "      <td>4896.0</td>\n",
       "      <td>1179.0</td>\n",
       "      <td>1005.0</td>\n",
       "      <td>1641.0</td>\n",
       "      <td>366.0</td>\n",
       "      <td>Thursday</td>\n",
       "      <td>False</td>\n",
       "      <td>False</td>\n",
       "      <td>3.69</td>\n",
       "      <td>7.48</td>\n",
       "      <td>757.92</td>\n",
       "    </tr>\n",
       "    <tr>\n",
       "      <th>15</th>\n",
       "      <td>Control Campaign</td>\n",
       "      <td>2019-08-16</td>\n",
       "      <td>2024</td>\n",
       "      <td>71274.0</td>\n",
       "      <td>42859.0</td>\n",
       "      <td>5224.0</td>\n",
       "      <td>2427.0</td>\n",
       "      <td>2158.0</td>\n",
       "      <td>1613.0</td>\n",
       "      <td>438.0</td>\n",
       "      <td>Friday</td>\n",
       "      <td>False</td>\n",
       "      <td>False</td>\n",
       "      <td>7.33</td>\n",
       "      <td>8.38</td>\n",
       "      <td>462.10</td>\n",
       "    </tr>\n",
       "    <tr>\n",
       "      <th>16</th>\n",
       "      <td>Control Campaign</td>\n",
       "      <td>2019-08-17</td>\n",
       "      <td>2177</td>\n",
       "      <td>119612.0</td>\n",
       "      <td>106518.0</td>\n",
       "      <td>6628.0</td>\n",
       "      <td>1756.0</td>\n",
       "      <td>1642.0</td>\n",
       "      <td>878.0</td>\n",
       "      <td>222.0</td>\n",
       "      <td>Saturday</td>\n",
       "      <td>True</td>\n",
       "      <td>False</td>\n",
       "      <td>5.54</td>\n",
       "      <td>3.35</td>\n",
       "      <td>980.63</td>\n",
       "    </tr>\n",
       "    <tr>\n",
       "      <th>17</th>\n",
       "      <td>Control Campaign</td>\n",
       "      <td>2019-08-18</td>\n",
       "      <td>1876</td>\n",
       "      <td>108452.0</td>\n",
       "      <td>96518.0</td>\n",
       "      <td>7253.0</td>\n",
       "      <td>2447.0</td>\n",
       "      <td>2115.0</td>\n",
       "      <td>1695.0</td>\n",
       "      <td>243.0</td>\n",
       "      <td>Sunday</td>\n",
       "      <td>True</td>\n",
       "      <td>False</td>\n",
       "      <td>6.69</td>\n",
       "      <td>3.35</td>\n",
       "      <td>772.02</td>\n",
       "    </tr>\n",
       "    <tr>\n",
       "      <th>18</th>\n",
       "      <td>Control Campaign</td>\n",
       "      <td>2019-08-19</td>\n",
       "      <td>2596</td>\n",
       "      <td>107890.0</td>\n",
       "      <td>81268.0</td>\n",
       "      <td>3706.0</td>\n",
       "      <td>2483.0</td>\n",
       "      <td>2098.0</td>\n",
       "      <td>908.0</td>\n",
       "      <td>542.0</td>\n",
       "      <td>Monday</td>\n",
       "      <td>False</td>\n",
       "      <td>False</td>\n",
       "      <td>3.43</td>\n",
       "      <td>14.62</td>\n",
       "      <td>478.97</td>\n",
       "    </tr>\n",
       "    <tr>\n",
       "      <th>19</th>\n",
       "      <td>Control Campaign</td>\n",
       "      <td>2019-08-20</td>\n",
       "      <td>2675</td>\n",
       "      <td>113430.0</td>\n",
       "      <td>78625.0</td>\n",
       "      <td>2578.0</td>\n",
       "      <td>1001.0</td>\n",
       "      <td>848.0</td>\n",
       "      <td>1709.0</td>\n",
       "      <td>299.0</td>\n",
       "      <td>Tuesday</td>\n",
       "      <td>False</td>\n",
       "      <td>False</td>\n",
       "      <td>2.27</td>\n",
       "      <td>11.60</td>\n",
       "      <td>894.65</td>\n",
       "    </tr>\n",
       "    <tr>\n",
       "      <th>20</th>\n",
       "      <td>Control Campaign</td>\n",
       "      <td>2019-08-21</td>\n",
       "      <td>1803</td>\n",
       "      <td>74654.0</td>\n",
       "      <td>59873.0</td>\n",
       "      <td>5691.0</td>\n",
       "      <td>2711.0</td>\n",
       "      <td>2496.0</td>\n",
       "      <td>1460.0</td>\n",
       "      <td>800.0</td>\n",
       "      <td>Wednesday</td>\n",
       "      <td>False</td>\n",
       "      <td>False</td>\n",
       "      <td>7.62</td>\n",
       "      <td>14.06</td>\n",
       "      <td>225.38</td>\n",
       "    </tr>\n",
       "    <tr>\n",
       "      <th>21</th>\n",
       "      <td>Control Campaign</td>\n",
       "      <td>2019-08-22</td>\n",
       "      <td>2939</td>\n",
       "      <td>105705.0</td>\n",
       "      <td>86218.0</td>\n",
       "      <td>6843.0</td>\n",
       "      <td>3102.0</td>\n",
       "      <td>2988.0</td>\n",
       "      <td>819.0</td>\n",
       "      <td>387.0</td>\n",
       "      <td>Thursday</td>\n",
       "      <td>False</td>\n",
       "      <td>False</td>\n",
       "      <td>6.47</td>\n",
       "      <td>5.66</td>\n",
       "      <td>759.43</td>\n",
       "    </tr>\n",
       "    <tr>\n",
       "      <th>22</th>\n",
       "      <td>Control Campaign</td>\n",
       "      <td>2019-08-23</td>\n",
       "      <td>2496</td>\n",
       "      <td>129880.0</td>\n",
       "      <td>109413.0</td>\n",
       "      <td>4410.0</td>\n",
       "      <td>2896.0</td>\n",
       "      <td>2496.0</td>\n",
       "      <td>1913.0</td>\n",
       "      <td>766.0</td>\n",
       "      <td>Friday</td>\n",
       "      <td>False</td>\n",
       "      <td>False</td>\n",
       "      <td>3.40</td>\n",
       "      <td>17.37</td>\n",
       "      <td>325.85</td>\n",
       "    </tr>\n",
       "    <tr>\n",
       "      <th>23</th>\n",
       "      <td>Control Campaign</td>\n",
       "      <td>2019-08-24</td>\n",
       "      <td>1892</td>\n",
       "      <td>72515.0</td>\n",
       "      <td>51987.0</td>\n",
       "      <td>4085.0</td>\n",
       "      <td>1274.0</td>\n",
       "      <td>1149.0</td>\n",
       "      <td>1146.0</td>\n",
       "      <td>585.0</td>\n",
       "      <td>Saturday</td>\n",
       "      <td>True</td>\n",
       "      <td>False</td>\n",
       "      <td>5.63</td>\n",
       "      <td>14.32</td>\n",
       "      <td>323.42</td>\n",
       "    </tr>\n",
       "    <tr>\n",
       "      <th>24</th>\n",
       "      <td>Control Campaign</td>\n",
       "      <td>2019-08-25</td>\n",
       "      <td>1962</td>\n",
       "      <td>117006.0</td>\n",
       "      <td>100398.0</td>\n",
       "      <td>4234.0</td>\n",
       "      <td>2423.0</td>\n",
       "      <td>2096.0</td>\n",
       "      <td>883.0</td>\n",
       "      <td>386.0</td>\n",
       "      <td>Sunday</td>\n",
       "      <td>True</td>\n",
       "      <td>False</td>\n",
       "      <td>3.62</td>\n",
       "      <td>9.12</td>\n",
       "      <td>508.29</td>\n",
       "    </tr>\n",
       "    <tr>\n",
       "      <th>25</th>\n",
       "      <td>Control Campaign</td>\n",
       "      <td>2019-08-26</td>\n",
       "      <td>2233</td>\n",
       "      <td>124897.0</td>\n",
       "      <td>98432.0</td>\n",
       "      <td>5435.0</td>\n",
       "      <td>2847.0</td>\n",
       "      <td>2421.0</td>\n",
       "      <td>1448.0</td>\n",
       "      <td>251.0</td>\n",
       "      <td>Monday</td>\n",
       "      <td>False</td>\n",
       "      <td>False</td>\n",
       "      <td>4.35</td>\n",
       "      <td>4.62</td>\n",
       "      <td>889.64</td>\n",
       "    </tr>\n",
       "    <tr>\n",
       "      <th>26</th>\n",
       "      <td>Control Campaign</td>\n",
       "      <td>2019-08-27</td>\n",
       "      <td>2061</td>\n",
       "      <td>104678.0</td>\n",
       "      <td>91579.0</td>\n",
       "      <td>4941.0</td>\n",
       "      <td>3549.0</td>\n",
       "      <td>3249.0</td>\n",
       "      <td>980.0</td>\n",
       "      <td>605.0</td>\n",
       "      <td>Tuesday</td>\n",
       "      <td>False</td>\n",
       "      <td>False</td>\n",
       "      <td>4.72</td>\n",
       "      <td>12.24</td>\n",
       "      <td>340.66</td>\n",
       "    </tr>\n",
       "    <tr>\n",
       "      <th>27</th>\n",
       "      <td>Control Campaign</td>\n",
       "      <td>2019-08-28</td>\n",
       "      <td>2421</td>\n",
       "      <td>141654.0</td>\n",
       "      <td>125874.0</td>\n",
       "      <td>6287.0</td>\n",
       "      <td>1672.0</td>\n",
       "      <td>1589.0</td>\n",
       "      <td>1711.0</td>\n",
       "      <td>643.0</td>\n",
       "      <td>Wednesday</td>\n",
       "      <td>False</td>\n",
       "      <td>False</td>\n",
       "      <td>4.44</td>\n",
       "      <td>10.23</td>\n",
       "      <td>376.52</td>\n",
       "    </tr>\n",
       "    <tr>\n",
       "      <th>28</th>\n",
       "      <td>Control Campaign</td>\n",
       "      <td>2019-08-29</td>\n",
       "      <td>2375</td>\n",
       "      <td>92029.0</td>\n",
       "      <td>74192.0</td>\n",
       "      <td>8127.0</td>\n",
       "      <td>4891.0</td>\n",
       "      <td>4219.0</td>\n",
       "      <td>1486.0</td>\n",
       "      <td>334.0</td>\n",
       "      <td>Thursday</td>\n",
       "      <td>False</td>\n",
       "      <td>False</td>\n",
       "      <td>8.83</td>\n",
       "      <td>4.11</td>\n",
       "      <td>711.08</td>\n",
       "    </tr>\n",
       "    <tr>\n",
       "      <th>29</th>\n",
       "      <td>Control Campaign</td>\n",
       "      <td>2019-08-30</td>\n",
       "      <td>2324</td>\n",
       "      <td>111306.0</td>\n",
       "      <td>88632.0</td>\n",
       "      <td>4658.0</td>\n",
       "      <td>1615.0</td>\n",
       "      <td>1249.0</td>\n",
       "      <td>442.0</td>\n",
       "      <td>670.0</td>\n",
       "      <td>Friday</td>\n",
       "      <td>False</td>\n",
       "      <td>False</td>\n",
       "      <td>4.18</td>\n",
       "      <td>14.38</td>\n",
       "      <td>346.87</td>\n",
       "    </tr>\n",
       "  </tbody>\n",
       "</table>\n",
       "</div>"
      ],
      "text/plain": [
       "            Campaign       Date  Spend_USD  Impressions     Reach  \\\n",
       "0   Control Campaign 2019-08-01       2280      82702.0   56930.0   \n",
       "1   Control Campaign 2019-08-02       1757     121040.0  102513.0   \n",
       "2   Control Campaign 2019-08-03       2343     131711.0  110862.0   \n",
       "3   Control Campaign 2019-08-04       1940      72878.0   61235.0   \n",
       "5   Control Campaign 2019-08-06       3083     109076.0   87998.0   \n",
       "6   Control Campaign 2019-08-07       2544     142123.0  127852.0   \n",
       "7   Control Campaign 2019-08-08       1900      90939.0   65217.0   \n",
       "8   Control Campaign 2019-08-09       2813     121332.0   94896.0   \n",
       "9   Control Campaign 2019-08-10       2149     117624.0   91257.0   \n",
       "10  Control Campaign 2019-08-11       2490     115247.0   95843.0   \n",
       "11  Control Campaign 2019-08-12       2319     116639.0  100189.0   \n",
       "12  Control Campaign 2019-08-13       2697      82847.0   68214.0   \n",
       "13  Control Campaign 2019-08-14       1875     145248.0  118632.0   \n",
       "14  Control Campaign 2019-08-15       2774     132845.0  102479.0   \n",
       "15  Control Campaign 2019-08-16       2024      71274.0   42859.0   \n",
       "16  Control Campaign 2019-08-17       2177     119612.0  106518.0   \n",
       "17  Control Campaign 2019-08-18       1876     108452.0   96518.0   \n",
       "18  Control Campaign 2019-08-19       2596     107890.0   81268.0   \n",
       "19  Control Campaign 2019-08-20       2675     113430.0   78625.0   \n",
       "20  Control Campaign 2019-08-21       1803      74654.0   59873.0   \n",
       "21  Control Campaign 2019-08-22       2939     105705.0   86218.0   \n",
       "22  Control Campaign 2019-08-23       2496     129880.0  109413.0   \n",
       "23  Control Campaign 2019-08-24       1892      72515.0   51987.0   \n",
       "24  Control Campaign 2019-08-25       1962     117006.0  100398.0   \n",
       "25  Control Campaign 2019-08-26       2233     124897.0   98432.0   \n",
       "26  Control Campaign 2019-08-27       2061     104678.0   91579.0   \n",
       "27  Control Campaign 2019-08-28       2421     141654.0  125874.0   \n",
       "28  Control Campaign 2019-08-29       2375      92029.0   74192.0   \n",
       "29  Control Campaign 2019-08-30       2324     111306.0   88632.0   \n",
       "\n",
       "    Website_Clicks  Searches   Views  Add_to_Cart  Purchases        Day  \\\n",
       "0           7016.0    2290.0  2159.0       1819.0      618.0   Thursday   \n",
       "1           8110.0    2033.0  1841.0       1219.0      511.0     Friday   \n",
       "2           6508.0    1737.0  1549.0       1134.0      372.0   Saturday   \n",
       "3           3065.0    1042.0   982.0       1183.0      340.0     Sunday   \n",
       "5           4028.0    1709.0  1249.0        784.0      764.0    Tuesday   \n",
       "6           2640.0    1388.0  1106.0       1166.0      499.0  Wednesday   \n",
       "7           7260.0    3047.0  2746.0        930.0      462.0   Thursday   \n",
       "8           6198.0    2487.0  2179.0        645.0      501.0     Friday   \n",
       "9           2277.0    2475.0  1984.0       1629.0      734.0   Saturday   \n",
       "10          8137.0    2941.0  2486.0       1887.0      475.0     Sunday   \n",
       "11          2993.0    1397.0  1147.0       1439.0      794.0     Monday   \n",
       "12          6554.0    2390.0  1975.0       1794.0      766.0    Tuesday   \n",
       "13          4521.0    1209.0  1149.0       1339.0      788.0  Wednesday   \n",
       "14          4896.0    1179.0  1005.0       1641.0      366.0   Thursday   \n",
       "15          5224.0    2427.0  2158.0       1613.0      438.0     Friday   \n",
       "16          6628.0    1756.0  1642.0        878.0      222.0   Saturday   \n",
       "17          7253.0    2447.0  2115.0       1695.0      243.0     Sunday   \n",
       "18          3706.0    2483.0  2098.0        908.0      542.0     Monday   \n",
       "19          2578.0    1001.0   848.0       1709.0      299.0    Tuesday   \n",
       "20          5691.0    2711.0  2496.0       1460.0      800.0  Wednesday   \n",
       "21          6843.0    3102.0  2988.0        819.0      387.0   Thursday   \n",
       "22          4410.0    2896.0  2496.0       1913.0      766.0     Friday   \n",
       "23          4085.0    1274.0  1149.0       1146.0      585.0   Saturday   \n",
       "24          4234.0    2423.0  2096.0        883.0      386.0     Sunday   \n",
       "25          5435.0    2847.0  2421.0       1448.0      251.0     Monday   \n",
       "26          4941.0    3549.0  3249.0        980.0      605.0    Tuesday   \n",
       "27          6287.0    1672.0  1589.0       1711.0      643.0  Wednesday   \n",
       "28          8127.0    4891.0  4219.0       1486.0      334.0   Thursday   \n",
       "29          4658.0    1615.0  1249.0        442.0      670.0     Friday   \n",
       "\n",
       "    Is_Weekend  Is_Holiday  CTR_%  Conversion_Rate_%     CPP  \n",
       "0        False       False   8.48               8.81  368.93  \n",
       "1        False       False   6.70               6.30  343.84  \n",
       "2         True       False   4.94               5.72  629.84  \n",
       "3         True       False   4.21              11.09  570.59  \n",
       "5        False       False   3.69              18.97  403.53  \n",
       "6        False       False   1.86              18.90  509.82  \n",
       "7        False       False   7.98               6.36  411.26  \n",
       "8        False       False   5.11               8.08  561.48  \n",
       "9         True       False   1.94              32.24  292.78  \n",
       "10        True       False   7.06               5.84  524.21  \n",
       "11       False       False   2.57              26.53  292.07  \n",
       "12       False       False   7.91              11.69  352.09  \n",
       "13       False       False   3.11              17.43  237.94  \n",
       "14       False       False   3.69               7.48  757.92  \n",
       "15       False       False   7.33               8.38  462.10  \n",
       "16        True       False   5.54               3.35  980.63  \n",
       "17        True       False   6.69               3.35  772.02  \n",
       "18       False       False   3.43              14.62  478.97  \n",
       "19       False       False   2.27              11.60  894.65  \n",
       "20       False       False   7.62              14.06  225.38  \n",
       "21       False       False   6.47               5.66  759.43  \n",
       "22       False       False   3.40              17.37  325.85  \n",
       "23        True       False   5.63              14.32  323.42  \n",
       "24        True       False   3.62               9.12  508.29  \n",
       "25       False       False   4.35               4.62  889.64  \n",
       "26       False       False   4.72              12.24  340.66  \n",
       "27       False       False   4.44              10.23  376.52  \n",
       "28       False       False   8.83               4.11  711.08  \n",
       "29       False       False   4.18              14.38  346.87  "
      ]
     },
     "execution_count": 21,
     "metadata": {},
     "output_type": "execute_result"
    }
   ],
   "source": [
    "df_control_gp"
   ]
  },
  {
   "cell_type": "markdown",
   "id": "e764e126",
   "metadata": {
    "papermill": {
     "duration": 0.013708,
     "end_time": "2024-12-10T01:33:52.328394",
     "exception": false,
     "start_time": "2024-12-10T01:33:52.314686",
     "status": "completed"
    },
    "tags": []
   },
   "source": [
    "### Test group dataset"
   ]
  },
  {
   "cell_type": "code",
   "execution_count": 22,
   "id": "8bea9c92",
   "metadata": {
    "execution": {
     "iopub.execute_input": "2024-12-10T01:33:52.357385Z",
     "iopub.status.busy": "2024-12-10T01:33:52.357029Z",
     "iopub.status.idle": "2024-12-10T01:33:52.363137Z",
     "shell.execute_reply": "2024-12-10T01:33:52.362152Z"
    },
    "papermill": {
     "duration": 0.022948,
     "end_time": "2024-12-10T01:33:52.365074",
     "exception": false,
     "start_time": "2024-12-10T01:33:52.342126",
     "status": "completed"
    },
    "tags": []
   },
   "outputs": [
    {
     "data": {
      "text/plain": [
       "(30, 10)"
      ]
     },
     "execution_count": 22,
     "metadata": {},
     "output_type": "execute_result"
    }
   ],
   "source": [
    "df_test_gp.shape"
   ]
  },
  {
   "cell_type": "code",
   "execution_count": 23,
   "id": "0bfc8cf3",
   "metadata": {
    "execution": {
     "iopub.execute_input": "2024-12-10T01:33:52.395510Z",
     "iopub.status.busy": "2024-12-10T01:33:52.394755Z",
     "iopub.status.idle": "2024-12-10T01:33:52.404584Z",
     "shell.execute_reply": "2024-12-10T01:33:52.403641Z"
    },
    "papermill": {
     "duration": 0.0278,
     "end_time": "2024-12-10T01:33:52.407069",
     "exception": false,
     "start_time": "2024-12-10T01:33:52.379269",
     "status": "completed"
    },
    "tags": []
   },
   "outputs": [
    {
     "name": "stdout",
     "output_type": "stream",
     "text": [
      "<class 'pandas.core.frame.DataFrame'>\n",
      "RangeIndex: 30 entries, 0 to 29\n",
      "Data columns (total 10 columns):\n",
      " #   Column               Non-Null Count  Dtype \n",
      "---  ------               --------------  ----- \n",
      " 0   Campaign Name        30 non-null     object\n",
      " 1   Date                 30 non-null     object\n",
      " 2   Spend [USD]          30 non-null     int64 \n",
      " 3   # of Impressions     30 non-null     int64 \n",
      " 4   Reach                30 non-null     int64 \n",
      " 5   # of Website Clicks  30 non-null     int64 \n",
      " 6   # of Searches        30 non-null     int64 \n",
      " 7   # of View Content    30 non-null     int64 \n",
      " 8   # of Add to Cart     30 non-null     int64 \n",
      " 9   # of Purchase        30 non-null     int64 \n",
      "dtypes: int64(8), object(2)\n",
      "memory usage: 2.5+ KB\n"
     ]
    }
   ],
   "source": [
    "df_test_gp.info()"
   ]
  },
  {
   "cell_type": "code",
   "execution_count": 24,
   "id": "ad287501",
   "metadata": {
    "execution": {
     "iopub.execute_input": "2024-12-10T01:33:52.437109Z",
     "iopub.status.busy": "2024-12-10T01:33:52.436286Z",
     "iopub.status.idle": "2024-12-10T01:33:52.444343Z",
     "shell.execute_reply": "2024-12-10T01:33:52.443415Z"
    },
    "papermill": {
     "duration": 0.024989,
     "end_time": "2024-12-10T01:33:52.446106",
     "exception": false,
     "start_time": "2024-12-10T01:33:52.421117",
     "status": "completed"
    },
    "tags": []
   },
   "outputs": [
    {
     "data": {
      "text/plain": [
       "Campaign             0\n",
       "Date                 0\n",
       "Spend_USD            0\n",
       "Impressions          0\n",
       "Reach                0\n",
       "Website_Clicks       0\n",
       "Searches             0\n",
       "Views                0\n",
       "Add_to_Cart          0\n",
       "Purchases            0\n",
       "Day                  0\n",
       "Is_Weekend           0\n",
       "Is_Holiday           0\n",
       "CTR_%                0\n",
       "Conversion_Rate_%    0\n",
       "CPP                  0\n",
       "dtype: int64"
      ]
     },
     "execution_count": 24,
     "metadata": {},
     "output_type": "execute_result"
    }
   ],
   "source": [
    "df_control_gp.isna().sum()"
   ]
  },
  {
   "cell_type": "code",
   "execution_count": 25,
   "id": "5aff5400",
   "metadata": {
    "execution": {
     "iopub.execute_input": "2024-12-10T01:33:52.475785Z",
     "iopub.status.busy": "2024-12-10T01:33:52.475432Z",
     "iopub.status.idle": "2024-12-10T01:33:52.486385Z",
     "shell.execute_reply": "2024-12-10T01:33:52.485422Z"
    },
    "papermill": {
     "duration": 0.027984,
     "end_time": "2024-12-10T01:33:52.488237",
     "exception": false,
     "start_time": "2024-12-10T01:33:52.460253",
     "status": "completed"
    },
    "tags": []
   },
   "outputs": [
    {
     "data": {
      "text/html": [
       "<div>\n",
       "<style scoped>\n",
       "    .dataframe tbody tr th:only-of-type {\n",
       "        vertical-align: middle;\n",
       "    }\n",
       "\n",
       "    .dataframe tbody tr th {\n",
       "        vertical-align: top;\n",
       "    }\n",
       "\n",
       "    .dataframe thead th {\n",
       "        text-align: right;\n",
       "    }\n",
       "</style>\n",
       "<table border=\"1\" class=\"dataframe\">\n",
       "  <thead>\n",
       "    <tr style=\"text-align: right;\">\n",
       "      <th></th>\n",
       "      <th>Campaign Name</th>\n",
       "      <th>Date</th>\n",
       "      <th>Spend [USD]</th>\n",
       "      <th># of Impressions</th>\n",
       "      <th>Reach</th>\n",
       "      <th># of Website Clicks</th>\n",
       "      <th># of Searches</th>\n",
       "      <th># of View Content</th>\n",
       "      <th># of Add to Cart</th>\n",
       "      <th># of Purchase</th>\n",
       "    </tr>\n",
       "  </thead>\n",
       "  <tbody>\n",
       "    <tr>\n",
       "      <th>0</th>\n",
       "      <td>Test Campaign</td>\n",
       "      <td>1.08.2019</td>\n",
       "      <td>3008</td>\n",
       "      <td>39550</td>\n",
       "      <td>35820</td>\n",
       "      <td>3038</td>\n",
       "      <td>1946</td>\n",
       "      <td>1069</td>\n",
       "      <td>894</td>\n",
       "      <td>255</td>\n",
       "    </tr>\n",
       "    <tr>\n",
       "      <th>1</th>\n",
       "      <td>Test Campaign</td>\n",
       "      <td>2.08.2019</td>\n",
       "      <td>2542</td>\n",
       "      <td>100719</td>\n",
       "      <td>91236</td>\n",
       "      <td>4657</td>\n",
       "      <td>2359</td>\n",
       "      <td>1548</td>\n",
       "      <td>879</td>\n",
       "      <td>677</td>\n",
       "    </tr>\n",
       "    <tr>\n",
       "      <th>2</th>\n",
       "      <td>Test Campaign</td>\n",
       "      <td>3.08.2019</td>\n",
       "      <td>2365</td>\n",
       "      <td>70263</td>\n",
       "      <td>45198</td>\n",
       "      <td>7885</td>\n",
       "      <td>2572</td>\n",
       "      <td>2367</td>\n",
       "      <td>1268</td>\n",
       "      <td>578</td>\n",
       "    </tr>\n",
       "    <tr>\n",
       "      <th>3</th>\n",
       "      <td>Test Campaign</td>\n",
       "      <td>4.08.2019</td>\n",
       "      <td>2710</td>\n",
       "      <td>78451</td>\n",
       "      <td>25937</td>\n",
       "      <td>4216</td>\n",
       "      <td>2216</td>\n",
       "      <td>1437</td>\n",
       "      <td>566</td>\n",
       "      <td>340</td>\n",
       "    </tr>\n",
       "    <tr>\n",
       "      <th>4</th>\n",
       "      <td>Test Campaign</td>\n",
       "      <td>5.08.2019</td>\n",
       "      <td>2297</td>\n",
       "      <td>114295</td>\n",
       "      <td>95138</td>\n",
       "      <td>5863</td>\n",
       "      <td>2106</td>\n",
       "      <td>858</td>\n",
       "      <td>956</td>\n",
       "      <td>768</td>\n",
       "    </tr>\n",
       "  </tbody>\n",
       "</table>\n",
       "</div>"
      ],
      "text/plain": [
       "   Campaign Name       Date  Spend [USD]  # of Impressions  Reach  \\\n",
       "0  Test Campaign  1.08.2019         3008             39550  35820   \n",
       "1  Test Campaign  2.08.2019         2542            100719  91236   \n",
       "2  Test Campaign  3.08.2019         2365             70263  45198   \n",
       "3  Test Campaign  4.08.2019         2710             78451  25937   \n",
       "4  Test Campaign  5.08.2019         2297            114295  95138   \n",
       "\n",
       "   # of Website Clicks  # of Searches  # of View Content  # of Add to Cart  \\\n",
       "0                 3038           1946               1069               894   \n",
       "1                 4657           2359               1548               879   \n",
       "2                 7885           2572               2367              1268   \n",
       "3                 4216           2216               1437               566   \n",
       "4                 5863           2106                858               956   \n",
       "\n",
       "   # of Purchase  \n",
       "0            255  \n",
       "1            677  \n",
       "2            578  \n",
       "3            340  \n",
       "4            768  "
      ]
     },
     "execution_count": 25,
     "metadata": {},
     "output_type": "execute_result"
    }
   ],
   "source": [
    "df_test_gp.head()"
   ]
  },
  {
   "cell_type": "markdown",
   "id": "9b620392",
   "metadata": {
    "papermill": {
     "duration": 0.013143,
     "end_time": "2024-12-10T01:33:52.515858",
     "exception": false,
     "start_time": "2024-12-10T01:33:52.502715",
     "status": "completed"
    },
    "tags": []
   },
   "source": [
    "#### Converting date format"
   ]
  },
  {
   "cell_type": "code",
   "execution_count": 26,
   "id": "87218084",
   "metadata": {
    "execution": {
     "iopub.execute_input": "2024-12-10T01:33:52.546008Z",
     "iopub.status.busy": "2024-12-10T01:33:52.545650Z",
     "iopub.status.idle": "2024-12-10T01:33:52.551550Z",
     "shell.execute_reply": "2024-12-10T01:33:52.550609Z"
    },
    "papermill": {
     "duration": 0.023106,
     "end_time": "2024-12-10T01:33:52.553337",
     "exception": false,
     "start_time": "2024-12-10T01:33:52.530231",
     "status": "completed"
    },
    "tags": []
   },
   "outputs": [],
   "source": [
    "df_test_gp['Date'] = pd.to_datetime(df_test_gp['Date'], format = \"%d.%m.%Y\")"
   ]
  },
  {
   "cell_type": "code",
   "execution_count": 27,
   "id": "ab6a6039",
   "metadata": {
    "execution": {
     "iopub.execute_input": "2024-12-10T01:33:52.584285Z",
     "iopub.status.busy": "2024-12-10T01:33:52.583667Z",
     "iopub.status.idle": "2024-12-10T01:33:52.594949Z",
     "shell.execute_reply": "2024-12-10T01:33:52.594012Z"
    },
    "papermill": {
     "duration": 0.029033,
     "end_time": "2024-12-10T01:33:52.596873",
     "exception": false,
     "start_time": "2024-12-10T01:33:52.567840",
     "status": "completed"
    },
    "tags": []
   },
   "outputs": [
    {
     "data": {
      "text/html": [
       "<div>\n",
       "<style scoped>\n",
       "    .dataframe tbody tr th:only-of-type {\n",
       "        vertical-align: middle;\n",
       "    }\n",
       "\n",
       "    .dataframe tbody tr th {\n",
       "        vertical-align: top;\n",
       "    }\n",
       "\n",
       "    .dataframe thead th {\n",
       "        text-align: right;\n",
       "    }\n",
       "</style>\n",
       "<table border=\"1\" class=\"dataframe\">\n",
       "  <thead>\n",
       "    <tr style=\"text-align: right;\">\n",
       "      <th></th>\n",
       "      <th>Campaign Name</th>\n",
       "      <th>Date</th>\n",
       "      <th>Spend [USD]</th>\n",
       "      <th># of Impressions</th>\n",
       "      <th>Reach</th>\n",
       "      <th># of Website Clicks</th>\n",
       "      <th># of Searches</th>\n",
       "      <th># of View Content</th>\n",
       "      <th># of Add to Cart</th>\n",
       "      <th># of Purchase</th>\n",
       "    </tr>\n",
       "  </thead>\n",
       "  <tbody>\n",
       "    <tr>\n",
       "      <th>0</th>\n",
       "      <td>Test Campaign</td>\n",
       "      <td>2019-08-01</td>\n",
       "      <td>3008</td>\n",
       "      <td>39550</td>\n",
       "      <td>35820</td>\n",
       "      <td>3038</td>\n",
       "      <td>1946</td>\n",
       "      <td>1069</td>\n",
       "      <td>894</td>\n",
       "      <td>255</td>\n",
       "    </tr>\n",
       "    <tr>\n",
       "      <th>1</th>\n",
       "      <td>Test Campaign</td>\n",
       "      <td>2019-08-02</td>\n",
       "      <td>2542</td>\n",
       "      <td>100719</td>\n",
       "      <td>91236</td>\n",
       "      <td>4657</td>\n",
       "      <td>2359</td>\n",
       "      <td>1548</td>\n",
       "      <td>879</td>\n",
       "      <td>677</td>\n",
       "    </tr>\n",
       "    <tr>\n",
       "      <th>2</th>\n",
       "      <td>Test Campaign</td>\n",
       "      <td>2019-08-03</td>\n",
       "      <td>2365</td>\n",
       "      <td>70263</td>\n",
       "      <td>45198</td>\n",
       "      <td>7885</td>\n",
       "      <td>2572</td>\n",
       "      <td>2367</td>\n",
       "      <td>1268</td>\n",
       "      <td>578</td>\n",
       "    </tr>\n",
       "    <tr>\n",
       "      <th>3</th>\n",
       "      <td>Test Campaign</td>\n",
       "      <td>2019-08-04</td>\n",
       "      <td>2710</td>\n",
       "      <td>78451</td>\n",
       "      <td>25937</td>\n",
       "      <td>4216</td>\n",
       "      <td>2216</td>\n",
       "      <td>1437</td>\n",
       "      <td>566</td>\n",
       "      <td>340</td>\n",
       "    </tr>\n",
       "    <tr>\n",
       "      <th>4</th>\n",
       "      <td>Test Campaign</td>\n",
       "      <td>2019-08-05</td>\n",
       "      <td>2297</td>\n",
       "      <td>114295</td>\n",
       "      <td>95138</td>\n",
       "      <td>5863</td>\n",
       "      <td>2106</td>\n",
       "      <td>858</td>\n",
       "      <td>956</td>\n",
       "      <td>768</td>\n",
       "    </tr>\n",
       "  </tbody>\n",
       "</table>\n",
       "</div>"
      ],
      "text/plain": [
       "   Campaign Name       Date  Spend [USD]  # of Impressions  Reach  \\\n",
       "0  Test Campaign 2019-08-01         3008             39550  35820   \n",
       "1  Test Campaign 2019-08-02         2542            100719  91236   \n",
       "2  Test Campaign 2019-08-03         2365             70263  45198   \n",
       "3  Test Campaign 2019-08-04         2710             78451  25937   \n",
       "4  Test Campaign 2019-08-05         2297            114295  95138   \n",
       "\n",
       "   # of Website Clicks  # of Searches  # of View Content  # of Add to Cart  \\\n",
       "0                 3038           1946               1069               894   \n",
       "1                 4657           2359               1548               879   \n",
       "2                 7885           2572               2367              1268   \n",
       "3                 4216           2216               1437               566   \n",
       "4                 5863           2106                858               956   \n",
       "\n",
       "   # of Purchase  \n",
       "0            255  \n",
       "1            677  \n",
       "2            578  \n",
       "3            340  \n",
       "4            768  "
      ]
     },
     "execution_count": 27,
     "metadata": {},
     "output_type": "execute_result"
    }
   ],
   "source": [
    "df_test_gp.head()"
   ]
  },
  {
   "cell_type": "code",
   "execution_count": 28,
   "id": "67b127f6",
   "metadata": {
    "execution": {
     "iopub.execute_input": "2024-12-10T01:33:52.627341Z",
     "iopub.status.busy": "2024-12-10T01:33:52.627000Z",
     "iopub.status.idle": "2024-12-10T01:33:52.635999Z",
     "shell.execute_reply": "2024-12-10T01:33:52.635018Z"
    },
    "papermill": {
     "duration": 0.027199,
     "end_time": "2024-12-10T01:33:52.638469",
     "exception": false,
     "start_time": "2024-12-10T01:33:52.611270",
     "status": "completed"
    },
    "tags": []
   },
   "outputs": [
    {
     "name": "stderr",
     "output_type": "stream",
     "text": [
      "/tmp/ipykernel_17/983479078.py:10: FutureWarning: The behavior of 'isin' with dtype=datetime64[ns] and castable values (e.g. strings) is deprecated. In a future version, these will not be considered matching by isin. Explicitly cast to the appropriate dtype before calling isin instead.\n",
      "  df_test_gp['Is_Holiday'] = df_test_gp['Date'].isin(country_holidays)\n"
     ]
    }
   ],
   "source": [
    "df_test_gp['Day'] = df_test_gp['Date'].dt.day_name()\n",
    "import holidays\n",
    "# Add a column indicating if the date is a weekend\n",
    "df_test_gp['Is_Weekend'] = df_test_gp['Day'].isin(['Saturday', 'Sunday'])\n",
    "\n",
    "# Define the country-specific holidays (e.g., US holidays)\n",
    "country_holidays = holidays.US(years=df_test_gp['Date'].dt.year.unique())\n",
    "\n",
    "# Add a column indicating if the date is a holiday\n",
    "df_test_gp['Is_Holiday'] = df_test_gp['Date'].isin(country_holidays)"
   ]
  },
  {
   "cell_type": "code",
   "execution_count": 29,
   "id": "9e7603a2",
   "metadata": {
    "execution": {
     "iopub.execute_input": "2024-12-10T01:33:52.669099Z",
     "iopub.status.busy": "2024-12-10T01:33:52.668737Z",
     "iopub.status.idle": "2024-12-10T01:33:52.674198Z",
     "shell.execute_reply": "2024-12-10T01:33:52.673248Z"
    },
    "papermill": {
     "duration": 0.023019,
     "end_time": "2024-12-10T01:33:52.675998",
     "exception": false,
     "start_time": "2024-12-10T01:33:52.652979",
     "status": "completed"
    },
    "tags": []
   },
   "outputs": [],
   "source": [
    "df_test_gp.rename(columns={\n",
    "    'Campaign Name': 'Campaign',\n",
    "    'Date': 'Date',\n",
    "    'Spend [USD]': 'Spend_USD',\n",
    "    '# of Impressions': 'Impressions',\n",
    "    'Reach': 'Reach',\n",
    "    '# of Website Clicks': 'Website_Clicks',\n",
    "    '# of Searches': 'Searches',\n",
    "    '# of View Content': 'Views',\n",
    "    '# of Add to Cart': 'Add_to_Cart',\n",
    "    '# of Purchase': 'Purchases'\n",
    "}, inplace=True)\n"
   ]
  },
  {
   "cell_type": "code",
   "execution_count": 30,
   "id": "356cae04",
   "metadata": {
    "execution": {
     "iopub.execute_input": "2024-12-10T01:33:52.707115Z",
     "iopub.status.busy": "2024-12-10T01:33:52.706749Z",
     "iopub.status.idle": "2024-12-10T01:33:52.720024Z",
     "shell.execute_reply": "2024-12-10T01:33:52.718858Z"
    },
    "papermill": {
     "duration": 0.031084,
     "end_time": "2024-12-10T01:33:52.722183",
     "exception": false,
     "start_time": "2024-12-10T01:33:52.691099",
     "status": "completed"
    },
    "tags": []
   },
   "outputs": [
    {
     "data": {
      "text/html": [
       "<div>\n",
       "<style scoped>\n",
       "    .dataframe tbody tr th:only-of-type {\n",
       "        vertical-align: middle;\n",
       "    }\n",
       "\n",
       "    .dataframe tbody tr th {\n",
       "        vertical-align: top;\n",
       "    }\n",
       "\n",
       "    .dataframe thead th {\n",
       "        text-align: right;\n",
       "    }\n",
       "</style>\n",
       "<table border=\"1\" class=\"dataframe\">\n",
       "  <thead>\n",
       "    <tr style=\"text-align: right;\">\n",
       "      <th></th>\n",
       "      <th>Campaign</th>\n",
       "      <th>Date</th>\n",
       "      <th>Spend_USD</th>\n",
       "      <th>Impressions</th>\n",
       "      <th>Reach</th>\n",
       "      <th>Website_Clicks</th>\n",
       "      <th>Searches</th>\n",
       "      <th>Views</th>\n",
       "      <th>Add_to_Cart</th>\n",
       "      <th>Purchases</th>\n",
       "      <th>Day</th>\n",
       "      <th>Is_Weekend</th>\n",
       "      <th>Is_Holiday</th>\n",
       "    </tr>\n",
       "  </thead>\n",
       "  <tbody>\n",
       "    <tr>\n",
       "      <th>0</th>\n",
       "      <td>Test Campaign</td>\n",
       "      <td>2019-08-01</td>\n",
       "      <td>3008</td>\n",
       "      <td>39550</td>\n",
       "      <td>35820</td>\n",
       "      <td>3038</td>\n",
       "      <td>1946</td>\n",
       "      <td>1069</td>\n",
       "      <td>894</td>\n",
       "      <td>255</td>\n",
       "      <td>Thursday</td>\n",
       "      <td>False</td>\n",
       "      <td>False</td>\n",
       "    </tr>\n",
       "    <tr>\n",
       "      <th>1</th>\n",
       "      <td>Test Campaign</td>\n",
       "      <td>2019-08-02</td>\n",
       "      <td>2542</td>\n",
       "      <td>100719</td>\n",
       "      <td>91236</td>\n",
       "      <td>4657</td>\n",
       "      <td>2359</td>\n",
       "      <td>1548</td>\n",
       "      <td>879</td>\n",
       "      <td>677</td>\n",
       "      <td>Friday</td>\n",
       "      <td>False</td>\n",
       "      <td>False</td>\n",
       "    </tr>\n",
       "    <tr>\n",
       "      <th>2</th>\n",
       "      <td>Test Campaign</td>\n",
       "      <td>2019-08-03</td>\n",
       "      <td>2365</td>\n",
       "      <td>70263</td>\n",
       "      <td>45198</td>\n",
       "      <td>7885</td>\n",
       "      <td>2572</td>\n",
       "      <td>2367</td>\n",
       "      <td>1268</td>\n",
       "      <td>578</td>\n",
       "      <td>Saturday</td>\n",
       "      <td>True</td>\n",
       "      <td>False</td>\n",
       "    </tr>\n",
       "    <tr>\n",
       "      <th>3</th>\n",
       "      <td>Test Campaign</td>\n",
       "      <td>2019-08-04</td>\n",
       "      <td>2710</td>\n",
       "      <td>78451</td>\n",
       "      <td>25937</td>\n",
       "      <td>4216</td>\n",
       "      <td>2216</td>\n",
       "      <td>1437</td>\n",
       "      <td>566</td>\n",
       "      <td>340</td>\n",
       "      <td>Sunday</td>\n",
       "      <td>True</td>\n",
       "      <td>False</td>\n",
       "    </tr>\n",
       "    <tr>\n",
       "      <th>4</th>\n",
       "      <td>Test Campaign</td>\n",
       "      <td>2019-08-05</td>\n",
       "      <td>2297</td>\n",
       "      <td>114295</td>\n",
       "      <td>95138</td>\n",
       "      <td>5863</td>\n",
       "      <td>2106</td>\n",
       "      <td>858</td>\n",
       "      <td>956</td>\n",
       "      <td>768</td>\n",
       "      <td>Monday</td>\n",
       "      <td>False</td>\n",
       "      <td>False</td>\n",
       "    </tr>\n",
       "  </tbody>\n",
       "</table>\n",
       "</div>"
      ],
      "text/plain": [
       "        Campaign       Date  Spend_USD  Impressions  Reach  Website_Clicks  \\\n",
       "0  Test Campaign 2019-08-01       3008        39550  35820            3038   \n",
       "1  Test Campaign 2019-08-02       2542       100719  91236            4657   \n",
       "2  Test Campaign 2019-08-03       2365        70263  45198            7885   \n",
       "3  Test Campaign 2019-08-04       2710        78451  25937            4216   \n",
       "4  Test Campaign 2019-08-05       2297       114295  95138            5863   \n",
       "\n",
       "   Searches  Views  Add_to_Cart  Purchases       Day  Is_Weekend  Is_Holiday  \n",
       "0      1946   1069          894        255  Thursday       False       False  \n",
       "1      2359   1548          879        677    Friday       False       False  \n",
       "2      2572   2367         1268        578  Saturday        True       False  \n",
       "3      2216   1437          566        340    Sunday        True       False  \n",
       "4      2106    858          956        768    Monday       False       False  "
      ]
     },
     "execution_count": 30,
     "metadata": {},
     "output_type": "execute_result"
    }
   ],
   "source": [
    "df_test_gp.head()"
   ]
  },
  {
   "cell_type": "markdown",
   "id": "386c0eeb",
   "metadata": {
    "papermill": {
     "duration": 0.014184,
     "end_time": "2024-12-10T01:33:52.752125",
     "exception": false,
     "start_time": "2024-12-10T01:33:52.737941",
     "status": "completed"
    },
    "tags": []
   },
   "source": [
    "#### Adding performance metrics [CTR,Conversion Rate and CPP] to test campaign dataset"
   ]
  },
  {
   "cell_type": "code",
   "execution_count": 31,
   "id": "58437a66",
   "metadata": {
    "execution": {
     "iopub.execute_input": "2024-12-10T01:33:52.782886Z",
     "iopub.status.busy": "2024-12-10T01:33:52.782214Z",
     "iopub.status.idle": "2024-12-10T01:33:52.790727Z",
     "shell.execute_reply": "2024-12-10T01:33:52.789804Z"
    },
    "papermill": {
     "duration": 0.026252,
     "end_time": "2024-12-10T01:33:52.792831",
     "exception": false,
     "start_time": "2024-12-10T01:33:52.766579",
     "status": "completed"
    },
    "tags": []
   },
   "outputs": [],
   "source": [
    "df_test_gp['CTR_%'] = round(((df_test_gp['Website_Clicks']/df_test_gp['Impressions'])*100),2)\n",
    "df_test_gp['Conversion_Rate_%'] = round(((df_test_gp['Purchases']/df_test_gp['Website_Clicks'])*100),2)\n",
    "df_test_gp['CPP'] = round(((df_test_gp['Spend_USD']/df_test_gp['Purchases'])*100),2)"
   ]
  },
  {
   "cell_type": "code",
   "execution_count": 32,
   "id": "4799d0a3",
   "metadata": {
    "execution": {
     "iopub.execute_input": "2024-12-10T01:33:52.823927Z",
     "iopub.status.busy": "2024-12-10T01:33:52.823585Z",
     "iopub.status.idle": "2024-12-10T01:33:52.846412Z",
     "shell.execute_reply": "2024-12-10T01:33:52.845451Z"
    },
    "papermill": {
     "duration": 0.040769,
     "end_time": "2024-12-10T01:33:52.848540",
     "exception": false,
     "start_time": "2024-12-10T01:33:52.807771",
     "status": "completed"
    },
    "tags": []
   },
   "outputs": [
    {
     "data": {
      "text/html": [
       "<div>\n",
       "<style scoped>\n",
       "    .dataframe tbody tr th:only-of-type {\n",
       "        vertical-align: middle;\n",
       "    }\n",
       "\n",
       "    .dataframe tbody tr th {\n",
       "        vertical-align: top;\n",
       "    }\n",
       "\n",
       "    .dataframe thead th {\n",
       "        text-align: right;\n",
       "    }\n",
       "</style>\n",
       "<table border=\"1\" class=\"dataframe\">\n",
       "  <thead>\n",
       "    <tr style=\"text-align: right;\">\n",
       "      <th></th>\n",
       "      <th>Campaign</th>\n",
       "      <th>Date</th>\n",
       "      <th>Spend_USD</th>\n",
       "      <th>Impressions</th>\n",
       "      <th>Reach</th>\n",
       "      <th>Website_Clicks</th>\n",
       "      <th>Searches</th>\n",
       "      <th>Views</th>\n",
       "      <th>Add_to_Cart</th>\n",
       "      <th>Purchases</th>\n",
       "      <th>Day</th>\n",
       "      <th>Is_Weekend</th>\n",
       "      <th>Is_Holiday</th>\n",
       "      <th>CTR_%</th>\n",
       "      <th>Conversion_Rate_%</th>\n",
       "      <th>CPP</th>\n",
       "    </tr>\n",
       "  </thead>\n",
       "  <tbody>\n",
       "    <tr>\n",
       "      <th>0</th>\n",
       "      <td>Test Campaign</td>\n",
       "      <td>2019-08-01</td>\n",
       "      <td>3008</td>\n",
       "      <td>39550</td>\n",
       "      <td>35820</td>\n",
       "      <td>3038</td>\n",
       "      <td>1946</td>\n",
       "      <td>1069</td>\n",
       "      <td>894</td>\n",
       "      <td>255</td>\n",
       "      <td>Thursday</td>\n",
       "      <td>False</td>\n",
       "      <td>False</td>\n",
       "      <td>7.68</td>\n",
       "      <td>8.39</td>\n",
       "      <td>1179.61</td>\n",
       "    </tr>\n",
       "    <tr>\n",
       "      <th>1</th>\n",
       "      <td>Test Campaign</td>\n",
       "      <td>2019-08-02</td>\n",
       "      <td>2542</td>\n",
       "      <td>100719</td>\n",
       "      <td>91236</td>\n",
       "      <td>4657</td>\n",
       "      <td>2359</td>\n",
       "      <td>1548</td>\n",
       "      <td>879</td>\n",
       "      <td>677</td>\n",
       "      <td>Friday</td>\n",
       "      <td>False</td>\n",
       "      <td>False</td>\n",
       "      <td>4.62</td>\n",
       "      <td>14.54</td>\n",
       "      <td>375.48</td>\n",
       "    </tr>\n",
       "    <tr>\n",
       "      <th>2</th>\n",
       "      <td>Test Campaign</td>\n",
       "      <td>2019-08-03</td>\n",
       "      <td>2365</td>\n",
       "      <td>70263</td>\n",
       "      <td>45198</td>\n",
       "      <td>7885</td>\n",
       "      <td>2572</td>\n",
       "      <td>2367</td>\n",
       "      <td>1268</td>\n",
       "      <td>578</td>\n",
       "      <td>Saturday</td>\n",
       "      <td>True</td>\n",
       "      <td>False</td>\n",
       "      <td>11.22</td>\n",
       "      <td>7.33</td>\n",
       "      <td>409.17</td>\n",
       "    </tr>\n",
       "    <tr>\n",
       "      <th>3</th>\n",
       "      <td>Test Campaign</td>\n",
       "      <td>2019-08-04</td>\n",
       "      <td>2710</td>\n",
       "      <td>78451</td>\n",
       "      <td>25937</td>\n",
       "      <td>4216</td>\n",
       "      <td>2216</td>\n",
       "      <td>1437</td>\n",
       "      <td>566</td>\n",
       "      <td>340</td>\n",
       "      <td>Sunday</td>\n",
       "      <td>True</td>\n",
       "      <td>False</td>\n",
       "      <td>5.37</td>\n",
       "      <td>8.06</td>\n",
       "      <td>797.06</td>\n",
       "    </tr>\n",
       "    <tr>\n",
       "      <th>4</th>\n",
       "      <td>Test Campaign</td>\n",
       "      <td>2019-08-05</td>\n",
       "      <td>2297</td>\n",
       "      <td>114295</td>\n",
       "      <td>95138</td>\n",
       "      <td>5863</td>\n",
       "      <td>2106</td>\n",
       "      <td>858</td>\n",
       "      <td>956</td>\n",
       "      <td>768</td>\n",
       "      <td>Monday</td>\n",
       "      <td>False</td>\n",
       "      <td>False</td>\n",
       "      <td>5.13</td>\n",
       "      <td>13.10</td>\n",
       "      <td>299.09</td>\n",
       "    </tr>\n",
       "    <tr>\n",
       "      <th>5</th>\n",
       "      <td>Test Campaign</td>\n",
       "      <td>2019-08-06</td>\n",
       "      <td>2458</td>\n",
       "      <td>42684</td>\n",
       "      <td>31489</td>\n",
       "      <td>7488</td>\n",
       "      <td>1854</td>\n",
       "      <td>1073</td>\n",
       "      <td>882</td>\n",
       "      <td>488</td>\n",
       "      <td>Tuesday</td>\n",
       "      <td>False</td>\n",
       "      <td>False</td>\n",
       "      <td>17.54</td>\n",
       "      <td>6.52</td>\n",
       "      <td>503.69</td>\n",
       "    </tr>\n",
       "    <tr>\n",
       "      <th>6</th>\n",
       "      <td>Test Campaign</td>\n",
       "      <td>2019-08-07</td>\n",
       "      <td>2838</td>\n",
       "      <td>53986</td>\n",
       "      <td>42148</td>\n",
       "      <td>4221</td>\n",
       "      <td>2733</td>\n",
       "      <td>2182</td>\n",
       "      <td>1301</td>\n",
       "      <td>890</td>\n",
       "      <td>Wednesday</td>\n",
       "      <td>False</td>\n",
       "      <td>False</td>\n",
       "      <td>7.82</td>\n",
       "      <td>21.09</td>\n",
       "      <td>318.88</td>\n",
       "    </tr>\n",
       "    <tr>\n",
       "      <th>7</th>\n",
       "      <td>Test Campaign</td>\n",
       "      <td>2019-08-08</td>\n",
       "      <td>2916</td>\n",
       "      <td>33669</td>\n",
       "      <td>20149</td>\n",
       "      <td>7184</td>\n",
       "      <td>2867</td>\n",
       "      <td>2194</td>\n",
       "      <td>1240</td>\n",
       "      <td>431</td>\n",
       "      <td>Thursday</td>\n",
       "      <td>False</td>\n",
       "      <td>False</td>\n",
       "      <td>21.34</td>\n",
       "      <td>6.00</td>\n",
       "      <td>676.57</td>\n",
       "    </tr>\n",
       "    <tr>\n",
       "      <th>8</th>\n",
       "      <td>Test Campaign</td>\n",
       "      <td>2019-08-09</td>\n",
       "      <td>2652</td>\n",
       "      <td>45511</td>\n",
       "      <td>31598</td>\n",
       "      <td>8259</td>\n",
       "      <td>2899</td>\n",
       "      <td>2761</td>\n",
       "      <td>1200</td>\n",
       "      <td>845</td>\n",
       "      <td>Friday</td>\n",
       "      <td>False</td>\n",
       "      <td>False</td>\n",
       "      <td>18.15</td>\n",
       "      <td>10.23</td>\n",
       "      <td>313.85</td>\n",
       "    </tr>\n",
       "    <tr>\n",
       "      <th>9</th>\n",
       "      <td>Test Campaign</td>\n",
       "      <td>2019-08-10</td>\n",
       "      <td>2790</td>\n",
       "      <td>95054</td>\n",
       "      <td>79632</td>\n",
       "      <td>8125</td>\n",
       "      <td>2312</td>\n",
       "      <td>1804</td>\n",
       "      <td>424</td>\n",
       "      <td>275</td>\n",
       "      <td>Saturday</td>\n",
       "      <td>True</td>\n",
       "      <td>False</td>\n",
       "      <td>8.55</td>\n",
       "      <td>3.38</td>\n",
       "      <td>1014.55</td>\n",
       "    </tr>\n",
       "    <tr>\n",
       "      <th>10</th>\n",
       "      <td>Test Campaign</td>\n",
       "      <td>2019-08-11</td>\n",
       "      <td>2420</td>\n",
       "      <td>83633</td>\n",
       "      <td>71286</td>\n",
       "      <td>3750</td>\n",
       "      <td>2893</td>\n",
       "      <td>2617</td>\n",
       "      <td>1075</td>\n",
       "      <td>668</td>\n",
       "      <td>Sunday</td>\n",
       "      <td>True</td>\n",
       "      <td>False</td>\n",
       "      <td>4.48</td>\n",
       "      <td>17.81</td>\n",
       "      <td>362.28</td>\n",
       "    </tr>\n",
       "    <tr>\n",
       "      <th>11</th>\n",
       "      <td>Test Campaign</td>\n",
       "      <td>2019-08-12</td>\n",
       "      <td>2831</td>\n",
       "      <td>124591</td>\n",
       "      <td>10598</td>\n",
       "      <td>8264</td>\n",
       "      <td>2081</td>\n",
       "      <td>1992</td>\n",
       "      <td>1382</td>\n",
       "      <td>709</td>\n",
       "      <td>Monday</td>\n",
       "      <td>False</td>\n",
       "      <td>False</td>\n",
       "      <td>6.63</td>\n",
       "      <td>8.58</td>\n",
       "      <td>399.29</td>\n",
       "    </tr>\n",
       "    <tr>\n",
       "      <th>12</th>\n",
       "      <td>Test Campaign</td>\n",
       "      <td>2019-08-13</td>\n",
       "      <td>1972</td>\n",
       "      <td>65827</td>\n",
       "      <td>49531</td>\n",
       "      <td>7568</td>\n",
       "      <td>2213</td>\n",
       "      <td>2058</td>\n",
       "      <td>1391</td>\n",
       "      <td>812</td>\n",
       "      <td>Tuesday</td>\n",
       "      <td>False</td>\n",
       "      <td>False</td>\n",
       "      <td>11.50</td>\n",
       "      <td>10.73</td>\n",
       "      <td>242.86</td>\n",
       "    </tr>\n",
       "    <tr>\n",
       "      <th>13</th>\n",
       "      <td>Test Campaign</td>\n",
       "      <td>2019-08-14</td>\n",
       "      <td>2537</td>\n",
       "      <td>56304</td>\n",
       "      <td>25982</td>\n",
       "      <td>3993</td>\n",
       "      <td>1979</td>\n",
       "      <td>1059</td>\n",
       "      <td>779</td>\n",
       "      <td>340</td>\n",
       "      <td>Wednesday</td>\n",
       "      <td>False</td>\n",
       "      <td>False</td>\n",
       "      <td>7.09</td>\n",
       "      <td>8.51</td>\n",
       "      <td>746.18</td>\n",
       "    </tr>\n",
       "    <tr>\n",
       "      <th>14</th>\n",
       "      <td>Test Campaign</td>\n",
       "      <td>2019-08-15</td>\n",
       "      <td>2516</td>\n",
       "      <td>94338</td>\n",
       "      <td>76219</td>\n",
       "      <td>4993</td>\n",
       "      <td>2537</td>\n",
       "      <td>1609</td>\n",
       "      <td>1090</td>\n",
       "      <td>398</td>\n",
       "      <td>Thursday</td>\n",
       "      <td>False</td>\n",
       "      <td>False</td>\n",
       "      <td>5.29</td>\n",
       "      <td>7.97</td>\n",
       "      <td>632.16</td>\n",
       "    </tr>\n",
       "    <tr>\n",
       "      <th>15</th>\n",
       "      <td>Test Campaign</td>\n",
       "      <td>2019-08-16</td>\n",
       "      <td>3076</td>\n",
       "      <td>106584</td>\n",
       "      <td>81389</td>\n",
       "      <td>6800</td>\n",
       "      <td>2661</td>\n",
       "      <td>2594</td>\n",
       "      <td>1059</td>\n",
       "      <td>487</td>\n",
       "      <td>Friday</td>\n",
       "      <td>False</td>\n",
       "      <td>False</td>\n",
       "      <td>6.38</td>\n",
       "      <td>7.16</td>\n",
       "      <td>631.62</td>\n",
       "    </tr>\n",
       "    <tr>\n",
       "      <th>16</th>\n",
       "      <td>Test Campaign</td>\n",
       "      <td>2019-08-17</td>\n",
       "      <td>1968</td>\n",
       "      <td>95843</td>\n",
       "      <td>54389</td>\n",
       "      <td>7910</td>\n",
       "      <td>1995</td>\n",
       "      <td>1576</td>\n",
       "      <td>383</td>\n",
       "      <td>238</td>\n",
       "      <td>Saturday</td>\n",
       "      <td>True</td>\n",
       "      <td>False</td>\n",
       "      <td>8.25</td>\n",
       "      <td>3.01</td>\n",
       "      <td>826.89</td>\n",
       "    </tr>\n",
       "    <tr>\n",
       "      <th>17</th>\n",
       "      <td>Test Campaign</td>\n",
       "      <td>2019-08-18</td>\n",
       "      <td>1979</td>\n",
       "      <td>53632</td>\n",
       "      <td>43241</td>\n",
       "      <td>6909</td>\n",
       "      <td>2824</td>\n",
       "      <td>2522</td>\n",
       "      <td>461</td>\n",
       "      <td>257</td>\n",
       "      <td>Sunday</td>\n",
       "      <td>True</td>\n",
       "      <td>False</td>\n",
       "      <td>12.88</td>\n",
       "      <td>3.72</td>\n",
       "      <td>770.04</td>\n",
       "    </tr>\n",
       "    <tr>\n",
       "      <th>18</th>\n",
       "      <td>Test Campaign</td>\n",
       "      <td>2019-08-19</td>\n",
       "      <td>2626</td>\n",
       "      <td>22521</td>\n",
       "      <td>10698</td>\n",
       "      <td>7617</td>\n",
       "      <td>2924</td>\n",
       "      <td>2801</td>\n",
       "      <td>788</td>\n",
       "      <td>512</td>\n",
       "      <td>Monday</td>\n",
       "      <td>False</td>\n",
       "      <td>False</td>\n",
       "      <td>33.82</td>\n",
       "      <td>6.72</td>\n",
       "      <td>512.89</td>\n",
       "    </tr>\n",
       "    <tr>\n",
       "      <th>19</th>\n",
       "      <td>Test Campaign</td>\n",
       "      <td>2019-08-20</td>\n",
       "      <td>2712</td>\n",
       "      <td>39470</td>\n",
       "      <td>31893</td>\n",
       "      <td>6050</td>\n",
       "      <td>2061</td>\n",
       "      <td>1894</td>\n",
       "      <td>1047</td>\n",
       "      <td>730</td>\n",
       "      <td>Tuesday</td>\n",
       "      <td>False</td>\n",
       "      <td>False</td>\n",
       "      <td>15.33</td>\n",
       "      <td>12.07</td>\n",
       "      <td>371.51</td>\n",
       "    </tr>\n",
       "    <tr>\n",
       "      <th>20</th>\n",
       "      <td>Test Campaign</td>\n",
       "      <td>2019-08-21</td>\n",
       "      <td>3112</td>\n",
       "      <td>133771</td>\n",
       "      <td>109834</td>\n",
       "      <td>5471</td>\n",
       "      <td>1995</td>\n",
       "      <td>1868</td>\n",
       "      <td>278</td>\n",
       "      <td>245</td>\n",
       "      <td>Wednesday</td>\n",
       "      <td>False</td>\n",
       "      <td>False</td>\n",
       "      <td>4.09</td>\n",
       "      <td>4.48</td>\n",
       "      <td>1270.20</td>\n",
       "    </tr>\n",
       "    <tr>\n",
       "      <th>21</th>\n",
       "      <td>Test Campaign</td>\n",
       "      <td>2019-08-22</td>\n",
       "      <td>2899</td>\n",
       "      <td>34752</td>\n",
       "      <td>27932</td>\n",
       "      <td>4431</td>\n",
       "      <td>1983</td>\n",
       "      <td>1131</td>\n",
       "      <td>367</td>\n",
       "      <td>276</td>\n",
       "      <td>Thursday</td>\n",
       "      <td>False</td>\n",
       "      <td>False</td>\n",
       "      <td>12.75</td>\n",
       "      <td>6.23</td>\n",
       "      <td>1050.36</td>\n",
       "    </tr>\n",
       "    <tr>\n",
       "      <th>22</th>\n",
       "      <td>Test Campaign</td>\n",
       "      <td>2019-08-23</td>\n",
       "      <td>2407</td>\n",
       "      <td>60286</td>\n",
       "      <td>49329</td>\n",
       "      <td>5077</td>\n",
       "      <td>2592</td>\n",
       "      <td>2004</td>\n",
       "      <td>632</td>\n",
       "      <td>473</td>\n",
       "      <td>Friday</td>\n",
       "      <td>False</td>\n",
       "      <td>False</td>\n",
       "      <td>8.42</td>\n",
       "      <td>9.32</td>\n",
       "      <td>508.88</td>\n",
       "    </tr>\n",
       "    <tr>\n",
       "      <th>23</th>\n",
       "      <td>Test Campaign</td>\n",
       "      <td>2019-08-24</td>\n",
       "      <td>2078</td>\n",
       "      <td>36650</td>\n",
       "      <td>30489</td>\n",
       "      <td>7156</td>\n",
       "      <td>2687</td>\n",
       "      <td>2427</td>\n",
       "      <td>327</td>\n",
       "      <td>269</td>\n",
       "      <td>Saturday</td>\n",
       "      <td>True</td>\n",
       "      <td>False</td>\n",
       "      <td>19.53</td>\n",
       "      <td>3.76</td>\n",
       "      <td>772.49</td>\n",
       "    </tr>\n",
       "    <tr>\n",
       "      <th>24</th>\n",
       "      <td>Test Campaign</td>\n",
       "      <td>2019-08-25</td>\n",
       "      <td>2928</td>\n",
       "      <td>120576</td>\n",
       "      <td>105978</td>\n",
       "      <td>3596</td>\n",
       "      <td>2937</td>\n",
       "      <td>2551</td>\n",
       "      <td>1228</td>\n",
       "      <td>651</td>\n",
       "      <td>Sunday</td>\n",
       "      <td>True</td>\n",
       "      <td>False</td>\n",
       "      <td>2.98</td>\n",
       "      <td>18.10</td>\n",
       "      <td>449.77</td>\n",
       "    </tr>\n",
       "    <tr>\n",
       "      <th>25</th>\n",
       "      <td>Test Campaign</td>\n",
       "      <td>2019-08-26</td>\n",
       "      <td>2311</td>\n",
       "      <td>80841</td>\n",
       "      <td>61589</td>\n",
       "      <td>3820</td>\n",
       "      <td>2037</td>\n",
       "      <td>1046</td>\n",
       "      <td>346</td>\n",
       "      <td>284</td>\n",
       "      <td>Monday</td>\n",
       "      <td>False</td>\n",
       "      <td>False</td>\n",
       "      <td>4.73</td>\n",
       "      <td>7.43</td>\n",
       "      <td>813.73</td>\n",
       "    </tr>\n",
       "    <tr>\n",
       "      <th>26</th>\n",
       "      <td>Test Campaign</td>\n",
       "      <td>2019-08-27</td>\n",
       "      <td>2915</td>\n",
       "      <td>111469</td>\n",
       "      <td>92159</td>\n",
       "      <td>6435</td>\n",
       "      <td>2976</td>\n",
       "      <td>2552</td>\n",
       "      <td>992</td>\n",
       "      <td>771</td>\n",
       "      <td>Tuesday</td>\n",
       "      <td>False</td>\n",
       "      <td>False</td>\n",
       "      <td>5.77</td>\n",
       "      <td>11.98</td>\n",
       "      <td>378.08</td>\n",
       "    </tr>\n",
       "    <tr>\n",
       "      <th>27</th>\n",
       "      <td>Test Campaign</td>\n",
       "      <td>2019-08-28</td>\n",
       "      <td>2247</td>\n",
       "      <td>54627</td>\n",
       "      <td>41267</td>\n",
       "      <td>8144</td>\n",
       "      <td>2432</td>\n",
       "      <td>1281</td>\n",
       "      <td>1009</td>\n",
       "      <td>721</td>\n",
       "      <td>Wednesday</td>\n",
       "      <td>False</td>\n",
       "      <td>False</td>\n",
       "      <td>14.91</td>\n",
       "      <td>8.85</td>\n",
       "      <td>311.65</td>\n",
       "    </tr>\n",
       "    <tr>\n",
       "      <th>28</th>\n",
       "      <td>Test Campaign</td>\n",
       "      <td>2019-08-29</td>\n",
       "      <td>2805</td>\n",
       "      <td>67444</td>\n",
       "      <td>43219</td>\n",
       "      <td>7651</td>\n",
       "      <td>1920</td>\n",
       "      <td>1240</td>\n",
       "      <td>1168</td>\n",
       "      <td>677</td>\n",
       "      <td>Thursday</td>\n",
       "      <td>False</td>\n",
       "      <td>False</td>\n",
       "      <td>11.34</td>\n",
       "      <td>8.85</td>\n",
       "      <td>414.33</td>\n",
       "    </tr>\n",
       "    <tr>\n",
       "      <th>29</th>\n",
       "      <td>Test Campaign</td>\n",
       "      <td>2019-08-30</td>\n",
       "      <td>1977</td>\n",
       "      <td>120203</td>\n",
       "      <td>89380</td>\n",
       "      <td>4399</td>\n",
       "      <td>2978</td>\n",
       "      <td>1625</td>\n",
       "      <td>1034</td>\n",
       "      <td>572</td>\n",
       "      <td>Friday</td>\n",
       "      <td>False</td>\n",
       "      <td>False</td>\n",
       "      <td>3.66</td>\n",
       "      <td>13.00</td>\n",
       "      <td>345.63</td>\n",
       "    </tr>\n",
       "  </tbody>\n",
       "</table>\n",
       "</div>"
      ],
      "text/plain": [
       "         Campaign       Date  Spend_USD  Impressions   Reach  Website_Clicks  \\\n",
       "0   Test Campaign 2019-08-01       3008        39550   35820            3038   \n",
       "1   Test Campaign 2019-08-02       2542       100719   91236            4657   \n",
       "2   Test Campaign 2019-08-03       2365        70263   45198            7885   \n",
       "3   Test Campaign 2019-08-04       2710        78451   25937            4216   \n",
       "4   Test Campaign 2019-08-05       2297       114295   95138            5863   \n",
       "5   Test Campaign 2019-08-06       2458        42684   31489            7488   \n",
       "6   Test Campaign 2019-08-07       2838        53986   42148            4221   \n",
       "7   Test Campaign 2019-08-08       2916        33669   20149            7184   \n",
       "8   Test Campaign 2019-08-09       2652        45511   31598            8259   \n",
       "9   Test Campaign 2019-08-10       2790        95054   79632            8125   \n",
       "10  Test Campaign 2019-08-11       2420        83633   71286            3750   \n",
       "11  Test Campaign 2019-08-12       2831       124591   10598            8264   \n",
       "12  Test Campaign 2019-08-13       1972        65827   49531            7568   \n",
       "13  Test Campaign 2019-08-14       2537        56304   25982            3993   \n",
       "14  Test Campaign 2019-08-15       2516        94338   76219            4993   \n",
       "15  Test Campaign 2019-08-16       3076       106584   81389            6800   \n",
       "16  Test Campaign 2019-08-17       1968        95843   54389            7910   \n",
       "17  Test Campaign 2019-08-18       1979        53632   43241            6909   \n",
       "18  Test Campaign 2019-08-19       2626        22521   10698            7617   \n",
       "19  Test Campaign 2019-08-20       2712        39470   31893            6050   \n",
       "20  Test Campaign 2019-08-21       3112       133771  109834            5471   \n",
       "21  Test Campaign 2019-08-22       2899        34752   27932            4431   \n",
       "22  Test Campaign 2019-08-23       2407        60286   49329            5077   \n",
       "23  Test Campaign 2019-08-24       2078        36650   30489            7156   \n",
       "24  Test Campaign 2019-08-25       2928       120576  105978            3596   \n",
       "25  Test Campaign 2019-08-26       2311        80841   61589            3820   \n",
       "26  Test Campaign 2019-08-27       2915       111469   92159            6435   \n",
       "27  Test Campaign 2019-08-28       2247        54627   41267            8144   \n",
       "28  Test Campaign 2019-08-29       2805        67444   43219            7651   \n",
       "29  Test Campaign 2019-08-30       1977       120203   89380            4399   \n",
       "\n",
       "    Searches  Views  Add_to_Cart  Purchases        Day  Is_Weekend  \\\n",
       "0       1946   1069          894        255   Thursday       False   \n",
       "1       2359   1548          879        677     Friday       False   \n",
       "2       2572   2367         1268        578   Saturday        True   \n",
       "3       2216   1437          566        340     Sunday        True   \n",
       "4       2106    858          956        768     Monday       False   \n",
       "5       1854   1073          882        488    Tuesday       False   \n",
       "6       2733   2182         1301        890  Wednesday       False   \n",
       "7       2867   2194         1240        431   Thursday       False   \n",
       "8       2899   2761         1200        845     Friday       False   \n",
       "9       2312   1804          424        275   Saturday        True   \n",
       "10      2893   2617         1075        668     Sunday        True   \n",
       "11      2081   1992         1382        709     Monday       False   \n",
       "12      2213   2058         1391        812    Tuesday       False   \n",
       "13      1979   1059          779        340  Wednesday       False   \n",
       "14      2537   1609         1090        398   Thursday       False   \n",
       "15      2661   2594         1059        487     Friday       False   \n",
       "16      1995   1576          383        238   Saturday        True   \n",
       "17      2824   2522          461        257     Sunday        True   \n",
       "18      2924   2801          788        512     Monday       False   \n",
       "19      2061   1894         1047        730    Tuesday       False   \n",
       "20      1995   1868          278        245  Wednesday       False   \n",
       "21      1983   1131          367        276   Thursday       False   \n",
       "22      2592   2004          632        473     Friday       False   \n",
       "23      2687   2427          327        269   Saturday        True   \n",
       "24      2937   2551         1228        651     Sunday        True   \n",
       "25      2037   1046          346        284     Monday       False   \n",
       "26      2976   2552          992        771    Tuesday       False   \n",
       "27      2432   1281         1009        721  Wednesday       False   \n",
       "28      1920   1240         1168        677   Thursday       False   \n",
       "29      2978   1625         1034        572     Friday       False   \n",
       "\n",
       "    Is_Holiday  CTR_%  Conversion_Rate_%      CPP  \n",
       "0        False   7.68               8.39  1179.61  \n",
       "1        False   4.62              14.54   375.48  \n",
       "2        False  11.22               7.33   409.17  \n",
       "3        False   5.37               8.06   797.06  \n",
       "4        False   5.13              13.10   299.09  \n",
       "5        False  17.54               6.52   503.69  \n",
       "6        False   7.82              21.09   318.88  \n",
       "7        False  21.34               6.00   676.57  \n",
       "8        False  18.15              10.23   313.85  \n",
       "9        False   8.55               3.38  1014.55  \n",
       "10       False   4.48              17.81   362.28  \n",
       "11       False   6.63               8.58   399.29  \n",
       "12       False  11.50              10.73   242.86  \n",
       "13       False   7.09               8.51   746.18  \n",
       "14       False   5.29               7.97   632.16  \n",
       "15       False   6.38               7.16   631.62  \n",
       "16       False   8.25               3.01   826.89  \n",
       "17       False  12.88               3.72   770.04  \n",
       "18       False  33.82               6.72   512.89  \n",
       "19       False  15.33              12.07   371.51  \n",
       "20       False   4.09               4.48  1270.20  \n",
       "21       False  12.75               6.23  1050.36  \n",
       "22       False   8.42               9.32   508.88  \n",
       "23       False  19.53               3.76   772.49  \n",
       "24       False   2.98              18.10   449.77  \n",
       "25       False   4.73               7.43   813.73  \n",
       "26       False   5.77              11.98   378.08  \n",
       "27       False  14.91               8.85   311.65  \n",
       "28       False  11.34               8.85   414.33  \n",
       "29       False   3.66              13.00   345.63  "
      ]
     },
     "execution_count": 32,
     "metadata": {},
     "output_type": "execute_result"
    }
   ],
   "source": [
    "df_test_gp"
   ]
  },
  {
   "cell_type": "markdown",
   "id": "6e649e8e",
   "metadata": {
    "papermill": {
     "duration": 0.014547,
     "end_time": "2024-12-10T01:33:52.878684",
     "exception": false,
     "start_time": "2024-12-10T01:33:52.864137",
     "status": "completed"
    },
    "tags": []
   },
   "source": [
    "## Step-2: Data Exploration"
   ]
  },
  {
   "cell_type": "markdown",
   "id": "4d8f6a62",
   "metadata": {
    "papermill": {
     "duration": 0.014844,
     "end_time": "2024-12-10T01:33:52.908997",
     "exception": false,
     "start_time": "2024-12-10T01:33:52.894153",
     "status": "completed"
    },
    "tags": []
   },
   "source": [
    "### Analysing Total Campaign spends"
   ]
  },
  {
   "cell_type": "code",
   "execution_count": 33,
   "id": "b0202dba",
   "metadata": {
    "execution": {
     "iopub.execute_input": "2024-12-10T01:33:52.942886Z",
     "iopub.status.busy": "2024-12-10T01:33:52.942187Z",
     "iopub.status.idle": "2024-12-10T01:33:53.200742Z",
     "shell.execute_reply": "2024-12-10T01:33:53.199713Z"
    },
    "papermill": {
     "duration": 0.278553,
     "end_time": "2024-12-10T01:33:53.203362",
     "exception": false,
     "start_time": "2024-12-10T01:33:52.924809",
     "status": "completed"
    },
    "tags": []
   },
   "outputs": [
    {
     "data": {
      "image/png": "[encoded data removed]",
      "text/plain": [
       "<Figure size 640x480 with 1 Axes>"
      ]
     },
     "metadata": {},
     "output_type": "display_data"
    }
   ],
   "source": [
    "import matplotlib.pyplot as plt\n",
    "\n",
    "# Calculate total spend for each campaign\n",
    "spend_control = df_control_gp['Spend_USD'].sum()\n",
    "spend_test = df_test_gp['Spend_USD'].sum()\n",
    "\n",
    "# Create the bar chart\n",
    "plt.bar([\"Control\", \"Test\"], [spend_control, spend_test], color=[\"blue\", \"orange\"])\n",
    "plt.ylabel(\"Total campaign spends in USD\")\n",
    "plt.title(\"Campaign Spend Comparison\")\n",
    "\n",
    "# Annotate totals on top of the bars\n",
    "for i, spend in enumerate([spend_control, spend_test]):\n",
    "    plt.text(i, spend + 100, f\"${spend:,.0f}\", ha='center', va='bottom', fontsize=10, color=\"black\")\n",
    "\n",
    "# Show the plot\n",
    "plt.show()\n"
   ]
  },
  {
   "cell_type": "markdown",
   "id": "ea36105b",
   "metadata": {
    "papermill": {
     "duration": 0.015848,
     "end_time": "2024-12-10T01:33:53.236531",
     "exception": false,
     "start_time": "2024-12-10T01:33:53.220683",
     "status": "completed"
    },
    "tags": []
   },
   "source": [
    "### Analysing Conversion rate"
   ]
  },
  {
   "cell_type": "code",
   "execution_count": 34,
   "id": "11d0d119",
   "metadata": {
    "execution": {
     "iopub.execute_input": "2024-12-10T01:33:53.268947Z",
     "iopub.status.busy": "2024-12-10T01:33:53.268609Z",
     "iopub.status.idle": "2024-12-10T01:33:53.481400Z",
     "shell.execute_reply": "2024-12-10T01:33:53.480417Z"
    },
    "papermill": {
     "duration": 0.231262,
     "end_time": "2024-12-10T01:33:53.483338",
     "exception": false,
     "start_time": "2024-12-10T01:33:53.252076",
     "status": "completed"
    },
    "tags": []
   },
   "outputs": [
    {
     "data": {
      "image/png": "[encoded data removed]",
      "text/plain": [
       "<Figure size 640x480 with 1 Axes>"
      ]
     },
     "metadata": {},
     "output_type": "display_data"
    }
   ],
   "source": [
    "import matplotlib.pyplot as plt\n",
    "\n",
    "# Calculate mean conversion rate for each campaign\n",
    "conversion_rate_control = df_control_gp['Conversion_Rate_%'].mean()\n",
    "conversion_rate_test = df_test_gp['Conversion_Rate_%'].mean()\n",
    "\n",
    "# Create the bar chart\n",
    "plt.bar([\"Control\", \"Test\"], [conversion_rate_control, conversion_rate_test], color=[\"blue\", \"orange\"])\n",
    "plt.ylabel(\"Mean Conversion Rate in %\")\n",
    "plt.title(\"Campaign Conversion Rate Comparison\")\n",
    "\n",
    "# Annotate mean conversion rates on top of the bars\n",
    "for i, rate in enumerate([conversion_rate_control, conversion_rate_test]):\n",
    "    plt.text(i, rate , f\"{rate:.2f}%\", ha='center', va='bottom', fontsize=10, color=\"black\")  # Adjusting +0.5 for better positioning\n",
    "\n",
    "# Show the plot\n",
    "plt.show()\n"
   ]
  },
  {
   "cell_type": "code",
   "execution_count": 35,
   "id": "74884ed1",
   "metadata": {
    "execution": {
     "iopub.execute_input": "2024-12-10T01:33:53.517171Z",
     "iopub.status.busy": "2024-12-10T01:33:53.516793Z",
     "iopub.status.idle": "2024-12-10T01:33:53.531354Z",
     "shell.execute_reply": "2024-12-10T01:33:53.530390Z"
    },
    "papermill": {
     "duration": 0.03383,
     "end_time": "2024-12-10T01:33:53.533452",
     "exception": false,
     "start_time": "2024-12-10T01:33:53.499622",
     "status": "completed"
    },
    "tags": []
   },
   "outputs": [
    {
     "data": {
      "text/html": [
       "<div>\n",
       "<style scoped>\n",
       "    .dataframe tbody tr th:only-of-type {\n",
       "        vertical-align: middle;\n",
       "    }\n",
       "\n",
       "    .dataframe tbody tr th {\n",
       "        vertical-align: top;\n",
       "    }\n",
       "\n",
       "    .dataframe thead th {\n",
       "        text-align: right;\n",
       "    }\n",
       "</style>\n",
       "<table border=\"1\" class=\"dataframe\">\n",
       "  <thead>\n",
       "    <tr style=\"text-align: right;\">\n",
       "      <th></th>\n",
       "      <th>Control Campaign</th>\n",
       "      <th>Test Campaign</th>\n",
       "    </tr>\n",
       "    <tr>\n",
       "      <th>Metric</th>\n",
       "      <th></th>\n",
       "      <th></th>\n",
       "    </tr>\n",
       "  </thead>\n",
       "  <tbody>\n",
       "    <tr>\n",
       "      <th>CTR_%</th>\n",
       "      <td>5.095517</td>\n",
       "      <td>10.241667</td>\n",
       "    </tr>\n",
       "    <tr>\n",
       "      <th>Conversion_Rate_%</th>\n",
       "      <td>11.477586</td>\n",
       "      <td>9.230667</td>\n",
       "    </tr>\n",
       "    <tr>\n",
       "      <th>CPP</th>\n",
       "      <td>505.234828</td>\n",
       "      <td>589.959667</td>\n",
       "    </tr>\n",
       "  </tbody>\n",
       "</table>\n",
       "</div>"
      ],
      "text/plain": [
       "                   Control Campaign  Test Campaign\n",
       "Metric                                            \n",
       "CTR_%                      5.095517      10.241667\n",
       "Conversion_Rate_%         11.477586       9.230667\n",
       "CPP                      505.234828     589.959667"
      ]
     },
     "execution_count": 35,
     "metadata": {},
     "output_type": "execute_result"
    }
   ],
   "source": [
    "# Split into control and test groups\n",
    "control = df_control_gp\n",
    "test = df_test_gp\n",
    "\n",
    "# Calculate average metrics\n",
    "metrics = ['CTR_%', 'Conversion_Rate_%', 'CPP']\n",
    "control_means = control[metrics].mean()\n",
    "test_means = test[metrics].mean()\n",
    "\n",
    "comparison_df = pd.DataFrame({\n",
    "    'Metric': metrics,\n",
    "    'Control Campaign': control_means,\n",
    "    'Test Campaign': test_means\n",
    "}).set_index('Metric')\n",
    "\n",
    "comparison_df\n"
   ]
  },
  {
   "cell_type": "markdown",
   "id": "7804d5b5",
   "metadata": {
    "papermill": {
     "duration": 0.016107,
     "end_time": "2024-12-10T01:33:53.566265",
     "exception": false,
     "start_time": "2024-12-10T01:33:53.550158",
     "status": "completed"
    },
    "tags": []
   },
   "source": [
    "- Analysis:\n",
    "    - Click-Through Rate(CTR %)\n",
    "        - The Test Campaign significantly outperforms the Control Campaign in CTR (10.24% vs. 5.10%).\n",
    "    - Conversion Rate (%)\n",
    "        - The Control Campaign shows a slightly higher Conversion Rate (11.48% vs. 9.23%),this suggests that both campaigns perform similarly in converting clicks to purchases.\n",
    "    - Cost per Purchase (CPP)\n",
    "        - The Test Campaign has a higher CPP ( USD 589.96 vs. USD 505.23), meaning it is more expensive to acquire a customer."
   ]
  },
  {
   "cell_type": "markdown",
   "id": "4eb8e203",
   "metadata": {
    "papermill": {
     "duration": 0.016083,
     "end_time": "2024-12-10T01:33:53.599008",
     "exception": false,
     "start_time": "2024-12-10T01:33:53.582925",
     "status": "completed"
    },
    "tags": []
   },
   "source": [
    "### Analysing the influence of Weekends"
   ]
  },
  {
   "cell_type": "code",
   "execution_count": 36,
   "id": "e2c1c715",
   "metadata": {
    "execution": {
     "iopub.execute_input": "2024-12-10T01:33:53.633593Z",
     "iopub.status.busy": "2024-12-10T01:33:53.632817Z",
     "iopub.status.idle": "2024-12-10T01:33:53.647561Z",
     "shell.execute_reply": "2024-12-10T01:33:53.646493Z"
    },
    "papermill": {
     "duration": 0.034499,
     "end_time": "2024-12-10T01:33:53.649738",
     "exception": false,
     "start_time": "2024-12-10T01:33:53.615239",
     "status": "completed"
    },
    "tags": []
   },
   "outputs": [
    {
     "name": "stdout",
     "output_type": "stream",
     "text": [
      "                   Control Campaign (Weekend)  Test Campaign (Weekend)\n",
      "Metric                                                                \n",
      "CTR_%                                 4.95375                  9.15750\n",
      "Conversion_Rate_%                    10.62875                  8.14625\n",
      "CPP                                 575.22250                675.28125\n"
     ]
    }
   ],
   "source": [
    "# Filter data for weekends\n",
    "control_weekend = df_control_gp[df_control_gp['Is_Weekend'] == True]\n",
    "test_weekend = df_test_gp[df_test_gp['Is_Weekend'] == True]\n",
    "\n",
    "# Calculate average metrics for weekends\n",
    "control_means_weekend = control_weekend[metrics].mean()\n",
    "test_means_weekend = test_weekend[metrics].mean()\n",
    "\n",
    "# Create a comparison DataFrame for weekend analysis\n",
    "comparison_weekend_df = pd.DataFrame({\n",
    "    'Metric': metrics,\n",
    "    'Control Campaign (Weekend)': control_means_weekend,\n",
    "    'Test Campaign (Weekend)': test_means_weekend\n",
    "}).set_index('Metric')\n",
    "\n",
    "# Display the comparison DataFrame for weekends\n",
    "print(comparison_weekend_df)\n"
   ]
  },
  {
   "cell_type": "markdown",
   "id": "74cac486",
   "metadata": {
    "papermill": {
     "duration": 0.016558,
     "end_time": "2024-12-10T01:33:53.683547",
     "exception": false,
     "start_time": "2024-12-10T01:33:53.666989",
     "status": "completed"
    },
    "tags": []
   },
   "source": [
    "### Day-wise CTR comparison"
   ]
  },
  {
   "cell_type": "code",
   "execution_count": 37,
   "id": "2ca1eae4",
   "metadata": {
    "execution": {
     "iopub.execute_input": "2024-12-10T01:33:53.719443Z",
     "iopub.status.busy": "2024-12-10T01:33:53.718540Z",
     "iopub.status.idle": "2024-12-10T01:33:54.121269Z",
     "shell.execute_reply": "2024-12-10T01:33:54.120101Z"
    },
    "papermill": {
     "duration": 0.423804,
     "end_time": "2024-12-10T01:33:54.124194",
     "exception": false,
     "start_time": "2024-12-10T01:33:53.700390",
     "status": "completed"
    },
    "tags": []
   },
   "outputs": [
    {
     "data": {
      "image/png": "[encoded data removed]",
      "text/plain": [
       "<Figure size 1000x600 with 1 Axes>"
      ]
     },
     "metadata": {},
     "output_type": "display_data"
    }
   ],
   "source": [
    "# Define the correct calendar order for days\n",
    "day_order = ['Monday', 'Tuesday', 'Wednesday', 'Thursday', 'Friday', 'Saturday', 'Sunday']\n",
    "\n",
    "# Group by 'Day' and calculate mean CTR for both campaigns\n",
    "control_daywise_ctr = control.groupby('Day')['CTR_%'].mean()\n",
    "test_daywise_ctr = test.groupby('Day')['CTR_%'].mean()\n",
    "\n",
    "# Combine the results into a single DataFrame for comparison\n",
    "daywise_ctr_comparison = pd.DataFrame({\n",
    "    'Control Campaign': control_daywise_ctr,\n",
    "    'Test Campaign': test_daywise_ctr\n",
    "})\n",
    "\n",
    "# Reorder the index to match calendar order\n",
    "daywise_ctr_comparison.index = pd.Categorical(daywise_ctr_comparison.index, categories=day_order, ordered=True)\n",
    "daywise_ctr_comparison = daywise_ctr_comparison.sort_index()\n",
    "\n",
    "# Plot the results using a line plot\n",
    "import matplotlib.pyplot as plt\n",
    "\n",
    "plt.figure(figsize=(10, 6))\n",
    "plt.plot(daywise_ctr_comparison.index, daywise_ctr_comparison['Control Campaign'], marker='o', label='Control Campaign')\n",
    "plt.plot(daywise_ctr_comparison.index, daywise_ctr_comparison['Test Campaign'], marker='o', label='Test Campaign')\n",
    "\n",
    "# Add labels on top of the points\n",
    "for i, txt in enumerate(daywise_ctr_comparison['Control Campaign']):\n",
    "    plt.text(i, txt, f'{txt:.2f}', ha='center', va='bottom', fontsize=9, color='blue')\n",
    "for i, txt in enumerate(daywise_ctr_comparison['Test Campaign']):\n",
    "    plt.text(i, txt, f'{txt:.2f}', ha='center', va='bottom', fontsize=9, color='orange')\n",
    "\n",
    "# Add plot details\n",
    "plt.title('Day-wise Mean CTR (%) Comparison')\n",
    "plt.xlabel('Day of the Week')\n",
    "plt.ylabel('Mean CTR (%)')\n",
    "plt.xticks(rotation=45)\n",
    "plt.legend(title='Campaign')\n",
    "plt.grid(axis='y', linestyle='--', alpha=0.7)\n",
    "plt.tight_layout()\n",
    "\n",
    "# Show the plot\n",
    "plt.show()\n"
   ]
  },
  {
   "cell_type": "markdown",
   "id": "a7cf2350",
   "metadata": {
    "papermill": {
     "duration": 0.017216,
     "end_time": "2024-12-10T01:33:54.159470",
     "exception": false,
     "start_time": "2024-12-10T01:33:54.142254",
     "status": "completed"
    },
    "tags": []
   },
   "source": [
    "- The Test Campaign consistently outperforms the Control Campaign across all days.\n",
    "- The gap between the two campaigns is most significant on Monday and Friday, suggesting the Test Campaign performs particularly well on these days."
   ]
  },
  {
   "cell_type": "markdown",
   "id": "d3091a5d",
   "metadata": {
    "papermill": {
     "duration": 0.017688,
     "end_time": "2024-12-10T01:33:54.194620",
     "exception": false,
     "start_time": "2024-12-10T01:33:54.176932",
     "status": "completed"
    },
    "tags": []
   },
   "source": [
    "### Comparison of campaign with respect to CPP and Conversion rate"
   ]
  },
  {
   "cell_type": "code",
   "execution_count": 38,
   "id": "050bc81f",
   "metadata": {
    "execution": {
     "iopub.execute_input": "2024-12-10T01:33:54.235234Z",
     "iopub.status.busy": "2024-12-10T01:33:54.234859Z",
     "iopub.status.idle": "2024-12-10T01:33:55.007972Z",
     "shell.execute_reply": "2024-12-10T01:33:55.007013Z"
    },
    "papermill": {
     "duration": 0.796721,
     "end_time": "2024-12-10T01:33:55.011042",
     "exception": false,
     "start_time": "2024-12-10T01:33:54.214321",
     "status": "completed"
    },
    "tags": []
   },
   "outputs": [
    {
     "data": {
      "image/png": "[encoded data removed]",
      "text/plain": [
       "<Figure size 1000x600 with 1 Axes>"
      ]
     },
     "metadata": {},
     "output_type": "display_data"
    },
    {
     "data": {
      "image/png": "[encoded data removed]",
      "text/plain": [
       "<Figure size 1000x600 with 1 Axes>"
      ]
     },
     "metadata": {},
     "output_type": "display_data"
    }
   ],
   "source": [
    "# Define the correct calendar order for days\n",
    "day_order = ['Monday', 'Tuesday', 'Wednesday', 'Thursday', 'Friday', 'Saturday', 'Sunday']\n",
    "\n",
    "# Group by 'Day' and calculate mean CPP and Conversion Rate for both campaigns\n",
    "control_daywise_cpp = control.groupby('Day')['CPP'].mean()\n",
    "test_daywise_cpp = test.groupby('Day')['CPP'].mean()\n",
    "\n",
    "control_daywise_conversion = control.groupby('Day')['Conversion_Rate_%'].mean()\n",
    "test_daywise_conversion = test.groupby('Day')['Conversion_Rate_%'].mean()\n",
    "\n",
    "# Combine the results into separate DataFrames for CPP and Conversion Rate\n",
    "daywise_cpp_comparison = pd.DataFrame({\n",
    "    'Control Campaign': control_daywise_cpp,\n",
    "    'Test Campaign': test_daywise_cpp\n",
    "})\n",
    "\n",
    "daywise_conversion_comparison = pd.DataFrame({\n",
    "    'Control Campaign': control_daywise_conversion,\n",
    "    'Test Campaign': test_daywise_conversion\n",
    "})\n",
    "\n",
    "# Reorder the indices to match calendar order\n",
    "daywise_cpp_comparison.index = pd.Categorical(daywise_cpp_comparison.index, categories=day_order, ordered=True)\n",
    "daywise_cpp_comparison = daywise_cpp_comparison.sort_index()\n",
    "\n",
    "daywise_conversion_comparison.index = pd.Categorical(daywise_conversion_comparison.index, categories=day_order, ordered=True)\n",
    "daywise_conversion_comparison = daywise_conversion_comparison.sort_index()\n",
    "\n",
    "# Plot CPP\n",
    "plt.figure(figsize=(10, 6))\n",
    "plt.plot(daywise_cpp_comparison.index, daywise_cpp_comparison['Control Campaign'], marker='o', label='Control Campaign')\n",
    "plt.plot(daywise_cpp_comparison.index, daywise_cpp_comparison['Test Campaign'], marker='o', label='Test Campaign')\n",
    "\n",
    "# Add labels on top of the points for CPP\n",
    "for i, txt in enumerate(daywise_cpp_comparison['Control Campaign']):\n",
    "    plt.text(i, txt, f'{txt:.2f}', ha='center', va='bottom', fontsize=9, color='blue')\n",
    "for i, txt in enumerate(daywise_cpp_comparison['Test Campaign']):\n",
    "    plt.text(i, txt, f'{txt:.2f}', ha='center', va='bottom', fontsize=9, color='orange')\n",
    "\n",
    "# Add plot details for CPP\n",
    "plt.title('Day-wise Mean CPP Comparison')\n",
    "plt.xlabel('Day of the Week')\n",
    "plt.ylabel('Mean CPP ($)')\n",
    "plt.xticks(rotation=45)\n",
    "plt.legend(title='Campaign')\n",
    "plt.grid(axis='y', linestyle='--', alpha=0.7)\n",
    "plt.tight_layout()\n",
    "plt.show()\n",
    "\n",
    "# Plot Conversion Rate\n",
    "plt.figure(figsize=(10, 6))\n",
    "plt.plot(daywise_conversion_comparison.index, daywise_conversion_comparison['Control Campaign'], marker='o', label='Control Campaign')\n",
    "plt.plot(daywise_conversion_comparison.index, daywise_conversion_comparison['Test Campaign'], marker='o', label='Test Campaign')\n",
    "\n",
    "# Add labels on top of the points for Conversion Rate\n",
    "for i, txt in enumerate(daywise_conversion_comparison['Control Campaign']):\n",
    "    plt.text(i, txt, f'{txt:.2f}', ha='center', va='bottom', fontsize=9, color='blue')\n",
    "for i, txt in enumerate(daywise_conversion_comparison['Test Campaign']):\n",
    "    plt.text(i, txt, f'{txt:.2f}', ha='center', va='bottom', fontsize=9, color='orange')\n",
    "\n",
    "# Add plot details for Conversion Rate\n",
    "plt.title('Day-wise Mean Conversion Rate (%) Comparison')\n",
    "plt.xlabel('Day of the Week')\n",
    "plt.ylabel('Mean Conversion Rate (%)')\n",
    "plt.xticks(rotation=45)\n",
    "plt.legend(title='Campaign')\n",
    "plt.grid(axis='y', linestyle='--', alpha=0.7)\n",
    "plt.tight_layout()\n",
    "plt.show()\n"
   ]
  },
  {
   "cell_type": "markdown",
   "id": "843d686f",
   "metadata": {
    "papermill": {
     "duration": 0.020896,
     "end_time": "2024-12-10T01:33:55.053979",
     "exception": false,
     "start_time": "2024-12-10T01:33:55.033083",
     "status": "completed"
    },
    "tags": []
   },
   "source": [
    "- CPP\n",
    "    - The Control Campaign consistently has a more stable CPP across the week.\n",
    "    - The Test Campaign experiences spikes on Thursday and Saturday, reducing its cost-effectiveness.\n",
    "- Conversion Rate\n",
    "    - The Control Campaign outperforms the Test Campaign on most days except Sunday and Friday.\n",
    "    - The Test Campaign shows consistent improvement towards the weekend but drops significantly on Saturday. "
   ]
  },
  {
   "cell_type": "markdown",
   "id": "b95a7211",
   "metadata": {
    "papermill": {
     "duration": 0.020812,
     "end_time": "2024-12-10T01:33:55.095846",
     "exception": false,
     "start_time": "2024-12-10T01:33:55.075034",
     "status": "completed"
    },
    "tags": []
   },
   "source": [
    "## Step-3:Hypothesis Testing"
   ]
  },
  {
   "cell_type": "markdown",
   "id": "46ea47d6",
   "metadata": {
    "papermill": {
     "duration": 0.021012,
     "end_time": "2024-12-10T01:33:55.138053",
     "exception": false,
     "start_time": "2024-12-10T01:33:55.117041",
     "status": "completed"
    },
    "tags": []
   },
   "source": [
    "### Defining Hypothesis"
   ]
  },
  {
   "cell_type": "markdown",
   "id": "a73b71d6",
   "metadata": {
    "papermill": {
     "duration": 0.020962,
     "end_time": "2024-12-10T01:33:55.180095",
     "exception": false,
     "start_time": "2024-12-10T01:33:55.159133",
     "status": "completed"
    },
    "tags": []
   },
   "source": [
    "#### Hypothesis check - 1"
   ]
  },
  {
   "cell_type": "markdown",
   "id": "f6f1f78a",
   "metadata": {
    "papermill": {
     "duration": 0.023326,
     "end_time": "2024-12-10T01:33:55.224641",
     "exception": false,
     "start_time": "2024-12-10T01:33:55.201315",
     "status": "completed"
    },
    "tags": []
   },
   "source": [
    "- Null Hypothesis (H₀):\n",
    "    - There is no significant difference in the metric between the Control and Test campaigns.\n",
    "\n",
    "- Alternative Hypothesis (H₁):\n",
    "    - There is a significant difference in the metric between the two campaigns."
   ]
  },
  {
   "cell_type": "code",
   "execution_count": 39,
   "id": "8f86b02b",
   "metadata": {
    "execution": {
     "iopub.execute_input": "2024-12-10T01:33:55.269889Z",
     "iopub.status.busy": "2024-12-10T01:33:55.269171Z",
     "iopub.status.idle": "2024-12-10T01:33:56.351120Z",
     "shell.execute_reply": "2024-12-10T01:33:56.350018Z"
    },
    "papermill": {
     "duration": 1.107797,
     "end_time": "2024-12-10T01:33:56.354477",
     "exception": false,
     "start_time": "2024-12-10T01:33:55.246680",
     "status": "completed"
    },
    "tags": []
   },
   "outputs": [
    {
     "name": "stdout",
     "output_type": "stream",
     "text": [
      "CTR_%: t-statistic = -3.978205357154195, p-value = 0.0003392324964184704\n",
      "Conversion_Rate_%: t-statistic = 1.4905286923263779, p-value = 0.1426462344937022\n",
      "CPP: t-statistic = -1.3135740422209055, p-value = 0.19455292866693438\n"
     ]
    }
   ],
   "source": [
    "from scipy.stats import ttest_ind\n",
    "\n",
    "# Perform t-tests\n",
    "for metric in metrics:\n",
    "    stat, p_value = ttest_ind(control[metric], test[metric], equal_var=False)\n",
    "    print(f\"{metric}: t-statistic = {stat}, p-value = {p_value}\")\n"
   ]
  },
  {
   "cell_type": "markdown",
   "id": "0ef42090",
   "metadata": {
    "papermill": {
     "duration": 0.029276,
     "end_time": "2024-12-10T01:33:56.424158",
     "exception": false,
     "start_time": "2024-12-10T01:33:56.394882",
     "status": "completed"
    },
    "tags": []
   },
   "source": [
    "- CTR\n",
    "    - t-Statistic (-3.978):\n",
    "        - The negative value means that the CTR of the Test Campaign is higher than the Control Campaign.\n",
    "        - The large magnitude of the t-statistic suggests a strong difference between the two campaigns.\n",
    "    - p-Value (0.0003):\n",
    "        - Since p<0.05, we reject the null hypothesis.\n",
    "\n",
    " We can conclude that the Test Campaign has a significantly higher CTR than the Control Campaign.\n",
    "\n",
    "- Conversion Rate (%)\n",
    "    - t-Statistic (1.491):\n",
    "        - The positive value indicates that the Conversion Rate of the Test Campaign is slightly higher than that of the Control Campaign.\n",
    "        - However, the magnitude of the t-statistic is small, suggesting that the difference between the two campaigns is not substantial relative to the variability in the data.\n",
    "    - p-Value (0.1426):\n",
    "        - Since p≥0.05, we fail to reject the null hypothesis\n",
    "\n",
    "The observed difference in Conversion Rate between the Test Campaign and the Control Campaign is not statistically significant.\n",
    "This means there is insufficient evidence to conclude that one campaign has a better Conversion Rate than the other.\n",
    "\n",
    "- Cost per Purchase (CPP)\n",
    "    - t-Statistic (-1.314):\n",
    "        - The negative value indicates that the CPP of the Control Campaign is slightly lower (more cost-effective) than the Test Campaign.\n",
    "        - However, the magnitude of the t-statistic is small, suggesting that this difference is not significant when compared to the variability in the data.\n",
    "    - p-Value (0.1946):\n",
    "        - Since p≥0.05, we fail to reject the null hypothesis.\n",
    "      \n",
    "The observed difference in CPP between the Test Campaign and the Control Campaign is not statistically significant.\n",
    "This means there is insufficient evidence to conclude that one campaign is more cost-effective than the other.\n"
   ]
  },
  {
   "cell_type": "markdown",
   "id": "607f378c",
   "metadata": {
    "papermill": {
     "duration": 0.028357,
     "end_time": "2024-12-10T01:33:56.480108",
     "exception": false,
     "start_time": "2024-12-10T01:33:56.451751",
     "status": "completed"
    },
    "tags": []
   },
   "source": [
    "#### Hypotehsis check - 2"
   ]
  },
  {
   "cell_type": "markdown",
   "id": "eb61c2ee",
   "metadata": {
    "papermill": {
     "duration": 0.023113,
     "end_time": "2024-12-10T01:33:56.536749",
     "exception": false,
     "start_time": "2024-12-10T01:33:56.513636",
     "status": "completed"
    },
    "tags": []
   },
   "source": [
    "- Null Hypothesis (H₀):\n",
    "    - There is no significant difference in the metric between the Control and Test campaigns during weekends\n",
    "\n",
    "- Alternative Hypothesis (H₁):\n",
    "    - There is a significant difference in the metric between the two campaigns during weekends.\n"
   ]
  },
  {
   "cell_type": "code",
   "execution_count": 40,
   "id": "d940931d",
   "metadata": {
    "execution": {
     "iopub.execute_input": "2024-12-10T01:33:56.582760Z",
     "iopub.status.busy": "2024-12-10T01:33:56.581845Z",
     "iopub.status.idle": "2024-12-10T01:33:56.597227Z",
     "shell.execute_reply": "2024-12-10T01:33:56.596200Z"
    },
    "papermill": {
     "duration": 0.040509,
     "end_time": "2024-12-10T01:33:56.599176",
     "exception": false,
     "start_time": "2024-12-10T01:33:56.558667",
     "status": "completed"
    },
    "tags": []
   },
   "outputs": [
    {
     "name": "stdout",
     "output_type": "stream",
     "text": [
      "Weekend Performance Hypothesis Testing\n",
      "CTR_%: t-statistic = -2.116, p-value = 0.066\n",
      "Conversion_Rate_%: t-statistic = 0.613, p-value = 0.551\n",
      "CPP: t-statistic = -0.866, p-value = 0.401\n"
     ]
    }
   ],
   "source": [
    "from scipy.stats import ttest_ind\n",
    "\n",
    "# Filter weekend data\n",
    "control_weekend = df_control_gp[df_control_gp['Is_Weekend'] == True]\n",
    "test_weekend = df_test_gp[df_test_gp['Is_Weekend'] == True]\n",
    "\n",
    "# Metrics to test\n",
    "metrics = ['CTR_%', 'Conversion_Rate_%', 'CPP']\n",
    "\n",
    "# Perform t-tests for each metric\n",
    "print(\"Weekend Performance Hypothesis Testing\")\n",
    "for metric in metrics:\n",
    "    stat, p_value = ttest_ind(control_weekend[metric], test_weekend[metric], equal_var=False)\n",
    "    print(f\"{metric}: t-statistic = {stat:.3f}, p-value = {p_value:.3f}\")\n"
   ]
  },
  {
   "cell_type": "markdown",
   "id": "cd78a072",
   "metadata": {
    "papermill": {
     "duration": 0.02113,
     "end_time": "2024-12-10T01:33:56.641955",
     "exception": false,
     "start_time": "2024-12-10T01:33:56.620825",
     "status": "completed"
    },
    "tags": []
   },
   "source": [
    "- CTR:\n",
    "    - While the Test Campaign appears to have a slightly higher CTR, the difference is not statistically significant during weekends.\n",
    "    - The campaigns perform similarly in terms of CTR.\n",
    "- Conversion Rate:\n",
    "    - Both campaigns perform similarly in terms of Conversion Rate during weekends, with no significant difference.\n",
    "- CPP:\n",
    "    - Both campaigns have comparable CPP during weekends, with no significant cost-effectiveness difference."
   ]
  },
  {
   "cell_type": "markdown",
   "id": "4fd63c4c",
   "metadata": {
    "papermill": {
     "duration": 0.020898,
     "end_time": "2024-12-10T01:33:56.684253",
     "exception": false,
     "start_time": "2024-12-10T01:33:56.663355",
     "status": "completed"
    },
    "tags": []
   },
   "source": [
    "#### Hypothesis check- 3"
   ]
  },
  {
   "cell_type": "markdown",
   "id": "c519691a",
   "metadata": {
    "papermill": {
     "duration": 0.070339,
     "end_time": "2024-12-10T01:33:56.775565",
     "exception": false,
     "start_time": "2024-12-10T01:33:56.705226",
     "status": "completed"
    },
    "tags": []
   },
   "source": [
    "\n",
    "- Null Hypothesis (H₀):\n",
    "    - There is no significant difference in the metric between the Control and Test campaigns during weekdays\n",
    "- Alternative Hypothesis (H₁):\n",
    "    - There is a significant difference in the metric between the two campaigns during weekdays. \n"
   ]
  },
  {
   "cell_type": "code",
   "execution_count": 41,
   "id": "b970c468",
   "metadata": {
    "execution": {
     "iopub.execute_input": "2024-12-10T01:33:56.820422Z",
     "iopub.status.busy": "2024-12-10T01:33:56.820025Z",
     "iopub.status.idle": "2024-12-10T01:33:56.840123Z",
     "shell.execute_reply": "2024-12-10T01:33:56.838926Z"
    },
    "papermill": {
     "duration": 0.044828,
     "end_time": "2024-12-10T01:33:56.842102",
     "exception": false,
     "start_time": "2024-12-10T01:33:56.797274",
     "status": "completed"
    },
    "tags": []
   },
   "outputs": [
    {
     "name": "stdout",
     "output_type": "stream",
     "text": [
      "Weekday Performance Hypothesis Testing\n",
      "CTR_%: t-statistic = -3.372, p-value = 0.002\n",
      "Conversion_Rate_%: t-statistic = 1.470, p-value = 0.151\n",
      "CPP: t-statistic = -1.045, p-value = 0.303\n",
      "\n",
      "Mean Metrics (Weekdays):\n",
      "Control Campaign:\n",
      " CTR_%                  5.149524\n",
      "Conversion_Rate_%     11.800952\n",
      "CPP                  478.572857\n",
      "dtype: float64\n",
      "Test Campaign:\n",
      " CTR_%                 10.635909\n",
      "Conversion_Rate_%      9.625000\n",
      "CPP                  558.933636\n",
      "dtype: float64\n"
     ]
    }
   ],
   "source": [
    "from scipy.stats import ttest_ind\n",
    "\n",
    "# Filter weekday data\n",
    "control_weekday = control[control['Is_Weekend'] == False]\n",
    "test_weekday = test[test['Is_Weekend'] == False]\n",
    "\n",
    "# Metrics to test\n",
    "metrics = ['CTR_%', 'Conversion_Rate_%', 'CPP']\n",
    "\n",
    "# Calculate mean metrics for weekdays\n",
    "control_means_weekday = control_weekday[metrics].mean()\n",
    "test_means_weekday = test_weekday[metrics].mean()\n",
    "\n",
    "# Perform t-tests for each metric\n",
    "print(\"Weekday Performance Hypothesis Testing\")\n",
    "for metric in metrics:\n",
    "    stat, p_value = ttest_ind(control_weekday[metric], test_weekday[metric], equal_var=False)\n",
    "    print(f\"{metric}: t-statistic = {stat:.3f}, p-value = {p_value:.3f}\")\n",
    "\n",
    "# Display mean metrics\n",
    "print(\"\\nMean Metrics (Weekdays):\")\n",
    "print(\"Control Campaign:\\n\", control_means_weekday)\n",
    "print(\"Test Campaign:\\n\", test_means_weekday)\n"
   ]
  },
  {
   "cell_type": "markdown",
   "id": "b7c1a7cf",
   "metadata": {
    "papermill": {
     "duration": 0.021931,
     "end_time": "2024-12-10T01:33:56.886073",
     "exception": false,
     "start_time": "2024-12-10T01:33:56.864142",
     "status": "completed"
    },
    "tags": []
   },
   "source": [
    "- CTR (%):\n",
    "    - t-statistic = -3.372, p-value = 0.002:\n",
    "        - Since p<0.05, we reject the null hypothesis.\n",
    "        - There is a statistically significant difference in CTR between the Control and Test campaigns during weekdays.\n",
    "        - The negative t-statistic indicates that the CTR of the Test Campaign (10.64%) is significantly higher than the Control Campaign (5.15%).\n",
    "\n",
    "- Conversion Rate (%):\n",
    "    - t-statistic = 1.470, p-value = 0.151:\n",
    "        - Since p≥0.05, we fail to reject the null hypothesis.\n",
    "        - There is no statistically significant difference in Conversion Rate between the campaigns during weekdays.\n",
    "        - The positive t-statistic suggests that the Control Campaign (11.80%) has a slightly higher Conversion Rate than the Test Campaign (9.63%), but this difference is not significant.\n",
    "\n",
    "- CPP (Cost per Purchase):\n",
    "    - t-statistic = -1.045, p-value = 0.303:\n",
    "        - Since p≥0.05, we fail to reject the null hypothesis.\n",
    "        - There is no statistically significant difference in CPP between the campaigns during weekdays.\n",
    "        - The negative t-statistic suggests that the Control Campaign ($478.57) is slightly more cost-effective than the Test Campaign ($558.93), but this difference is not significant."
   ]
  },
  {
   "cell_type": "markdown",
   "id": "bdb44d46",
   "metadata": {
    "papermill": {
     "duration": 0.021526,
     "end_time": "2024-12-10T01:33:56.929411",
     "exception": false,
     "start_time": "2024-12-10T01:33:56.907885",
     "status": "completed"
    },
    "tags": []
   },
   "source": [
    "## Step-4:Conclusion and Future Action Plan"
   ]
  },
  {
   "cell_type": "markdown",
   "id": "aeefbb69",
   "metadata": {
    "papermill": {
     "duration": 0.022299,
     "end_time": "2024-12-10T01:33:56.973787",
     "exception": false,
     "start_time": "2024-12-10T01:33:56.951488",
     "status": "completed"
    },
    "tags": []
   },
   "source": [
    "Based on the analysis, the Test Campaign is the better-performing campaign due to its significantly higher CTR on weekdays, which indicates stronger user engagement. However, improvements are needed to capitalize on this strength and address weaker areas such as Conversion Rate and CPP."
   ]
  },
  {
   "cell_type": "markdown",
   "id": "8ac0bb11",
   "metadata": {
    "papermill": {
     "duration": 0.020847,
     "end_time": "2024-12-10T01:33:57.016008",
     "exception": false,
     "start_time": "2024-12-10T01:33:56.995161",
     "status": "completed"
    },
    "tags": []
   },
   "source": [
    "\n",
    "1. CTR:\n",
    "   - The Test Campaign consistently outperforms the Control Campaign in CTR during weekdays and overall.\n",
    "   - There is no significant difference during weekends.\n",
    "2. Conversion Rate:\n",
    "   - No significant differences between the campaigns during both weekdays and weekends.\n",
    "   - Control Campaign slightly edges out in Conversion Rate.\n",
    "3. CPP (Cost per Purchase):\n",
    "   - Both campaigns perform similarly in terms of cost-effectiveness (CPP) during weekdays and weekends.\n",
    "   - The Control Campaign appears slightly more cost-effective but not significantly.\n"
   ]
  },
  {
   "cell_type": "markdown",
   "id": "0188a824",
   "metadata": {
    "papermill": {
     "duration": 0.021189,
     "end_time": "2024-12-10T01:33:57.058404",
     "exception": false,
     "start_time": "2024-12-10T01:33:57.037215",
     "status": "completed"
    },
    "tags": []
   },
   "source": [
    "### Future Action Plan"
   ]
  },
  {
   "cell_type": "markdown",
   "id": "6e165472",
   "metadata": {
    "papermill": {
     "duration": 0.021295,
     "end_time": "2024-12-10T01:33:57.101590",
     "exception": false,
     "start_time": "2024-12-10T01:33:57.080295",
     "status": "completed"
    },
    "tags": []
   },
   "source": [
    "1. **Scale the Test Campaign**:\n",
    "    - Increase the budget and focus on weekdays to leverage the Test Campaign's superior CTR.\n",
    "    - Prioritize high-performing days such as Monday, Thursday, and Friday.\n",
    "2. **Optimize Conversion Rate**:\n",
    "    - Refine landing pages, CTAs, and the checkout process to improve conversion efficiency for the Test Campaign.\n",
    "    - Run A/B tests to identify factors driving higher conversions.\n",
    "3. **Enhance Weekend Performance**:\n",
    "    - Experiment with new creatives and targeting strategies for the Test Campaign to boost weekend CTR.\n",
    "    - Retarget weekday audiences during weekends to improve engagement and conversions.\n",
    "4. **Reduce CPP for the Test Campaign:**:\n",
    "    - Narrow targeting to high-converting audience segments.\n",
    "    - Optimize bidding strategies to focus on cost-per-conversion rather than cost-per-click.\n",
    "5. **Run Continuous A/B Testing**:\n",
    "    - Test additional creative variations, landing page designs, and ad schedules to refine the Test Campaign further.\n",
    "6. **Monitor and Adjust**:\n",
    "    - Set up real-time dashboards to track CTR, Conversion Rate, and CPP for both campaigns.\n",
    "    - Revisit the Control Campaign periodically for potential improvements."
   ]
  },
  {
   "cell_type": "markdown",
   "id": "c72df30d",
   "metadata": {
    "papermill": {
     "duration": 0.022111,
     "end_time": "2024-12-10T01:33:57.145347",
     "exception": false,
     "start_time": "2024-12-10T01:33:57.123236",
     "status": "completed"
    },
    "tags": []
   },
   "source": [
    "The Test Campaign is the better choice due to its ability to drive higher engagement (CTR). By focusing on improving its Conversion Rate and reducing CPP, this campaign can deliver even better results. Implementing the above action plan will ensure the Test Campaign's strengths are maximized while addressing its weaker areas."
   ]
  }
 ],
 "metadata": {
  "kaggle": {
   "accelerator": "none",
   "dataSources": [
    {
     "datasetId": 3714414,
     "sourceId": 6436332,
     "sourceType": "datasetVersion"
    }
   ],
   "dockerImageVersionId": 30804,
   "isGpuEnabled": false,
   "isInternetEnabled": true,
   "language": "python",
   "sourceType": "notebook"
  },
  "kernelspec": {
   "display_name": "Python 3",
   "language": "python",
   "name": "python3"
  },
  "language_info": {
   "codemirror_mode": {
    "name": "ipython",
    "version": 3
   },
   "file_extension": ".py",
   "mimetype": "text/x-python",
   "name": "python",
   "nbconvert_exporter": "python",
   "pygments_lexer": "ipython3",
   "version": "3.10.14"
  },
  "papermill": {
   "default_parameters": {},
   "duration": 9.942113,
   "end_time": "2024-12-10T01:33:57.687683",
   "environment_variables": {},
   "exception": null,
   "input_path": "__notebook__.ipynb",
   "output_path": "__notebook__.ipynb",
   "parameters": {},
   "start_time": "2024-12-10T01:33:47.745570",
   "version": "2.6.0"
  }
 },
 "nbformat": 4,
 "nbformat_minor": 5
}
