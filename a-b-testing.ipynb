{
 "cells": [
  {
   "cell_type": "code",
   "execution_count": 1,
   "id": "d9513b38",
   "metadata": {
    "_cell_guid": "b1076dfc-b9ad-4769-8c92-a6c4dae69d19",
    "_uuid": "8f2839f25d086af736a60e9eeb907d3b93b6e0e5",
    "execution": {
     "iopub.execute_input": "2024-12-09T20:32:42.800584Z",
     "iopub.status.busy": "2024-12-09T20:32:42.800176Z",
     "iopub.status.idle": "2024-12-09T20:32:43.796785Z",
     "shell.execute_reply": "2024-12-09T20:32:43.795254Z"
    },
    "papermill": {
     "duration": 1.009671,
     "end_time": "2024-12-09T20:32:43.800351",
     "exception": false,
     "start_time": "2024-12-09T20:32:42.790680",
     "status": "completed"
    },
    "tags": []
   },
   "outputs": [
    {
     "name": "stdout",
     "output_type": "stream",
     "text": [
      "/kaggle/input/ab-testing-dataset/test_group.csv\n",
      "/kaggle/input/ab-testing-dataset/control_group.csv\n"
     ]
    }
   ],
   "source": [
    "# This Python 3 environment comes with many helpful analytics libraries installed\n",
    "# It is defined by the kaggle/python Docker image: https://github.com/kaggle/docker-python\n",
    "# For example, here's several helpful packages to load\n",
    "\n",
    "import numpy as np # linear algebra\n",
    "import pandas as pd # data processing, CSV file I/O (e.g. pd.read_csv)\n",
    "\n",
    "# Input data files are available in the read-only \"../input/\" directory\n",
    "# For example, running this (by clicking run or pressing Shift+Enter) will list all files under the input directory\n",
    "\n",
    "import os\n",
    "for dirname, _, filenames in os.walk('/kaggle/input'):\n",
    "    for filename in filenames:\n",
    "        print(os.path.join(dirname, filename))\n",
    "\n",
    "# You can write up to 20GB to the current directory (/kaggle/working/) that gets preserved as output when you create a version using \"Save & Run All\" \n",
    "# You can also write temporary files to /kaggle/temp/, but they won't be saved outside of the current session"
   ]
  },
  {
   "cell_type": "markdown",
   "id": "0fa9b12a",
   "metadata": {
    "papermill": {
     "duration": 0.006576,
     "end_time": "2024-12-09T20:32:43.814173",
     "exception": false,
     "start_time": "2024-12-09T20:32:43.807597",
     "status": "completed"
    },
    "tags": []
   },
   "source": [
    "## Objective"
   ]
  },
  {
   "cell_type": "markdown",
   "id": "822f6c26",
   "metadata": {
    "papermill": {
     "duration": 0.006543,
     "end_time": "2024-12-09T20:32:43.828680",
     "exception": false,
     "start_time": "2024-12-09T20:32:43.822137",
     "status": "completed"
    },
    "tags": []
   },
   "source": [
    "Develop a framework to evaluate the effectiveness of marketing strategies by conducting A/B testing on user engagement metrics such as click-through rates (CTR) and conversion rates."
   ]
  },
  {
   "cell_type": "markdown",
   "id": "2ca1b8b0",
   "metadata": {
    "papermill": {
     "duration": 0.006566,
     "end_time": "2024-12-09T20:32:43.842395",
     "exception": false,
     "start_time": "2024-12-09T20:32:43.835829",
     "status": "completed"
    },
    "tags": []
   },
   "source": [
    "## Step-1: Data Loading and cleaning"
   ]
  },
  {
   "cell_type": "code",
   "execution_count": 2,
   "id": "68431882",
   "metadata": {
    "execution": {
     "iopub.execute_input": "2024-12-09T20:32:43.858717Z",
     "iopub.status.busy": "2024-12-09T20:32:43.858149Z",
     "iopub.status.idle": "2024-12-09T20:32:43.882599Z",
     "shell.execute_reply": "2024-12-09T20:32:43.881122Z"
    },
    "papermill": {
     "duration": 0.03565,
     "end_time": "2024-12-09T20:32:43.885325",
     "exception": false,
     "start_time": "2024-12-09T20:32:43.849675",
     "status": "completed"
    },
    "tags": []
   },
   "outputs": [],
   "source": [
    "df_control_gp = pd.read_csv(\"/kaggle/input/ab-testing-dataset/control_group.csv\",sep=\";\")\n",
    "df_test_gp = pd.read_csv(\"/kaggle/input/ab-testing-dataset/test_group.csv\",sep=\";\")"
   ]
  },
  {
   "cell_type": "markdown",
   "id": "ee83c952",
   "metadata": {
    "papermill": {
     "duration": 0.0067,
     "end_time": "2024-12-09T20:32:43.900569",
     "exception": false,
     "start_time": "2024-12-09T20:32:43.893869",
     "status": "completed"
    },
    "tags": []
   },
   "source": [
    "### Control group dataset"
   ]
  },
  {
   "cell_type": "code",
   "execution_count": 3,
   "id": "8970c7ac",
   "metadata": {
    "execution": {
     "iopub.execute_input": "2024-12-09T20:32:43.916496Z",
     "iopub.status.busy": "2024-12-09T20:32:43.916101Z",
     "iopub.status.idle": "2024-12-09T20:32:43.924528Z",
     "shell.execute_reply": "2024-12-09T20:32:43.923191Z"
    },
    "papermill": {
     "duration": 0.019481,
     "end_time": "2024-12-09T20:32:43.926888",
     "exception": false,
     "start_time": "2024-12-09T20:32:43.907407",
     "status": "completed"
    },
    "tags": []
   },
   "outputs": [
    {
     "data": {
      "text/plain": [
       "(30, 10)"
      ]
     },
     "execution_count": 3,
     "metadata": {},
     "output_type": "execute_result"
    }
   ],
   "source": [
    "df_control_gp.shape"
   ]
  },
  {
   "cell_type": "code",
   "execution_count": 4,
   "id": "15f89411",
   "metadata": {
    "execution": {
     "iopub.execute_input": "2024-12-09T20:32:43.944446Z",
     "iopub.status.busy": "2024-12-09T20:32:43.943981Z",
     "iopub.status.idle": "2024-12-09T20:32:43.981717Z",
     "shell.execute_reply": "2024-12-09T20:32:43.980148Z"
    },
    "papermill": {
     "duration": 0.049424,
     "end_time": "2024-12-09T20:32:43.984178",
     "exception": false,
     "start_time": "2024-12-09T20:32:43.934754",
     "status": "completed"
    },
    "tags": []
   },
   "outputs": [
    {
     "name": "stdout",
     "output_type": "stream",
     "text": [
      "<class 'pandas.core.frame.DataFrame'>\n",
      "RangeIndex: 30 entries, 0 to 29\n",
      "Data columns (total 10 columns):\n",
      " #   Column               Non-Null Count  Dtype  \n",
      "---  ------               --------------  -----  \n",
      " 0   Campaign Name        30 non-null     object \n",
      " 1   Date                 30 non-null     object \n",
      " 2   Spend [USD]          30 non-null     int64  \n",
      " 3   # of Impressions     29 non-null     float64\n",
      " 4   Reach                29 non-null     float64\n",
      " 5   # of Website Clicks  29 non-null     float64\n",
      " 6   # of Searches        29 non-null     float64\n",
      " 7   # of View Content    29 non-null     float64\n",
      " 8   # of Add to Cart     29 non-null     float64\n",
      " 9   # of Purchase        29 non-null     float64\n",
      "dtypes: float64(7), int64(1), object(2)\n",
      "memory usage: 2.5+ KB\n"
     ]
    }
   ],
   "source": [
    "df_control_gp.info()"
   ]
  },
  {
   "cell_type": "markdown",
   "id": "58c8f249",
   "metadata": {
    "papermill": {
     "duration": 0.006681,
     "end_time": "2024-12-09T20:32:43.998130",
     "exception": false,
     "start_time": "2024-12-09T20:32:43.991449",
     "status": "completed"
    },
    "tags": []
   },
   "source": [
    "#### Indentifying Null and missing values "
   ]
  },
  {
   "cell_type": "code",
   "execution_count": 5,
   "id": "f919f972",
   "metadata": {
    "execution": {
     "iopub.execute_input": "2024-12-09T20:32:44.014528Z",
     "iopub.status.busy": "2024-12-09T20:32:44.013045Z",
     "iopub.status.idle": "2024-12-09T20:32:44.023184Z",
     "shell.execute_reply": "2024-12-09T20:32:44.021987Z"
    },
    "papermill": {
     "duration": 0.021248,
     "end_time": "2024-12-09T20:32:44.026180",
     "exception": false,
     "start_time": "2024-12-09T20:32:44.004932",
     "status": "completed"
    },
    "tags": []
   },
   "outputs": [
    {
     "data": {
      "text/plain": [
       "Campaign Name          0\n",
       "Date                   0\n",
       "Spend [USD]            0\n",
       "# of Impressions       1\n",
       "Reach                  1\n",
       "# of Website Clicks    1\n",
       "# of Searches          1\n",
       "# of View Content      1\n",
       "# of Add to Cart       1\n",
       "# of Purchase          1\n",
       "dtype: int64"
      ]
     },
     "execution_count": 5,
     "metadata": {},
     "output_type": "execute_result"
    }
   ],
   "source": [
    "df_control_gp.isna().sum()"
   ]
  },
  {
   "cell_type": "markdown",
   "id": "db2a3f03",
   "metadata": {
    "papermill": {
     "duration": 0.006823,
     "end_time": "2024-12-09T20:32:44.041241",
     "exception": false,
     "start_time": "2024-12-09T20:32:44.034418",
     "status": "completed"
    },
    "tags": []
   },
   "source": [
    "#### Display rows with any Null values"
   ]
  },
  {
   "cell_type": "code",
   "execution_count": 6,
   "id": "e2919b18",
   "metadata": {
    "execution": {
     "iopub.execute_input": "2024-12-09T20:32:44.058622Z",
     "iopub.status.busy": "2024-12-09T20:32:44.058212Z",
     "iopub.status.idle": "2024-12-09T20:32:44.084403Z",
     "shell.execute_reply": "2024-12-09T20:32:44.083229Z"
    },
    "papermill": {
     "duration": 0.038565,
     "end_time": "2024-12-09T20:32:44.087163",
     "exception": false,
     "start_time": "2024-12-09T20:32:44.048598",
     "status": "completed"
    },
    "tags": []
   },
   "outputs": [
    {
     "data": {
      "text/html": [
       "<div>\n",
       "<style scoped>\n",
       "    .dataframe tbody tr th:only-of-type {\n",
       "        vertical-align: middle;\n",
       "    }\n",
       "\n",
       "    .dataframe tbody tr th {\n",
       "        vertical-align: top;\n",
       "    }\n",
       "\n",
       "    .dataframe thead th {\n",
       "        text-align: right;\n",
       "    }\n",
       "</style>\n",
       "<table border=\"1\" class=\"dataframe\">\n",
       "  <thead>\n",
       "    <tr style=\"text-align: right;\">\n",
       "      <th></th>\n",
       "      <th>Campaign Name</th>\n",
       "      <th>Date</th>\n",
       "      <th>Spend [USD]</th>\n",
       "      <th># of Impressions</th>\n",
       "      <th>Reach</th>\n",
       "      <th># of Website Clicks</th>\n",
       "      <th># of Searches</th>\n",
       "      <th># of View Content</th>\n",
       "      <th># of Add to Cart</th>\n",
       "      <th># of Purchase</th>\n",
       "    </tr>\n",
       "  </thead>\n",
       "  <tbody>\n",
       "    <tr>\n",
       "      <th>4</th>\n",
       "      <td>Control Campaign</td>\n",
       "      <td>5.08.2019</td>\n",
       "      <td>1835</td>\n",
       "      <td>NaN</td>\n",
       "      <td>NaN</td>\n",
       "      <td>NaN</td>\n",
       "      <td>NaN</td>\n",
       "      <td>NaN</td>\n",
       "      <td>NaN</td>\n",
       "      <td>NaN</td>\n",
       "    </tr>\n",
       "  </tbody>\n",
       "</table>\n",
       "</div>"
      ],
      "text/plain": [
       "      Campaign Name       Date  Spend [USD]  # of Impressions  Reach  \\\n",
       "4  Control Campaign  5.08.2019         1835               NaN    NaN   \n",
       "\n",
       "   # of Website Clicks  # of Searches  # of View Content  # of Add to Cart  \\\n",
       "4                  NaN            NaN                NaN               NaN   \n",
       "\n",
       "   # of Purchase  \n",
       "4            NaN  "
      ]
     },
     "execution_count": 6,
     "metadata": {},
     "output_type": "execute_result"
    }
   ],
   "source": [
    "df_control_gp[df_control_gp.isna().any(axis=1)]"
   ]
  },
  {
   "cell_type": "markdown",
   "id": "fbe5de77",
   "metadata": {
    "papermill": {
     "duration": 0.007173,
     "end_time": "2024-12-09T20:32:44.101814",
     "exception": false,
     "start_time": "2024-12-09T20:32:44.094641",
     "status": "completed"
    },
    "tags": []
   },
   "source": [
    "As the row doesn't provide any useful data, we can drop it"
   ]
  },
  {
   "cell_type": "code",
   "execution_count": 7,
   "id": "30c2f1a9",
   "metadata": {
    "execution": {
     "iopub.execute_input": "2024-12-09T20:32:44.118262Z",
     "iopub.status.busy": "2024-12-09T20:32:44.117853Z",
     "iopub.status.idle": "2024-12-09T20:32:44.125867Z",
     "shell.execute_reply": "2024-12-09T20:32:44.124757Z"
    },
    "papermill": {
     "duration": 0.019066,
     "end_time": "2024-12-09T20:32:44.128170",
     "exception": false,
     "start_time": "2024-12-09T20:32:44.109104",
     "status": "completed"
    },
    "tags": []
   },
   "outputs": [],
   "source": [
    "df_control_gp.dropna(inplace=True)"
   ]
  },
  {
   "cell_type": "code",
   "execution_count": 8,
   "id": "c71e79e5",
   "metadata": {
    "execution": {
     "iopub.execute_input": "2024-12-09T20:32:44.144449Z",
     "iopub.status.busy": "2024-12-09T20:32:44.144010Z",
     "iopub.status.idle": "2024-12-09T20:32:44.162433Z",
     "shell.execute_reply": "2024-12-09T20:32:44.160991Z"
    },
    "papermill": {
     "duration": 0.029417,
     "end_time": "2024-12-09T20:32:44.164924",
     "exception": false,
     "start_time": "2024-12-09T20:32:44.135507",
     "status": "completed"
    },
    "tags": []
   },
   "outputs": [
    {
     "data": {
      "text/html": [
       "<div>\n",
       "<style scoped>\n",
       "    .dataframe tbody tr th:only-of-type {\n",
       "        vertical-align: middle;\n",
       "    }\n",
       "\n",
       "    .dataframe tbody tr th {\n",
       "        vertical-align: top;\n",
       "    }\n",
       "\n",
       "    .dataframe thead th {\n",
       "        text-align: right;\n",
       "    }\n",
       "</style>\n",
       "<table border=\"1\" class=\"dataframe\">\n",
       "  <thead>\n",
       "    <tr style=\"text-align: right;\">\n",
       "      <th></th>\n",
       "      <th>Campaign Name</th>\n",
       "      <th>Date</th>\n",
       "      <th>Spend [USD]</th>\n",
       "      <th># of Impressions</th>\n",
       "      <th>Reach</th>\n",
       "      <th># of Website Clicks</th>\n",
       "      <th># of Searches</th>\n",
       "      <th># of View Content</th>\n",
       "      <th># of Add to Cart</th>\n",
       "      <th># of Purchase</th>\n",
       "    </tr>\n",
       "  </thead>\n",
       "  <tbody>\n",
       "    <tr>\n",
       "      <th>0</th>\n",
       "      <td>Control Campaign</td>\n",
       "      <td>1.08.2019</td>\n",
       "      <td>2280</td>\n",
       "      <td>82702.0</td>\n",
       "      <td>56930.0</td>\n",
       "      <td>7016.0</td>\n",
       "      <td>2290.0</td>\n",
       "      <td>2159.0</td>\n",
       "      <td>1819.0</td>\n",
       "      <td>618.0</td>\n",
       "    </tr>\n",
       "    <tr>\n",
       "      <th>1</th>\n",
       "      <td>Control Campaign</td>\n",
       "      <td>2.08.2019</td>\n",
       "      <td>1757</td>\n",
       "      <td>121040.0</td>\n",
       "      <td>102513.0</td>\n",
       "      <td>8110.0</td>\n",
       "      <td>2033.0</td>\n",
       "      <td>1841.0</td>\n",
       "      <td>1219.0</td>\n",
       "      <td>511.0</td>\n",
       "    </tr>\n",
       "    <tr>\n",
       "      <th>2</th>\n",
       "      <td>Control Campaign</td>\n",
       "      <td>3.08.2019</td>\n",
       "      <td>2343</td>\n",
       "      <td>131711.0</td>\n",
       "      <td>110862.0</td>\n",
       "      <td>6508.0</td>\n",
       "      <td>1737.0</td>\n",
       "      <td>1549.0</td>\n",
       "      <td>1134.0</td>\n",
       "      <td>372.0</td>\n",
       "    </tr>\n",
       "    <tr>\n",
       "      <th>3</th>\n",
       "      <td>Control Campaign</td>\n",
       "      <td>4.08.2019</td>\n",
       "      <td>1940</td>\n",
       "      <td>72878.0</td>\n",
       "      <td>61235.0</td>\n",
       "      <td>3065.0</td>\n",
       "      <td>1042.0</td>\n",
       "      <td>982.0</td>\n",
       "      <td>1183.0</td>\n",
       "      <td>340.0</td>\n",
       "    </tr>\n",
       "    <tr>\n",
       "      <th>5</th>\n",
       "      <td>Control Campaign</td>\n",
       "      <td>6.08.2019</td>\n",
       "      <td>3083</td>\n",
       "      <td>109076.0</td>\n",
       "      <td>87998.0</td>\n",
       "      <td>4028.0</td>\n",
       "      <td>1709.0</td>\n",
       "      <td>1249.0</td>\n",
       "      <td>784.0</td>\n",
       "      <td>764.0</td>\n",
       "    </tr>\n",
       "  </tbody>\n",
       "</table>\n",
       "</div>"
      ],
      "text/plain": [
       "      Campaign Name       Date  Spend [USD]  # of Impressions     Reach  \\\n",
       "0  Control Campaign  1.08.2019         2280           82702.0   56930.0   \n",
       "1  Control Campaign  2.08.2019         1757          121040.0  102513.0   \n",
       "2  Control Campaign  3.08.2019         2343          131711.0  110862.0   \n",
       "3  Control Campaign  4.08.2019         1940           72878.0   61235.0   \n",
       "5  Control Campaign  6.08.2019         3083          109076.0   87998.0   \n",
       "\n",
       "   # of Website Clicks  # of Searches  # of View Content  # of Add to Cart  \\\n",
       "0               7016.0         2290.0             2159.0            1819.0   \n",
       "1               8110.0         2033.0             1841.0            1219.0   \n",
       "2               6508.0         1737.0             1549.0            1134.0   \n",
       "3               3065.0         1042.0              982.0            1183.0   \n",
       "5               4028.0         1709.0             1249.0             784.0   \n",
       "\n",
       "   # of Purchase  \n",
       "0          618.0  \n",
       "1          511.0  \n",
       "2          372.0  \n",
       "3          340.0  \n",
       "5          764.0  "
      ]
     },
     "execution_count": 8,
     "metadata": {},
     "output_type": "execute_result"
    }
   ],
   "source": [
    "df_control_gp.head()"
   ]
  },
  {
   "cell_type": "code",
   "execution_count": 9,
   "id": "282c1ceb",
   "metadata": {
    "execution": {
     "iopub.execute_input": "2024-12-09T20:32:44.181772Z",
     "iopub.status.busy": "2024-12-09T20:32:44.181360Z",
     "iopub.status.idle": "2024-12-09T20:32:44.193020Z",
     "shell.execute_reply": "2024-12-09T20:32:44.191967Z"
    },
    "papermill": {
     "duration": 0.023104,
     "end_time": "2024-12-09T20:32:44.195637",
     "exception": false,
     "start_time": "2024-12-09T20:32:44.172533",
     "status": "completed"
    },
    "tags": []
   },
   "outputs": [
    {
     "name": "stdout",
     "output_type": "stream",
     "text": [
      "<class 'pandas.core.frame.DataFrame'>\n",
      "Index: 29 entries, 0 to 29\n",
      "Data columns (total 10 columns):\n",
      " #   Column               Non-Null Count  Dtype  \n",
      "---  ------               --------------  -----  \n",
      " 0   Campaign Name        29 non-null     object \n",
      " 1   Date                 29 non-null     object \n",
      " 2   Spend [USD]          29 non-null     int64  \n",
      " 3   # of Impressions     29 non-null     float64\n",
      " 4   Reach                29 non-null     float64\n",
      " 5   # of Website Clicks  29 non-null     float64\n",
      " 6   # of Searches        29 non-null     float64\n",
      " 7   # of View Content    29 non-null     float64\n",
      " 8   # of Add to Cart     29 non-null     float64\n",
      " 9   # of Purchase        29 non-null     float64\n",
      "dtypes: float64(7), int64(1), object(2)\n",
      "memory usage: 2.5+ KB\n"
     ]
    }
   ],
   "source": [
    "df_control_gp.info()"
   ]
  },
  {
   "cell_type": "code",
   "execution_count": 10,
   "id": "d2c92bff",
   "metadata": {
    "execution": {
     "iopub.execute_input": "2024-12-09T20:32:44.212652Z",
     "iopub.status.busy": "2024-12-09T20:32:44.212257Z",
     "iopub.status.idle": "2024-12-09T20:32:44.222333Z",
     "shell.execute_reply": "2024-12-09T20:32:44.221124Z"
    },
    "papermill": {
     "duration": 0.021455,
     "end_time": "2024-12-09T20:32:44.224749",
     "exception": false,
     "start_time": "2024-12-09T20:32:44.203294",
     "status": "completed"
    },
    "tags": []
   },
   "outputs": [],
   "source": [
    "df_control_gp['Date'] = pd.to_datetime(df_control_gp['Date'], format = \"%d.%m.%Y\")"
   ]
  },
  {
   "cell_type": "code",
   "execution_count": 11,
   "id": "87036d1c",
   "metadata": {
    "execution": {
     "iopub.execute_input": "2024-12-09T20:32:44.241499Z",
     "iopub.status.busy": "2024-12-09T20:32:44.241117Z",
     "iopub.status.idle": "2024-12-09T20:32:44.250520Z",
     "shell.execute_reply": "2024-12-09T20:32:44.249344Z"
    },
    "papermill": {
     "duration": 0.020566,
     "end_time": "2024-12-09T20:32:44.252929",
     "exception": false,
     "start_time": "2024-12-09T20:32:44.232363",
     "status": "completed"
    },
    "tags": []
   },
   "outputs": [
    {
     "data": {
      "text/plain": [
       "<DatetimeArray>\n",
       "['2019-08-01 00:00:00', '2019-08-02 00:00:00', '2019-08-03 00:00:00',\n",
       " '2019-08-04 00:00:00', '2019-08-06 00:00:00', '2019-08-07 00:00:00',\n",
       " '2019-08-08 00:00:00', '2019-08-09 00:00:00', '2019-08-10 00:00:00',\n",
       " '2019-08-11 00:00:00', '2019-08-12 00:00:00', '2019-08-13 00:00:00',\n",
       " '2019-08-14 00:00:00', '2019-08-15 00:00:00', '2019-08-16 00:00:00',\n",
       " '2019-08-17 00:00:00', '2019-08-18 00:00:00', '2019-08-19 00:00:00',\n",
       " '2019-08-20 00:00:00', '2019-08-21 00:00:00', '2019-08-22 00:00:00',\n",
       " '2019-08-23 00:00:00', '2019-08-24 00:00:00', '2019-08-25 00:00:00',\n",
       " '2019-08-26 00:00:00', '2019-08-27 00:00:00', '2019-08-28 00:00:00',\n",
       " '2019-08-29 00:00:00', '2019-08-30 00:00:00']\n",
       "Length: 29, dtype: datetime64[ns]"
      ]
     },
     "execution_count": 11,
     "metadata": {},
     "output_type": "execute_result"
    }
   ],
   "source": [
    "df_control_gp['Date'].unique()"
   ]
  },
  {
   "cell_type": "code",
   "execution_count": 12,
   "id": "0e286d9c",
   "metadata": {
    "execution": {
     "iopub.execute_input": "2024-12-09T20:32:44.270123Z",
     "iopub.status.busy": "2024-12-09T20:32:44.269719Z",
     "iopub.status.idle": "2024-12-09T20:32:44.278110Z",
     "shell.execute_reply": "2024-12-09T20:32:44.276793Z"
    },
    "papermill": {
     "duration": 0.019674,
     "end_time": "2024-12-09T20:32:44.280566",
     "exception": false,
     "start_time": "2024-12-09T20:32:44.260892",
     "status": "completed"
    },
    "tags": []
   },
   "outputs": [
    {
     "data": {
      "text/plain": [
       "Index(['Campaign Name', 'Date', 'Spend [USD]', '# of Impressions', 'Reach',\n",
       "       '# of Website Clicks', '# of Searches', '# of View Content',\n",
       "       '# of Add to Cart', '# of Purchase'],\n",
       "      dtype='object')"
      ]
     },
     "execution_count": 12,
     "metadata": {},
     "output_type": "execute_result"
    }
   ],
   "source": [
    "df_control_gp.columns"
   ]
  },
  {
   "cell_type": "code",
   "execution_count": 13,
   "id": "f9185abf",
   "metadata": {
    "execution": {
     "iopub.execute_input": "2024-12-09T20:32:44.297515Z",
     "iopub.status.busy": "2024-12-09T20:32:44.297139Z",
     "iopub.status.idle": "2024-12-09T20:32:44.303770Z",
     "shell.execute_reply": "2024-12-09T20:32:44.302561Z"
    },
    "papermill": {
     "duration": 0.017638,
     "end_time": "2024-12-09T20:32:44.305993",
     "exception": false,
     "start_time": "2024-12-09T20:32:44.288355",
     "status": "completed"
    },
    "tags": []
   },
   "outputs": [],
   "source": [
    "df_control_gp.rename(columns={\n",
    "    'Campaign Name': 'Campaign',\n",
    "    'Date': 'Date',\n",
    "    'Spend [USD]': 'Spend_USD',\n",
    "    '# of Impressions': 'Impressions',\n",
    "    'Reach': 'Reach',\n",
    "    '# of Website Clicks': 'Website_Clicks',\n",
    "    '# of Searches': 'Searches',\n",
    "    '# of View Content': 'Views',\n",
    "    '# of Add to Cart': 'Add_to_Cart',\n",
    "    '# of Purchase': 'Purchases'\n",
    "}, inplace=True)\n"
   ]
  },
  {
   "cell_type": "code",
   "execution_count": 14,
   "id": "dd88954a",
   "metadata": {
    "execution": {
     "iopub.execute_input": "2024-12-09T20:32:44.322945Z",
     "iopub.status.busy": "2024-12-09T20:32:44.322595Z",
     "iopub.status.idle": "2024-12-09T20:32:44.339221Z",
     "shell.execute_reply": "2024-12-09T20:32:44.338093Z"
    },
    "papermill": {
     "duration": 0.027526,
     "end_time": "2024-12-09T20:32:44.341325",
     "exception": false,
     "start_time": "2024-12-09T20:32:44.313799",
     "status": "completed"
    },
    "tags": []
   },
   "outputs": [
    {
     "data": {
      "text/html": [
       "<div>\n",
       "<style scoped>\n",
       "    .dataframe tbody tr th:only-of-type {\n",
       "        vertical-align: middle;\n",
       "    }\n",
       "\n",
       "    .dataframe tbody tr th {\n",
       "        vertical-align: top;\n",
       "    }\n",
       "\n",
       "    .dataframe thead th {\n",
       "        text-align: right;\n",
       "    }\n",
       "</style>\n",
       "<table border=\"1\" class=\"dataframe\">\n",
       "  <thead>\n",
       "    <tr style=\"text-align: right;\">\n",
       "      <th></th>\n",
       "      <th>Campaign</th>\n",
       "      <th>Date</th>\n",
       "      <th>Spend_USD</th>\n",
       "      <th>Impressions</th>\n",
       "      <th>Reach</th>\n",
       "      <th>Website_Clicks</th>\n",
       "      <th>Searches</th>\n",
       "      <th>Views</th>\n",
       "      <th>Add_to_Cart</th>\n",
       "      <th>Purchases</th>\n",
       "    </tr>\n",
       "  </thead>\n",
       "  <tbody>\n",
       "    <tr>\n",
       "      <th>0</th>\n",
       "      <td>Control Campaign</td>\n",
       "      <td>2019-08-01</td>\n",
       "      <td>2280</td>\n",
       "      <td>82702.0</td>\n",
       "      <td>56930.0</td>\n",
       "      <td>7016.0</td>\n",
       "      <td>2290.0</td>\n",
       "      <td>2159.0</td>\n",
       "      <td>1819.0</td>\n",
       "      <td>618.0</td>\n",
       "    </tr>\n",
       "    <tr>\n",
       "      <th>1</th>\n",
       "      <td>Control Campaign</td>\n",
       "      <td>2019-08-02</td>\n",
       "      <td>1757</td>\n",
       "      <td>121040.0</td>\n",
       "      <td>102513.0</td>\n",
       "      <td>8110.0</td>\n",
       "      <td>2033.0</td>\n",
       "      <td>1841.0</td>\n",
       "      <td>1219.0</td>\n",
       "      <td>511.0</td>\n",
       "    </tr>\n",
       "    <tr>\n",
       "      <th>2</th>\n",
       "      <td>Control Campaign</td>\n",
       "      <td>2019-08-03</td>\n",
       "      <td>2343</td>\n",
       "      <td>131711.0</td>\n",
       "      <td>110862.0</td>\n",
       "      <td>6508.0</td>\n",
       "      <td>1737.0</td>\n",
       "      <td>1549.0</td>\n",
       "      <td>1134.0</td>\n",
       "      <td>372.0</td>\n",
       "    </tr>\n",
       "    <tr>\n",
       "      <th>3</th>\n",
       "      <td>Control Campaign</td>\n",
       "      <td>2019-08-04</td>\n",
       "      <td>1940</td>\n",
       "      <td>72878.0</td>\n",
       "      <td>61235.0</td>\n",
       "      <td>3065.0</td>\n",
       "      <td>1042.0</td>\n",
       "      <td>982.0</td>\n",
       "      <td>1183.0</td>\n",
       "      <td>340.0</td>\n",
       "    </tr>\n",
       "    <tr>\n",
       "      <th>5</th>\n",
       "      <td>Control Campaign</td>\n",
       "      <td>2019-08-06</td>\n",
       "      <td>3083</td>\n",
       "      <td>109076.0</td>\n",
       "      <td>87998.0</td>\n",
       "      <td>4028.0</td>\n",
       "      <td>1709.0</td>\n",
       "      <td>1249.0</td>\n",
       "      <td>784.0</td>\n",
       "      <td>764.0</td>\n",
       "    </tr>\n",
       "  </tbody>\n",
       "</table>\n",
       "</div>"
      ],
      "text/plain": [
       "           Campaign       Date  Spend_USD  Impressions     Reach  \\\n",
       "0  Control Campaign 2019-08-01       2280      82702.0   56930.0   \n",
       "1  Control Campaign 2019-08-02       1757     121040.0  102513.0   \n",
       "2  Control Campaign 2019-08-03       2343     131711.0  110862.0   \n",
       "3  Control Campaign 2019-08-04       1940      72878.0   61235.0   \n",
       "5  Control Campaign 2019-08-06       3083     109076.0   87998.0   \n",
       "\n",
       "   Website_Clicks  Searches   Views  Add_to_Cart  Purchases  \n",
       "0          7016.0    2290.0  2159.0       1819.0      618.0  \n",
       "1          8110.0    2033.0  1841.0       1219.0      511.0  \n",
       "2          6508.0    1737.0  1549.0       1134.0      372.0  \n",
       "3          3065.0    1042.0   982.0       1183.0      340.0  \n",
       "5          4028.0    1709.0  1249.0        784.0      764.0  "
      ]
     },
     "execution_count": 14,
     "metadata": {},
     "output_type": "execute_result"
    }
   ],
   "source": [
    "df_control_gp.head()"
   ]
  },
  {
   "cell_type": "markdown",
   "id": "81804cf1",
   "metadata": {
    "papermill": {
     "duration": 0.00743,
     "end_time": "2024-12-09T20:32:44.356632",
     "exception": false,
     "start_time": "2024-12-09T20:32:44.349202",
     "status": "completed"
    },
    "tags": []
   },
   "source": [
    "### Adding CTR (Click-Through Rate) to measure the effectiveness of campaigns in driving clicks"
   ]
  },
  {
   "cell_type": "code",
   "execution_count": 15,
   "id": "cb429181",
   "metadata": {
    "execution": {
     "iopub.execute_input": "2024-12-09T20:32:44.373960Z",
     "iopub.status.busy": "2024-12-09T20:32:44.373584Z",
     "iopub.status.idle": "2024-12-09T20:32:44.380253Z",
     "shell.execute_reply": "2024-12-09T20:32:44.379042Z"
    },
    "papermill": {
     "duration": 0.018126,
     "end_time": "2024-12-09T20:32:44.382651",
     "exception": false,
     "start_time": "2024-12-09T20:32:44.364525",
     "status": "completed"
    },
    "tags": []
   },
   "outputs": [],
   "source": [
    "df_control_gp['CTR_%'] = round(((df_control_gp['Website_Clicks']/df_control_gp['Impressions'])*100),2)"
   ]
  },
  {
   "cell_type": "code",
   "execution_count": 16,
   "id": "bdc35126",
   "metadata": {
    "execution": {
     "iopub.execute_input": "2024-12-09T20:32:44.400924Z",
     "iopub.status.busy": "2024-12-09T20:32:44.400481Z",
     "iopub.status.idle": "2024-12-09T20:32:44.419940Z",
     "shell.execute_reply": "2024-12-09T20:32:44.418823Z"
    },
    "papermill": {
     "duration": 0.031511,
     "end_time": "2024-12-09T20:32:44.422231",
     "exception": false,
     "start_time": "2024-12-09T20:32:44.390720",
     "status": "completed"
    },
    "tags": []
   },
   "outputs": [
    {
     "data": {
      "text/html": [
       "<div>\n",
       "<style scoped>\n",
       "    .dataframe tbody tr th:only-of-type {\n",
       "        vertical-align: middle;\n",
       "    }\n",
       "\n",
       "    .dataframe tbody tr th {\n",
       "        vertical-align: top;\n",
       "    }\n",
       "\n",
       "    .dataframe thead th {\n",
       "        text-align: right;\n",
       "    }\n",
       "</style>\n",
       "<table border=\"1\" class=\"dataframe\">\n",
       "  <thead>\n",
       "    <tr style=\"text-align: right;\">\n",
       "      <th></th>\n",
       "      <th>Campaign</th>\n",
       "      <th>Date</th>\n",
       "      <th>Spend_USD</th>\n",
       "      <th>Impressions</th>\n",
       "      <th>Reach</th>\n",
       "      <th>Website_Clicks</th>\n",
       "      <th>Searches</th>\n",
       "      <th>Views</th>\n",
       "      <th>Add_to_Cart</th>\n",
       "      <th>Purchases</th>\n",
       "      <th>CTR_%</th>\n",
       "    </tr>\n",
       "  </thead>\n",
       "  <tbody>\n",
       "    <tr>\n",
       "      <th>0</th>\n",
       "      <td>Control Campaign</td>\n",
       "      <td>2019-08-01</td>\n",
       "      <td>2280</td>\n",
       "      <td>82702.0</td>\n",
       "      <td>56930.0</td>\n",
       "      <td>7016.0</td>\n",
       "      <td>2290.0</td>\n",
       "      <td>2159.0</td>\n",
       "      <td>1819.0</td>\n",
       "      <td>618.0</td>\n",
       "      <td>8.48</td>\n",
       "    </tr>\n",
       "    <tr>\n",
       "      <th>1</th>\n",
       "      <td>Control Campaign</td>\n",
       "      <td>2019-08-02</td>\n",
       "      <td>1757</td>\n",
       "      <td>121040.0</td>\n",
       "      <td>102513.0</td>\n",
       "      <td>8110.0</td>\n",
       "      <td>2033.0</td>\n",
       "      <td>1841.0</td>\n",
       "      <td>1219.0</td>\n",
       "      <td>511.0</td>\n",
       "      <td>6.70</td>\n",
       "    </tr>\n",
       "    <tr>\n",
       "      <th>2</th>\n",
       "      <td>Control Campaign</td>\n",
       "      <td>2019-08-03</td>\n",
       "      <td>2343</td>\n",
       "      <td>131711.0</td>\n",
       "      <td>110862.0</td>\n",
       "      <td>6508.0</td>\n",
       "      <td>1737.0</td>\n",
       "      <td>1549.0</td>\n",
       "      <td>1134.0</td>\n",
       "      <td>372.0</td>\n",
       "      <td>4.94</td>\n",
       "    </tr>\n",
       "    <tr>\n",
       "      <th>3</th>\n",
       "      <td>Control Campaign</td>\n",
       "      <td>2019-08-04</td>\n",
       "      <td>1940</td>\n",
       "      <td>72878.0</td>\n",
       "      <td>61235.0</td>\n",
       "      <td>3065.0</td>\n",
       "      <td>1042.0</td>\n",
       "      <td>982.0</td>\n",
       "      <td>1183.0</td>\n",
       "      <td>340.0</td>\n",
       "      <td>4.21</td>\n",
       "    </tr>\n",
       "    <tr>\n",
       "      <th>5</th>\n",
       "      <td>Control Campaign</td>\n",
       "      <td>2019-08-06</td>\n",
       "      <td>3083</td>\n",
       "      <td>109076.0</td>\n",
       "      <td>87998.0</td>\n",
       "      <td>4028.0</td>\n",
       "      <td>1709.0</td>\n",
       "      <td>1249.0</td>\n",
       "      <td>784.0</td>\n",
       "      <td>764.0</td>\n",
       "      <td>3.69</td>\n",
       "    </tr>\n",
       "  </tbody>\n",
       "</table>\n",
       "</div>"
      ],
      "text/plain": [
       "           Campaign       Date  Spend_USD  Impressions     Reach  \\\n",
       "0  Control Campaign 2019-08-01       2280      82702.0   56930.0   \n",
       "1  Control Campaign 2019-08-02       1757     121040.0  102513.0   \n",
       "2  Control Campaign 2019-08-03       2343     131711.0  110862.0   \n",
       "3  Control Campaign 2019-08-04       1940      72878.0   61235.0   \n",
       "5  Control Campaign 2019-08-06       3083     109076.0   87998.0   \n",
       "\n",
       "   Website_Clicks  Searches   Views  Add_to_Cart  Purchases  CTR_%  \n",
       "0          7016.0    2290.0  2159.0       1819.0      618.0   8.48  \n",
       "1          8110.0    2033.0  1841.0       1219.0      511.0   6.70  \n",
       "2          6508.0    1737.0  1549.0       1134.0      372.0   4.94  \n",
       "3          3065.0    1042.0   982.0       1183.0      340.0   4.21  \n",
       "5          4028.0    1709.0  1249.0        784.0      764.0   3.69  "
      ]
     },
     "execution_count": 16,
     "metadata": {},
     "output_type": "execute_result"
    }
   ],
   "source": [
    "df_control_gp.head()"
   ]
  },
  {
   "cell_type": "code",
   "execution_count": null,
   "id": "8ea895fe",
   "metadata": {
    "papermill": {
     "duration": 0.007751,
     "end_time": "2024-12-09T20:32:44.438103",
     "exception": false,
     "start_time": "2024-12-09T20:32:44.430352",
     "status": "completed"
    },
    "tags": []
   },
   "outputs": [],
   "source": []
  },
  {
   "cell_type": "markdown",
   "id": "ffe9c315",
   "metadata": {
    "papermill": {
     "duration": 0.007684,
     "end_time": "2024-12-09T20:32:44.454326",
     "exception": false,
     "start_time": "2024-12-09T20:32:44.446642",
     "status": "completed"
    },
    "tags": []
   },
   "source": [
    "### Test group dataset"
   ]
  },
  {
   "cell_type": "code",
   "execution_count": 17,
   "id": "df7f30ad",
   "metadata": {
    "execution": {
     "iopub.execute_input": "2024-12-09T20:32:44.472123Z",
     "iopub.status.busy": "2024-12-09T20:32:44.471708Z",
     "iopub.status.idle": "2024-12-09T20:32:44.478995Z",
     "shell.execute_reply": "2024-12-09T20:32:44.477869Z"
    },
    "papermill": {
     "duration": 0.018956,
     "end_time": "2024-12-09T20:32:44.481384",
     "exception": false,
     "start_time": "2024-12-09T20:32:44.462428",
     "status": "completed"
    },
    "tags": []
   },
   "outputs": [
    {
     "data": {
      "text/plain": [
       "(30, 10)"
      ]
     },
     "execution_count": 17,
     "metadata": {},
     "output_type": "execute_result"
    }
   ],
   "source": [
    "df_test_gp.shape"
   ]
  },
  {
   "cell_type": "code",
   "execution_count": 18,
   "id": "2c2f2119",
   "metadata": {
    "execution": {
     "iopub.execute_input": "2024-12-09T20:32:44.500606Z",
     "iopub.status.busy": "2024-12-09T20:32:44.500015Z",
     "iopub.status.idle": "2024-12-09T20:32:44.512087Z",
     "shell.execute_reply": "2024-12-09T20:32:44.510743Z"
    },
    "papermill": {
     "duration": 0.024522,
     "end_time": "2024-12-09T20:32:44.514324",
     "exception": false,
     "start_time": "2024-12-09T20:32:44.489802",
     "status": "completed"
    },
    "tags": []
   },
   "outputs": [
    {
     "name": "stdout",
     "output_type": "stream",
     "text": [
      "<class 'pandas.core.frame.DataFrame'>\n",
      "RangeIndex: 30 entries, 0 to 29\n",
      "Data columns (total 10 columns):\n",
      " #   Column               Non-Null Count  Dtype \n",
      "---  ------               --------------  ----- \n",
      " 0   Campaign Name        30 non-null     object\n",
      " 1   Date                 30 non-null     object\n",
      " 2   Spend [USD]          30 non-null     int64 \n",
      " 3   # of Impressions     30 non-null     int64 \n",
      " 4   Reach                30 non-null     int64 \n",
      " 5   # of Website Clicks  30 non-null     int64 \n",
      " 6   # of Searches        30 non-null     int64 \n",
      " 7   # of View Content    30 non-null     int64 \n",
      " 8   # of Add to Cart     30 non-null     int64 \n",
      " 9   # of Purchase        30 non-null     int64 \n",
      "dtypes: int64(8), object(2)\n",
      "memory usage: 2.5+ KB\n"
     ]
    }
   ],
   "source": [
    "df_test_gp.info()"
   ]
  },
  {
   "cell_type": "code",
   "execution_count": 19,
   "id": "0b89c250",
   "metadata": {
    "execution": {
     "iopub.execute_input": "2024-12-09T20:32:44.532406Z",
     "iopub.status.busy": "2024-12-09T20:32:44.531988Z",
     "iopub.status.idle": "2024-12-09T20:32:44.540760Z",
     "shell.execute_reply": "2024-12-09T20:32:44.539677Z"
    },
    "papermill": {
     "duration": 0.020612,
     "end_time": "2024-12-09T20:32:44.543158",
     "exception": false,
     "start_time": "2024-12-09T20:32:44.522546",
     "status": "completed"
    },
    "tags": []
   },
   "outputs": [
    {
     "data": {
      "text/plain": [
       "Campaign          0\n",
       "Date              0\n",
       "Spend_USD         0\n",
       "Impressions       0\n",
       "Reach             0\n",
       "Website_Clicks    0\n",
       "Searches          0\n",
       "Views             0\n",
       "Add_to_Cart       0\n",
       "Purchases         0\n",
       "CTR_%             0\n",
       "dtype: int64"
      ]
     },
     "execution_count": 19,
     "metadata": {},
     "output_type": "execute_result"
    }
   ],
   "source": [
    "df_control_gp.isna().sum()"
   ]
  },
  {
   "cell_type": "code",
   "execution_count": 20,
   "id": "c7ef8a93",
   "metadata": {
    "execution": {
     "iopub.execute_input": "2024-12-09T20:32:44.561425Z",
     "iopub.status.busy": "2024-12-09T20:32:44.561012Z",
     "iopub.status.idle": "2024-12-09T20:32:44.574204Z",
     "shell.execute_reply": "2024-12-09T20:32:44.572982Z"
    },
    "papermill": {
     "duration": 0.024893,
     "end_time": "2024-12-09T20:32:44.576497",
     "exception": false,
     "start_time": "2024-12-09T20:32:44.551604",
     "status": "completed"
    },
    "tags": []
   },
   "outputs": [
    {
     "data": {
      "text/html": [
       "<div>\n",
       "<style scoped>\n",
       "    .dataframe tbody tr th:only-of-type {\n",
       "        vertical-align: middle;\n",
       "    }\n",
       "\n",
       "    .dataframe tbody tr th {\n",
       "        vertical-align: top;\n",
       "    }\n",
       "\n",
       "    .dataframe thead th {\n",
       "        text-align: right;\n",
       "    }\n",
       "</style>\n",
       "<table border=\"1\" class=\"dataframe\">\n",
       "  <thead>\n",
       "    <tr style=\"text-align: right;\">\n",
       "      <th></th>\n",
       "      <th>Campaign Name</th>\n",
       "      <th>Date</th>\n",
       "      <th>Spend [USD]</th>\n",
       "      <th># of Impressions</th>\n",
       "      <th>Reach</th>\n",
       "      <th># of Website Clicks</th>\n",
       "      <th># of Searches</th>\n",
       "      <th># of View Content</th>\n",
       "      <th># of Add to Cart</th>\n",
       "      <th># of Purchase</th>\n",
       "    </tr>\n",
       "  </thead>\n",
       "  <tbody>\n",
       "    <tr>\n",
       "      <th>0</th>\n",
       "      <td>Test Campaign</td>\n",
       "      <td>1.08.2019</td>\n",
       "      <td>3008</td>\n",
       "      <td>39550</td>\n",
       "      <td>35820</td>\n",
       "      <td>3038</td>\n",
       "      <td>1946</td>\n",
       "      <td>1069</td>\n",
       "      <td>894</td>\n",
       "      <td>255</td>\n",
       "    </tr>\n",
       "    <tr>\n",
       "      <th>1</th>\n",
       "      <td>Test Campaign</td>\n",
       "      <td>2.08.2019</td>\n",
       "      <td>2542</td>\n",
       "      <td>100719</td>\n",
       "      <td>91236</td>\n",
       "      <td>4657</td>\n",
       "      <td>2359</td>\n",
       "      <td>1548</td>\n",
       "      <td>879</td>\n",
       "      <td>677</td>\n",
       "    </tr>\n",
       "    <tr>\n",
       "      <th>2</th>\n",
       "      <td>Test Campaign</td>\n",
       "      <td>3.08.2019</td>\n",
       "      <td>2365</td>\n",
       "      <td>70263</td>\n",
       "      <td>45198</td>\n",
       "      <td>7885</td>\n",
       "      <td>2572</td>\n",
       "      <td>2367</td>\n",
       "      <td>1268</td>\n",
       "      <td>578</td>\n",
       "    </tr>\n",
       "    <tr>\n",
       "      <th>3</th>\n",
       "      <td>Test Campaign</td>\n",
       "      <td>4.08.2019</td>\n",
       "      <td>2710</td>\n",
       "      <td>78451</td>\n",
       "      <td>25937</td>\n",
       "      <td>4216</td>\n",
       "      <td>2216</td>\n",
       "      <td>1437</td>\n",
       "      <td>566</td>\n",
       "      <td>340</td>\n",
       "    </tr>\n",
       "    <tr>\n",
       "      <th>4</th>\n",
       "      <td>Test Campaign</td>\n",
       "      <td>5.08.2019</td>\n",
       "      <td>2297</td>\n",
       "      <td>114295</td>\n",
       "      <td>95138</td>\n",
       "      <td>5863</td>\n",
       "      <td>2106</td>\n",
       "      <td>858</td>\n",
       "      <td>956</td>\n",
       "      <td>768</td>\n",
       "    </tr>\n",
       "  </tbody>\n",
       "</table>\n",
       "</div>"
      ],
      "text/plain": [
       "   Campaign Name       Date  Spend [USD]  # of Impressions  Reach  \\\n",
       "0  Test Campaign  1.08.2019         3008             39550  35820   \n",
       "1  Test Campaign  2.08.2019         2542            100719  91236   \n",
       "2  Test Campaign  3.08.2019         2365             70263  45198   \n",
       "3  Test Campaign  4.08.2019         2710             78451  25937   \n",
       "4  Test Campaign  5.08.2019         2297            114295  95138   \n",
       "\n",
       "   # of Website Clicks  # of Searches  # of View Content  # of Add to Cart  \\\n",
       "0                 3038           1946               1069               894   \n",
       "1                 4657           2359               1548               879   \n",
       "2                 7885           2572               2367              1268   \n",
       "3                 4216           2216               1437               566   \n",
       "4                 5863           2106                858               956   \n",
       "\n",
       "   # of Purchase  \n",
       "0            255  \n",
       "1            677  \n",
       "2            578  \n",
       "3            340  \n",
       "4            768  "
      ]
     },
     "execution_count": 20,
     "metadata": {},
     "output_type": "execute_result"
    }
   ],
   "source": [
    "df_test_gp.head()"
   ]
  },
  {
   "cell_type": "markdown",
   "id": "96fe8446",
   "metadata": {
    "papermill": {
     "duration": 0.008561,
     "end_time": "2024-12-09T20:32:44.593755",
     "exception": false,
     "start_time": "2024-12-09T20:32:44.585194",
     "status": "completed"
    },
    "tags": []
   },
   "source": [
    "#### Converting date format"
   ]
  },
  {
   "cell_type": "code",
   "execution_count": 21,
   "id": "8c978f7d",
   "metadata": {
    "execution": {
     "iopub.execute_input": "2024-12-09T20:32:44.612890Z",
     "iopub.status.busy": "2024-12-09T20:32:44.612466Z",
     "iopub.status.idle": "2024-12-09T20:32:44.619194Z",
     "shell.execute_reply": "2024-12-09T20:32:44.617991Z"
    },
    "papermill": {
     "duration": 0.018605,
     "end_time": "2024-12-09T20:32:44.621261",
     "exception": false,
     "start_time": "2024-12-09T20:32:44.602656",
     "status": "completed"
    },
    "tags": []
   },
   "outputs": [],
   "source": [
    "df_test_gp['Date'] = pd.to_datetime(df_test_gp['Date'], format = \"%d.%m.%Y\")"
   ]
  },
  {
   "cell_type": "code",
   "execution_count": 22,
   "id": "5757366b",
   "metadata": {
    "execution": {
     "iopub.execute_input": "2024-12-09T20:32:44.640018Z",
     "iopub.status.busy": "2024-12-09T20:32:44.639629Z",
     "iopub.status.idle": "2024-12-09T20:32:44.653339Z",
     "shell.execute_reply": "2024-12-09T20:32:44.652016Z"
    },
    "papermill": {
     "duration": 0.025803,
     "end_time": "2024-12-09T20:32:44.655644",
     "exception": false,
     "start_time": "2024-12-09T20:32:44.629841",
     "status": "completed"
    },
    "tags": []
   },
   "outputs": [
    {
     "data": {
      "text/html": [
       "<div>\n",
       "<style scoped>\n",
       "    .dataframe tbody tr th:only-of-type {\n",
       "        vertical-align: middle;\n",
       "    }\n",
       "\n",
       "    .dataframe tbody tr th {\n",
       "        vertical-align: top;\n",
       "    }\n",
       "\n",
       "    .dataframe thead th {\n",
       "        text-align: right;\n",
       "    }\n",
       "</style>\n",
       "<table border=\"1\" class=\"dataframe\">\n",
       "  <thead>\n",
       "    <tr style=\"text-align: right;\">\n",
       "      <th></th>\n",
       "      <th>Campaign Name</th>\n",
       "      <th>Date</th>\n",
       "      <th>Spend [USD]</th>\n",
       "      <th># of Impressions</th>\n",
       "      <th>Reach</th>\n",
       "      <th># of Website Clicks</th>\n",
       "      <th># of Searches</th>\n",
       "      <th># of View Content</th>\n",
       "      <th># of Add to Cart</th>\n",
       "      <th># of Purchase</th>\n",
       "    </tr>\n",
       "  </thead>\n",
       "  <tbody>\n",
       "    <tr>\n",
       "      <th>0</th>\n",
       "      <td>Test Campaign</td>\n",
       "      <td>2019-08-01</td>\n",
       "      <td>3008</td>\n",
       "      <td>39550</td>\n",
       "      <td>35820</td>\n",
       "      <td>3038</td>\n",
       "      <td>1946</td>\n",
       "      <td>1069</td>\n",
       "      <td>894</td>\n",
       "      <td>255</td>\n",
       "    </tr>\n",
       "    <tr>\n",
       "      <th>1</th>\n",
       "      <td>Test Campaign</td>\n",
       "      <td>2019-08-02</td>\n",
       "      <td>2542</td>\n",
       "      <td>100719</td>\n",
       "      <td>91236</td>\n",
       "      <td>4657</td>\n",
       "      <td>2359</td>\n",
       "      <td>1548</td>\n",
       "      <td>879</td>\n",
       "      <td>677</td>\n",
       "    </tr>\n",
       "    <tr>\n",
       "      <th>2</th>\n",
       "      <td>Test Campaign</td>\n",
       "      <td>2019-08-03</td>\n",
       "      <td>2365</td>\n",
       "      <td>70263</td>\n",
       "      <td>45198</td>\n",
       "      <td>7885</td>\n",
       "      <td>2572</td>\n",
       "      <td>2367</td>\n",
       "      <td>1268</td>\n",
       "      <td>578</td>\n",
       "    </tr>\n",
       "    <tr>\n",
       "      <th>3</th>\n",
       "      <td>Test Campaign</td>\n",
       "      <td>2019-08-04</td>\n",
       "      <td>2710</td>\n",
       "      <td>78451</td>\n",
       "      <td>25937</td>\n",
       "      <td>4216</td>\n",
       "      <td>2216</td>\n",
       "      <td>1437</td>\n",
       "      <td>566</td>\n",
       "      <td>340</td>\n",
       "    </tr>\n",
       "    <tr>\n",
       "      <th>4</th>\n",
       "      <td>Test Campaign</td>\n",
       "      <td>2019-08-05</td>\n",
       "      <td>2297</td>\n",
       "      <td>114295</td>\n",
       "      <td>95138</td>\n",
       "      <td>5863</td>\n",
       "      <td>2106</td>\n",
       "      <td>858</td>\n",
       "      <td>956</td>\n",
       "      <td>768</td>\n",
       "    </tr>\n",
       "  </tbody>\n",
       "</table>\n",
       "</div>"
      ],
      "text/plain": [
       "   Campaign Name       Date  Spend [USD]  # of Impressions  Reach  \\\n",
       "0  Test Campaign 2019-08-01         3008             39550  35820   \n",
       "1  Test Campaign 2019-08-02         2542            100719  91236   \n",
       "2  Test Campaign 2019-08-03         2365             70263  45198   \n",
       "3  Test Campaign 2019-08-04         2710             78451  25937   \n",
       "4  Test Campaign 2019-08-05         2297            114295  95138   \n",
       "\n",
       "   # of Website Clicks  # of Searches  # of View Content  # of Add to Cart  \\\n",
       "0                 3038           1946               1069               894   \n",
       "1                 4657           2359               1548               879   \n",
       "2                 7885           2572               2367              1268   \n",
       "3                 4216           2216               1437               566   \n",
       "4                 5863           2106                858               956   \n",
       "\n",
       "   # of Purchase  \n",
       "0            255  \n",
       "1            677  \n",
       "2            578  \n",
       "3            340  \n",
       "4            768  "
      ]
     },
     "execution_count": 22,
     "metadata": {},
     "output_type": "execute_result"
    }
   ],
   "source": [
    "df_test_gp.head()"
   ]
  },
  {
   "cell_type": "code",
   "execution_count": 23,
   "id": "2d3c33d6",
   "metadata": {
    "execution": {
     "iopub.execute_input": "2024-12-09T20:32:44.675377Z",
     "iopub.status.busy": "2024-12-09T20:32:44.674945Z",
     "iopub.status.idle": "2024-12-09T20:32:44.681196Z",
     "shell.execute_reply": "2024-12-09T20:32:44.680106Z"
    },
    "papermill": {
     "duration": 0.01894,
     "end_time": "2024-12-09T20:32:44.683397",
     "exception": false,
     "start_time": "2024-12-09T20:32:44.664457",
     "status": "completed"
    },
    "tags": []
   },
   "outputs": [],
   "source": [
    "df_test_gp.rename(columns={\n",
    "    'Campaign Name': 'Campaign',\n",
    "    'Date': 'Date',\n",
    "    'Spend [USD]': 'Spend_USD',\n",
    "    '# of Impressions': 'Impressions',\n",
    "    'Reach': 'Reach',\n",
    "    '# of Website Clicks': 'Website_Clicks',\n",
    "    '# of Searches': 'Searches',\n",
    "    '# of View Content': 'Views',\n",
    "    '# of Add to Cart': 'Add_to_Cart',\n",
    "    '# of Purchase': 'Purchases'\n",
    "}, inplace=True)\n"
   ]
  },
  {
   "cell_type": "code",
   "execution_count": 24,
   "id": "d1f8ba1e",
   "metadata": {
    "execution": {
     "iopub.execute_input": "2024-12-09T20:32:44.703210Z",
     "iopub.status.busy": "2024-12-09T20:32:44.702772Z",
     "iopub.status.idle": "2024-12-09T20:32:44.715515Z",
     "shell.execute_reply": "2024-12-09T20:32:44.714495Z"
    },
    "papermill": {
     "duration": 0.02492,
     "end_time": "2024-12-09T20:32:44.717502",
     "exception": false,
     "start_time": "2024-12-09T20:32:44.692582",
     "status": "completed"
    },
    "tags": []
   },
   "outputs": [
    {
     "data": {
      "text/html": [
       "<div>\n",
       "<style scoped>\n",
       "    .dataframe tbody tr th:only-of-type {\n",
       "        vertical-align: middle;\n",
       "    }\n",
       "\n",
       "    .dataframe tbody tr th {\n",
       "        vertical-align: top;\n",
       "    }\n",
       "\n",
       "    .dataframe thead th {\n",
       "        text-align: right;\n",
       "    }\n",
       "</style>\n",
       "<table border=\"1\" class=\"dataframe\">\n",
       "  <thead>\n",
       "    <tr style=\"text-align: right;\">\n",
       "      <th></th>\n",
       "      <th>Campaign</th>\n",
       "      <th>Date</th>\n",
       "      <th>Spend_USD</th>\n",
       "      <th>Impressions</th>\n",
       "      <th>Reach</th>\n",
       "      <th>Website_Clicks</th>\n",
       "      <th>Searches</th>\n",
       "      <th>Views</th>\n",
       "      <th>Add_to_Cart</th>\n",
       "      <th>Purchases</th>\n",
       "    </tr>\n",
       "  </thead>\n",
       "  <tbody>\n",
       "    <tr>\n",
       "      <th>0</th>\n",
       "      <td>Test Campaign</td>\n",
       "      <td>2019-08-01</td>\n",
       "      <td>3008</td>\n",
       "      <td>39550</td>\n",
       "      <td>35820</td>\n",
       "      <td>3038</td>\n",
       "      <td>1946</td>\n",
       "      <td>1069</td>\n",
       "      <td>894</td>\n",
       "      <td>255</td>\n",
       "    </tr>\n",
       "    <tr>\n",
       "      <th>1</th>\n",
       "      <td>Test Campaign</td>\n",
       "      <td>2019-08-02</td>\n",
       "      <td>2542</td>\n",
       "      <td>100719</td>\n",
       "      <td>91236</td>\n",
       "      <td>4657</td>\n",
       "      <td>2359</td>\n",
       "      <td>1548</td>\n",
       "      <td>879</td>\n",
       "      <td>677</td>\n",
       "    </tr>\n",
       "    <tr>\n",
       "      <th>2</th>\n",
       "      <td>Test Campaign</td>\n",
       "      <td>2019-08-03</td>\n",
       "      <td>2365</td>\n",
       "      <td>70263</td>\n",
       "      <td>45198</td>\n",
       "      <td>7885</td>\n",
       "      <td>2572</td>\n",
       "      <td>2367</td>\n",
       "      <td>1268</td>\n",
       "      <td>578</td>\n",
       "    </tr>\n",
       "    <tr>\n",
       "      <th>3</th>\n",
       "      <td>Test Campaign</td>\n",
       "      <td>2019-08-04</td>\n",
       "      <td>2710</td>\n",
       "      <td>78451</td>\n",
       "      <td>25937</td>\n",
       "      <td>4216</td>\n",
       "      <td>2216</td>\n",
       "      <td>1437</td>\n",
       "      <td>566</td>\n",
       "      <td>340</td>\n",
       "    </tr>\n",
       "    <tr>\n",
       "      <th>4</th>\n",
       "      <td>Test Campaign</td>\n",
       "      <td>2019-08-05</td>\n",
       "      <td>2297</td>\n",
       "      <td>114295</td>\n",
       "      <td>95138</td>\n",
       "      <td>5863</td>\n",
       "      <td>2106</td>\n",
       "      <td>858</td>\n",
       "      <td>956</td>\n",
       "      <td>768</td>\n",
       "    </tr>\n",
       "  </tbody>\n",
       "</table>\n",
       "</div>"
      ],
      "text/plain": [
       "        Campaign       Date  Spend_USD  Impressions  Reach  Website_Clicks  \\\n",
       "0  Test Campaign 2019-08-01       3008        39550  35820            3038   \n",
       "1  Test Campaign 2019-08-02       2542       100719  91236            4657   \n",
       "2  Test Campaign 2019-08-03       2365        70263  45198            7885   \n",
       "3  Test Campaign 2019-08-04       2710        78451  25937            4216   \n",
       "4  Test Campaign 2019-08-05       2297       114295  95138            5863   \n",
       "\n",
       "   Searches  Views  Add_to_Cart  Purchases  \n",
       "0      1946   1069          894        255  \n",
       "1      2359   1548          879        677  \n",
       "2      2572   2367         1268        578  \n",
       "3      2216   1437          566        340  \n",
       "4      2106    858          956        768  "
      ]
     },
     "execution_count": 24,
     "metadata": {},
     "output_type": "execute_result"
    }
   ],
   "source": [
    "df_test_gp.head()"
   ]
  },
  {
   "cell_type": "markdown",
   "id": "eb3a73e0",
   "metadata": {
    "papermill": {
     "duration": 0.008687,
     "end_time": "2024-12-09T20:32:44.735050",
     "exception": false,
     "start_time": "2024-12-09T20:32:44.726363",
     "status": "completed"
    },
    "tags": []
   },
   "source": [
    "## Step-2: Data Exploration"
   ]
  },
  {
   "cell_type": "code",
   "execution_count": null,
   "id": "5f629130",
   "metadata": {
    "papermill": {
     "duration": 0.009394,
     "end_time": "2024-12-09T20:32:44.753391",
     "exception": false,
     "start_time": "2024-12-09T20:32:44.743997",
     "status": "completed"
    },
    "tags": []
   },
   "outputs": [],
   "source": []
  },
  {
   "cell_type": "code",
   "execution_count": 25,
   "id": "50803133",
   "metadata": {
    "execution": {
     "iopub.execute_input": "2024-12-09T20:32:44.773142Z",
     "iopub.status.busy": "2024-12-09T20:32:44.772715Z",
     "iopub.status.idle": "2024-12-09T20:32:45.102249Z",
     "shell.execute_reply": "2024-12-09T20:32:45.100934Z"
    },
    "papermill": {
     "duration": 0.341925,
     "end_time": "2024-12-09T20:32:45.104456",
     "exception": false,
     "start_time": "2024-12-09T20:32:44.762531",
     "status": "completed"
    },
    "tags": []
   },
   "outputs": [
    {
     "data": {
      "image/png": "[encoded data removed]",
      "text/plain": [
       "<Figure size 640x480 with 1 Axes>"
      ]
     },
     "metadata": {},
     "output_type": "display_data"
    }
   ],
   "source": [
    "import matplotlib.pyplot as plt\n",
    "\n",
    "df_control_gp['Purchases'].hist(alpha=0.5,label = \"control\")\n",
    "df_test_gp['Purchases'].hist(alpha = 0.5, label = \"test\")\n",
    "plt.legend()\n",
    "plt.show()"
   ]
  },
  {
   "cell_type": "code",
   "execution_count": null,
   "id": "7d979075",
   "metadata": {
    "papermill": {
     "duration": 0.009608,
     "end_time": "2024-12-09T20:32:45.123493",
     "exception": false,
     "start_time": "2024-12-09T20:32:45.113885",
     "status": "completed"
    },
    "tags": []
   },
   "outputs": [],
   "source": []
  }
 ],
 "metadata": {
  "kaggle": {
   "accelerator": "none",
   "dataSources": [
    {
     "datasetId": 3714414,
     "sourceId": 6436332,
     "sourceType": "datasetVersion"
    }
   ],
   "dockerImageVersionId": 30804,
   "isGpuEnabled": false,
   "isInternetEnabled": true,
   "language": "python",
   "sourceType": "notebook"
  },
  "kernelspec": {
   "display_name": "Python 3",
   "language": "python",
   "name": "python3"
  },
  "language_info": {
   "codemirror_mode": {
    "name": "ipython",
    "version": 3
   },
   "file_extension": ".py",
   "mimetype": "text/x-python",
   "name": "python",
   "nbconvert_exporter": "python",
   "pygments_lexer": "ipython3",
   "version": "3.10.14"
  },
  "papermill": {
   "default_parameters": {},
   "duration": 5.748209,
   "end_time": "2024-12-09T20:32:45.655638",
   "environment_variables": {},
   "exception": null,
   "input_path": "__notebook__.ipynb",
   "output_path": "__notebook__.ipynb",
   "parameters": {},
   "start_time": "2024-12-09T20:32:39.907429",
   "version": "2.6.0"
  }
 },
 "nbformat": 4,
 "nbformat_minor": 5
}
